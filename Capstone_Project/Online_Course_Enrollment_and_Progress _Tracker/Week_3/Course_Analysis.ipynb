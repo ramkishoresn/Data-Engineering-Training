{
  "nbformat": 4,
  "nbformat_minor": 0,
  "metadata": {
    "colab": {
      "provenance": []
    },
    "kernelspec": {
      "name": "python3",
      "display_name": "Python 3"
    },
    "language_info": {
      "name": "python"
    }
  },
  "cells": [
    {
      "cell_type": "code",
      "source": [
        "from pyspark.sql import SparkSession\n",
        "from pyspark.sql.functions import col, count, sum, avg, when, lit, coalesce, round, desc\n",
        "\n",
        "# 1. Initialize Spark Session (Mandatory for PySpark execution)\n",
        "spark = SparkSession.builder.appName(\"Week3CourseAnalysis\").getOrCreate()\n",
        "print(\"PySpark session initialized.\")\n",
        "\n",
        "# --- 2. Load Large Enrollment and Progress Data (Using Week 2 Cleaned Data Structure) ---\n",
        "# Simulates loading a large, merged file from distributed storage (e.g., S3/ADLS).\n",
        "# Data columns correspond to the output of the Week 2 cleaning step.\n",
        "data_week2_cleaned = [\n",
        "    (1, 101, 501, 10, 4.0, 'In Progress'),\n",
        "    (2, 102, 502, 8, 8.0, 'Completed'),\n",
        "    (3, 103, 501, 10, 1.0, 'In Progress'),\n",
        "    (4, 101, 503, 12, 0.0, 'Dropped'),\n",
        "    (5, 104, 504, 15, 3.0, 'In Progress'),\n",
        "    (6, 105, 501, 10, 0.0, 'In Progress'),\n",
        "    (7, 106, 502, 8, 12.0, 'Completed'),   # Over-completed student (tests clipping)\n",
        "    (8, 107, 503, 12, 6.0, 'In Progress'),\n",
        "    (9, 108, 503, 12, 0.0, 'Dropped')\n",
        "]\n",
        "columns = [\"enrollment_id\", \"student_id\", \"course_id\", \"total_modules\", \"modules_completed\", \"completion_status\"]\n",
        "\n",
        "df_data = spark.createDataFrame(data_week2_cleaned, columns)\n",
        "\n",
        "# --- 3. Join Tables to Get Course-wise Progress (Calculation and Flags) ---\n",
        "# *The logic here is PySpark's way of executing the 'Join tables' task.*\n",
        "\n",
        "# Calculate completion percentage and clip values at 100%\n",
        "df_progress_calculated = df_data.withColumn(\n",
        "    \"completion_percentage\",\n",
        "    (col(\"modules_completed\") / col(\"total_modules\")) * 100\n",
        ").withColumn(\n",
        "    # Ensure percentage does not exceed 100%\n",
        "    \"completion_percentage\",\n",
        "    when(col(\"completion_percentage\") > 100, 100).otherwise(col(\"completion_percentage\"))\n",
        ")\n",
        "\n",
        "# Create binary flags for aggregation: 1 if the condition is met, 0 otherwise\n",
        "df_flags = df_progress_calculated.withColumn(\n",
        "    \"is_completed\",\n",
        "    when(col(\"completion_percentage\") >= 100, 1).otherwise(0)\n",
        ").withColumn(\n",
        "    \"is_dropped\",\n",
        "    when(col(\"completion_status\") == \"Dropped\", 1).otherwise(0)\n",
        ")\n",
        "\n",
        "# --- 4. Group by Course to Count Total Enrolled and Completed Students (Aggregation) ---\n",
        "\n",
        "df_analysis = df_flags.groupBy(\"course_id\").agg(\n",
        "    count(col(\"student_id\")).alias(\"total_enrolled\"),\n",
        "    sum(col(\"is_completed\")).alias(\"total_completed_count\"),\n",
        "    sum(col(\"is_dropped\")).alias(\"total_dropped_count\"),\n",
        "    round(avg(col(\"completion_percentage\")), 2).alias(\"avg_progress_percent\")\n",
        ")\n",
        "\n",
        "# --- DELIVERABLE: Output Showing Top Completed and Dropped-out Courses ---\n",
        "\n",
        "\n",
        "# Output 1: Top Completed Courses\n",
        "print(\"\\n--- Top Courses by Completed Students ---\")\n",
        "df_completed_ranking = df_analysis.orderBy(desc(\"total_completed_count\"))\n",
        "df_completed_ranking.show(5, False)\n",
        "\n",
        "# Output 2: Top Dropped-out Courses\n",
        "print(\"\\n--- Top Courses by Dropped-out Students ---\")\n",
        "df_dropped_ranking = df_analysis.orderBy(desc(\"total_dropped_count\"))\n",
        "df_dropped_ranking.show(5, False)\n",
        "\n",
        "# Stop the Spark session\n",
        "spark.stop()"
      ],
      "metadata": {
        "colab": {
          "base_uri": "https://localhost:8080/"
        },
        "id": "5MOt1AFbYVYv",
        "outputId": "9600fb1c-dd37-4ad9-a392-e3c4f00bbed5"
      },
      "execution_count": 4,
      "outputs": [
        {
          "output_type": "stream",
          "name": "stdout",
          "text": [
            "PySpark session initialized.\n",
            "\n",
            "--- Top Courses by Completed Students ---\n",
            "+---------+--------------+---------------------+-------------------+--------------------+\n",
            "|course_id|total_enrolled|total_completed_count|total_dropped_count|avg_progress_percent|\n",
            "+---------+--------------+---------------------+-------------------+--------------------+\n",
            "|502      |2             |2                    |0                  |100.0               |\n",
            "|501      |3             |0                    |0                  |16.67               |\n",
            "|503      |3             |0                    |2                  |16.67               |\n",
            "|504      |1             |0                    |0                  |20.0                |\n",
            "+---------+--------------+---------------------+-------------------+--------------------+\n",
            "\n",
            "\n",
            "--- Top Courses by Dropped-out Students ---\n",
            "+---------+--------------+---------------------+-------------------+--------------------+\n",
            "|course_id|total_enrolled|total_completed_count|total_dropped_count|avg_progress_percent|\n",
            "+---------+--------------+---------------------+-------------------+--------------------+\n",
            "|503      |3             |0                    |2                  |16.67               |\n",
            "|502      |2             |2                    |0                  |100.0               |\n",
            "|501      |3             |0                    |0                  |16.67               |\n",
            "|504      |1             |0                    |0                  |20.0                |\n",
            "+---------+--------------+---------------------+-------------------+--------------------+\n",
            "\n"
          ]
        }
      ]
    }
  ]
}
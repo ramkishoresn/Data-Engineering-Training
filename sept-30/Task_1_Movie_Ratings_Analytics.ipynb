{
  "nbformat": 4,
  "nbformat_minor": 0,
  "metadata": {
    "colab": {
      "provenance": []
    },
    "kernelspec": {
      "name": "python3",
      "display_name": "Python 3"
    },
    "language_info": {
      "name": "python"
    }
  },
  "cells": [
    {
      "cell_type": "code",
      "execution_count": 1,
      "metadata": {
        "id": "eaGH7B1dxbTu"
      },
      "outputs": [],
      "source": [
        "!pip install -q pyspark\n",
        "\n",
        "\n",
        "from pyspark.sql import SparkSession\n",
        "from pyspark.sql import functions as F\n",
        "from pyspark.sql.window import Window\n",
        "\n",
        "\n",
        "spark = SparkSession.builder.appName(\"Movie-Capstone\").getOrCreate()\n",
        "sc = spark.sparkContext"
      ]
    },
    {
      "cell_type": "code",
      "source": [
        "users_data = [\n",
        "(1, \"Rahul\", 25, \"Bangalore\"),\n",
        "(2, \"Priya\", 30, \"Delhi\"),\n",
        "(3, \"Aman\", 22, \"Hyderabad\"),\n",
        "(4, \"Sneha\", 28, \"Chennai\"),\n",
        "(5, \"Arjun\", 35, \"Mumbai\")\n",
        "]\n",
        "users_cols = [\"user_id\", \"name\", \"age\", \"city\"]\n",
        "users_df = spark.createDataFrame(users_data, users_cols)"
      ],
      "metadata": {
        "id": "8-HnVevkxqXw"
      },
      "execution_count": 2,
      "outputs": []
    },
    {
      "cell_type": "code",
      "source": [
        "movies_data = [\n",
        "(101, \"Inception\", \"Sci-Fi\", 2010),\n",
        "(102, \"Avengers\", \"Action\", 2012),\n",
        "(103, \"3 Idiots\", \"Comedy\", 2009),\n",
        "(104, \"Dangal\", \"Drama\", 2016),\n",
        "(105, \"Interstellar\", \"Sci-Fi\", 2014)\n",
        "]\n",
        "movies_cols = [\"movie_id\", \"title\", \"genre\", \"year\"]\n",
        "movies_df = spark.createDataFrame(movies_data, movies_cols)"
      ],
      "metadata": {
        "id": "BYP4B2W8x80k"
      },
      "execution_count": 3,
      "outputs": []
    },
    {
      "cell_type": "code",
      "source": [
        "ratings_data = [\n",
        "(1, 101, 5),\n",
        "(2, 101, 4),\n",
        "(1, 102, 3),\n",
        "(3, 103, 4),\n",
        "(4, 104, 5),\n",
        "(2, 103, 5),\n",
        "(5, 105, 4),\n",
        "(6, 101, 5) # Rating from non-existent user (user_id = 6)\n",
        "]\n",
        "ratings_cols = [\"user_id\", \"movie_id\", \"rating\"]\n",
        "ratings_df = spark.createDataFrame(ratings_data, ratings_cols)\n",
        "\n",
        "\n",
        "print(\"Data prepared.\\n\")"
      ],
      "metadata": {
        "colab": {
          "base_uri": "https://localhost:8080/"
        },
        "id": "R0bAxEV9yGDv",
        "outputId": "f0f9068c-0b43-4f7b-f134-f6bd8dd45cce"
      },
      "execution_count": 4,
      "outputs": [
        {
          "output_type": "stream",
          "name": "stdout",
          "text": [
            "Data prepared.\n",
            "\n"
          ]
        }
      ]
    },
    {
      "cell_type": "code",
      "source": [
        "print(\"Users:\")\n",
        "users_df.show()\n",
        "print(\"Movies:\")\n",
        "movies_df.show()\n",
        "print(\"Ratings:\")\n",
        "ratings_df.show()"
      ],
      "metadata": {
        "colab": {
          "base_uri": "https://localhost:8080/"
        },
        "id": "L38YMsO7yIGm",
        "outputId": "b91493dd-3626-4b73-a12d-50a7ec45bba6"
      },
      "execution_count": 5,
      "outputs": [
        {
          "output_type": "stream",
          "name": "stdout",
          "text": [
            "Users:\n",
            "+-------+-----+---+---------+\n",
            "|user_id| name|age|     city|\n",
            "+-------+-----+---+---------+\n",
            "|      1|Rahul| 25|Bangalore|\n",
            "|      2|Priya| 30|    Delhi|\n",
            "|      3| Aman| 22|Hyderabad|\n",
            "|      4|Sneha| 28|  Chennai|\n",
            "|      5|Arjun| 35|   Mumbai|\n",
            "+-------+-----+---+---------+\n",
            "\n",
            "Movies:\n",
            "+--------+------------+------+----+\n",
            "|movie_id|       title| genre|year|\n",
            "+--------+------------+------+----+\n",
            "|     101|   Inception|Sci-Fi|2010|\n",
            "|     102|    Avengers|Action|2012|\n",
            "|     103|    3 Idiots|Comedy|2009|\n",
            "|     104|      Dangal| Drama|2016|\n",
            "|     105|Interstellar|Sci-Fi|2014|\n",
            "+--------+------------+------+----+\n",
            "\n",
            "Ratings:\n",
            "+-------+--------+------+\n",
            "|user_id|movie_id|rating|\n",
            "+-------+--------+------+\n",
            "|      1|     101|     5|\n",
            "|      2|     101|     4|\n",
            "|      1|     102|     3|\n",
            "|      3|     103|     4|\n",
            "|      4|     104|     5|\n",
            "|      2|     103|     5|\n",
            "|      5|     105|     4|\n",
            "|      6|     101|     5|\n",
            "+-------+--------+------+\n",
            "\n"
          ]
        }
      ]
    },
    {
      "cell_type": "code",
      "source": [
        "older_than_28 = users_df.filter(F.col(\"age\") > 28)\n",
        "print(\"Users older than 28:\")\n",
        "older_than_28.show()\n",
        "\n",
        "\n",
        "distinct_genres = movies_df.select(\"genre\").distinct()\n",
        "print(\"Distinct movie genres:\")\n",
        "distinct_genres.show()\n",
        "\n",
        "\n",
        "movies_after_2010 = movies_df.filter(F.col(\"year\") > 2010)\n",
        "print(\"Movies released after 2010:\")\n",
        "movies_after_2010.show()"
      ],
      "metadata": {
        "colab": {
          "base_uri": "https://localhost:8080/"
        },
        "id": "7xOa3J_lySWd",
        "outputId": "356609ac-f950-4740-8db1-597e8d1009ae"
      },
      "execution_count": 6,
      "outputs": [
        {
          "output_type": "stream",
          "name": "stdout",
          "text": [
            "Users older than 28:\n",
            "+-------+-----+---+------+\n",
            "|user_id| name|age|  city|\n",
            "+-------+-----+---+------+\n",
            "|      2|Priya| 30| Delhi|\n",
            "|      5|Arjun| 35|Mumbai|\n",
            "+-------+-----+---+------+\n",
            "\n",
            "Distinct movie genres:\n",
            "+------+\n",
            "| genre|\n",
            "+------+\n",
            "|Action|\n",
            "|Sci-Fi|\n",
            "| Drama|\n",
            "|Comedy|\n",
            "+------+\n",
            "\n",
            "Movies released after 2010:\n",
            "+--------+------------+------+----+\n",
            "|movie_id|       title| genre|year|\n",
            "+--------+------------+------+----+\n",
            "|     102|    Avengers|Action|2012|\n",
            "|     104|      Dangal| Drama|2016|\n",
            "|     105|Interstellar|Sci-Fi|2014|\n",
            "+--------+------------+------+----+\n",
            "\n"
          ]
        }
      ]
    },
    {
      "cell_type": "code",
      "source": [
        "avg_age_per_city = users_df.groupBy(\"city\").agg(F.round(F.avg(\"age\"),2).alias(\"avg_age\"))\n",
        "print(\"Average age of users per city:\")\n",
        "avg_age_per_city.show()\n",
        "\n",
        "\n",
        "avg_rating_per_movie = ratings_df.groupBy(\"movie_id\").agg(F.round(F.avg(\"rating\"),2).alias(\"avg_rating\"))\n",
        "print(\"Average rating per movie (movie_id):\")\n",
        "avg_rating_per_movie.show()\n",
        "avg_rating_with_title = avg_rating_per_movie.join(movies_df, on=\"movie_id\", how=\"left\").select(\"movie_id\",\"title\",\"avg_rating\")\n",
        "print(\"Average rating per movie (with title):\")\n",
        "avf = avg_rating_with_title\n",
        "avf.show()\n",
        "\n",
        "avg_movie_ratings = ratings_df.groupBy(\"movie_id\").agg(F.avg(\"rating\").alias(\"avg_rating\"))\n",
        "avg_movie_with_meta = avg_movie_ratings.join(movies_df, on=\"movie_id\", how=\"left\")\n",
        "w = Window.partitionBy(\"genre\").orderBy(F.desc(\"avg_rating\"), F.asc(\"movie_id\"))\n",
        "ranked = avg_movie_with_meta.withColumn(\"rank\", F.row_number().over(w))\n",
        "top_per_genre = ranked.filter(F.col(\"rank\") == 1).select(\"genre\",\"movie_id\",\"title\",F.round(F.col(\"avg_rating\"),2).alias(\"avg_rating\"))\n",
        "print(\"Highest-rated movie in each genre (by average rating):\")\n",
        "top_per_genre.show()"
      ],
      "metadata": {
        "colab": {
          "base_uri": "https://localhost:8080/"
        },
        "id": "_5-d_TsbycQH",
        "outputId": "1e2c85e4-2377-434c-da62-7f32d75502b2"
      },
      "execution_count": 7,
      "outputs": [
        {
          "output_type": "stream",
          "name": "stdout",
          "text": [
            "Average age of users per city:\n",
            "+---------+-------+\n",
            "|     city|avg_age|\n",
            "+---------+-------+\n",
            "|Bangalore|   25.0|\n",
            "|    Delhi|   30.0|\n",
            "|  Chennai|   28.0|\n",
            "|   Mumbai|   35.0|\n",
            "|Hyderabad|   22.0|\n",
            "+---------+-------+\n",
            "\n",
            "Average rating per movie (movie_id):\n",
            "+--------+----------+\n",
            "|movie_id|avg_rating|\n",
            "+--------+----------+\n",
            "|     103|       4.5|\n",
            "|     101|      4.67|\n",
            "|     102|       3.0|\n",
            "|     104|       5.0|\n",
            "|     105|       4.0|\n",
            "+--------+----------+\n",
            "\n",
            "Average rating per movie (with title):\n",
            "+--------+------------+----------+\n",
            "|movie_id|       title|avg_rating|\n",
            "+--------+------------+----------+\n",
            "|     103|    3 Idiots|       4.5|\n",
            "|     101|   Inception|      4.67|\n",
            "|     102|    Avengers|       3.0|\n",
            "|     104|      Dangal|       5.0|\n",
            "|     105|Interstellar|       4.0|\n",
            "+--------+------------+----------+\n",
            "\n",
            "Highest-rated movie in each genre (by average rating):\n",
            "+------+--------+---------+----------+\n",
            "| genre|movie_id|    title|avg_rating|\n",
            "+------+--------+---------+----------+\n",
            "|Action|     102| Avengers|       3.0|\n",
            "|Comedy|     103| 3 Idiots|       4.5|\n",
            "| Drama|     104|   Dangal|       5.0|\n",
            "|Sci-Fi|     101|Inception|      4.67|\n",
            "+------+--------+---------+----------+\n",
            "\n"
          ]
        }
      ]
    },
    {
      "cell_type": "code",
      "source": [
        "ratings_users = ratings_df.join(users_df, on=\"user_id\", how=\"left\").select(\"user_id\",\"name\",\"movie_id\",\"rating\")\n",
        "print(\"Ratings joined with users (who rated what):\")\n",
        "ratings_users.show()\n",
        "\n",
        "\n",
        "ratings_movies = ratings_df.join(movies_df, on=\"movie_id\", how=\"left\").select(\"movie_id\",\"title\",\"user_id\",\"rating\")\n",
        "print(\"Ratings joined with movies (ratings with movie names):\")\n",
        "ratings_movies.show()\n",
        "\n",
        "\n",
        "users_no_ratings = users_df.join(ratings_df, on=\"user_id\", how=\"left_anti\")\n",
        "print(\"Users who have not rated any movie:\")\n",
        "users_no_ratings.show()\n",
        "\n",
        "\n",
        "movies_no_ratings = movies_df.join(ratings_df, on=\"movie_id\", how=\"left_anti\")\n",
        "print(\"Movies that have never been rated:\")\n",
        "movies_no_ratings.show()\n",
        "\n",
        "\n",
        "print(\"Ratings with unknown users (user_id not in users table):\")\n",
        "unknown_user_ratings = ratings_df.join(users_df, on=\"user_id\", how=\"left_anti\")\n",
        "unknown_user_ratings.show()"
      ],
      "metadata": {
        "colab": {
          "base_uri": "https://localhost:8080/"
        },
        "id": "KwroM2CKysi2",
        "outputId": "9ba8c9f7-12da-4aa0-c1ac-4afc6de34de4"
      },
      "execution_count": 8,
      "outputs": [
        {
          "output_type": "stream",
          "name": "stdout",
          "text": [
            "Ratings joined with users (who rated what):\n",
            "+-------+-----+--------+------+\n",
            "|user_id| name|movie_id|rating|\n",
            "+-------+-----+--------+------+\n",
            "|      1|Rahul|     101|     5|\n",
            "|      1|Rahul|     102|     3|\n",
            "|      3| Aman|     103|     4|\n",
            "|      2|Priya|     101|     4|\n",
            "|      6| NULL|     101|     5|\n",
            "|      5|Arjun|     105|     4|\n",
            "|      2|Priya|     103|     5|\n",
            "|      4|Sneha|     104|     5|\n",
            "+-------+-----+--------+------+\n",
            "\n",
            "Ratings joined with movies (ratings with movie names):\n",
            "+--------+------------+-------+------+\n",
            "|movie_id|       title|user_id|rating|\n",
            "+--------+------------+-------+------+\n",
            "|     103|    3 Idiots|      3|     4|\n",
            "|     101|   Inception|      1|     5|\n",
            "|     101|   Inception|      2|     4|\n",
            "|     102|    Avengers|      1|     3|\n",
            "|     103|    3 Idiots|      2|     5|\n",
            "|     104|      Dangal|      4|     5|\n",
            "|     105|Interstellar|      5|     4|\n",
            "|     101|   Inception|      6|     5|\n",
            "+--------+------------+-------+------+\n",
            "\n",
            "Users who have not rated any movie:\n",
            "+-------+----+---+----+\n",
            "|user_id|name|age|city|\n",
            "+-------+----+---+----+\n",
            "+-------+----+---+----+\n",
            "\n",
            "Movies that have never been rated:\n",
            "+--------+-----+-----+----+\n",
            "|movie_id|title|genre|year|\n",
            "+--------+-----+-----+----+\n",
            "+--------+-----+-----+----+\n",
            "\n",
            "Ratings with unknown users (user_id not in users table):\n",
            "+-------+--------+------+\n",
            "|user_id|movie_id|rating|\n",
            "+-------+--------+------+\n",
            "|      6|     101|     5|\n",
            "+-------+--------+------+\n",
            "\n"
          ]
        }
      ]
    },
    {
      "cell_type": "code",
      "source": [
        "users_df.createOrReplaceTempView(\"users\")\n",
        "movies_df.createOrReplaceTempView(\"movies\")\n",
        "ratings_df.createOrReplaceTempView(\"ratings\")\n",
        "print(\"Temp views registered: users, movies, ratings\")\n",
        "\n",
        "\n",
        "sql_top2_cities = spark.sql(\"\"\"\n",
        "SELECT u.city, COUNT(r.rating) AS ratings_count\n",
        "FROM ratings r\n",
        "JOIN users u ON r.user_id = u.user_id\n",
        "GROUP BY u.city\n",
        "ORDER BY ratings_count DESC\n",
        "LIMIT 2\n",
        "\"\"\")\n",
        "print(\"Top 2 cities by number of ratings (SQL):\")\n",
        "sql_top2_cities.show()\n",
        "\n",
        "\n",
        "sql_users_with_5 = spark.sql(\"\"\"\n",
        "SELECT DISTINCT u.user_id, u.name\n",
        "FROM users u\n",
        "JOIN ratings r ON u.user_id = r.user_id\n",
        "WHERE r.rating = 5\n",
        "\"\"\")\n",
        "print(\"Users who gave at least one 5-star rating (SQL):\")\n",
        "sql_users_with_5.show()\n",
        "\n",
        "\n",
        "sql_popular_genre = spark.sql(\"\"\"\n",
        "SELECT m.genre, COUNT(r.rating) AS ratings_count\n",
        "FROM ratings r\n",
        "JOIN movies m ON r.movie_id = m.movie_id\n",
        "GROUP BY m.genre\n",
        "ORDER BY ratings_count DESC\n",
        "LIMIT 1\n",
        "\"\"\")\n",
        "print(\"Most popular genre by number of ratings (SQL):\")\n",
        "sql_popular_genre.show()"
      ],
      "metadata": {
        "colab": {
          "base_uri": "https://localhost:8080/"
        },
        "id": "ewQg4NOdy57Y",
        "outputId": "690ef7b2-8007-469c-93a0-e104ee707ea8"
      },
      "execution_count": 9,
      "outputs": [
        {
          "output_type": "stream",
          "name": "stdout",
          "text": [
            "Temp views registered: users, movies, ratings\n",
            "Top 2 cities by number of ratings (SQL):\n",
            "+---------+-------------+\n",
            "|     city|ratings_count|\n",
            "+---------+-------------+\n",
            "|Bangalore|            2|\n",
            "|    Delhi|            2|\n",
            "+---------+-------------+\n",
            "\n",
            "Users who gave at least one 5-star rating (SQL):\n",
            "+-------+-----+\n",
            "|user_id| name|\n",
            "+-------+-----+\n",
            "|      1|Rahul|\n",
            "|      2|Priya|\n",
            "|      4|Sneha|\n",
            "+-------+-----+\n",
            "\n",
            "Most popular genre by number of ratings (SQL):\n",
            "+------+-------------+\n",
            "| genre|ratings_count|\n",
            "+------+-------------+\n",
            "|Sci-Fi|            4|\n",
            "+------+-------------+\n",
            "\n"
          ]
        }
      ]
    },
    {
      "cell_type": "code",
      "source": [
        "ratings_csv_path = \"/content/ratings_output_csv\"\n",
        "ratings_df.write.mode(\"overwrite\").option(\"header\", True).csv(ratings_csv_path)\n",
        "print(f\"Ratings saved as CSV at: {ratings_csv_path}\")\n",
        "ratings_loaded_csv = spark.read.option(\"header\", True).csv(ratings_csv_path)\n",
        "print(\"Ratings loaded back from CSV (schema and sample):\")\n",
        "ratings_loaded_csv.printSchema()\n",
        "ratings_loaded_csv.show()\n",
        "\n",
        "\n",
        "movies_json_path = \"/content/movies_output_json\"\n",
        "movies_df.write.mode(\"overwrite\").json(movies_json_path)\n",
        "print(f\"Movies saved as JSON at: {movies_json_path}\")\n",
        "movies_loaded_json = spark.read.json(movies_json_path)\n",
        "print(\"Movies loaded back from JSON:\")\n",
        "movies_loaded_json.show()"
      ],
      "metadata": {
        "colab": {
          "base_uri": "https://localhost:8080/"
        },
        "id": "r1ezzdlEzHzy",
        "outputId": "da90e6e4-fe1b-4a46-eea9-f0cb600b5374"
      },
      "execution_count": 10,
      "outputs": [
        {
          "output_type": "stream",
          "name": "stdout",
          "text": [
            "Ratings saved as CSV at: /content/ratings_output_csv\n",
            "Ratings loaded back from CSV (schema and sample):\n",
            "root\n",
            " |-- user_id: string (nullable = true)\n",
            " |-- movie_id: string (nullable = true)\n",
            " |-- rating: string (nullable = true)\n",
            "\n",
            "+-------+--------+------+\n",
            "|user_id|movie_id|rating|\n",
            "+-------+--------+------+\n",
            "|      1|     101|     5|\n",
            "|      2|     101|     4|\n",
            "|      1|     102|     3|\n",
            "|      3|     103|     4|\n",
            "|      4|     104|     5|\n",
            "|      2|     103|     5|\n",
            "|      5|     105|     4|\n",
            "|      6|     101|     5|\n",
            "+-------+--------+------+\n",
            "\n",
            "Movies saved as JSON at: /content/movies_output_json\n",
            "Movies loaded back from JSON:\n",
            "+------+--------+------------+----+\n",
            "| genre|movie_id|       title|year|\n",
            "+------+--------+------------+----+\n",
            "|Comedy|     103|    3 Idiots|2009|\n",
            "| Drama|     104|      Dangal|2016|\n",
            "|Sci-Fi|     105|Interstellar|2014|\n",
            "|Sci-Fi|     101|   Inception|2010|\n",
            "|Action|     102|    Avengers|2012|\n",
            "+------+--------+------------+----+\n",
            "\n"
          ]
        }
      ]
    },
    {
      "cell_type": "code",
      "source": [
        "pd_avg_rating_genre = (ratings_df.join(movies_df, on=\"movie_id\", how=\"left\")\n",
        ".groupBy(\"genre\").agg(F.avg(\"rating\").alias(\"avg_rating\"))\n",
        ".orderBy(\"genre\")\n",
        ".toPandas())\n",
        "print(\"Pandas dataframe for avg rating per genre:\")\n",
        "print(pd_avg_rating_genre)\n",
        "\n",
        "import matplotlib.pyplot as plt\n",
        "\n",
        "\n",
        "plt.figure(figsize=(8,5))\n",
        "plt.bar(pd_avg_rating_genre['genre'], pd_avg_rating_genre['avg_rating'])\n",
        "plt.title('Average Rating per Genre')\n",
        "plt.xlabel('Genre')\n",
        "plt.ylabel('Average Rating')\n",
        "plt.grid(axis='y', linestyle='--', alpha=0.3)\n",
        "plt.show()\n",
        "\n",
        "\n",
        "pd_ratings_per_year = (ratings_df.join(movies_df, on='movie_id', how='left')\n",
        ".groupBy('year').agg(F.count('rating').alias('ratings_count'))\n",
        ".orderBy('year')\n",
        ".toPandas())\n",
        "\n",
        "\n",
        "plt.figure(figsize=(8,5))\n",
        "plt.plot(pd_ratings_per_year['year'], pd_ratings_per_year['ratings_count'], marker='o')\n",
        "plt.title('Number of Ratings per Movie Release Year')\n",
        "plt.xlabel('Year')\n",
        "plt.ylabel('Number of Ratings')\n",
        "plt.grid(True)\n",
        "plt.show()\n",
        "\n",
        "\n",
        "pd_age_avg_rating = (ratings_df.join(users_df, on='user_id', how='left')\n",
        ".groupBy('user_id','age')\n",
        ".agg(F.avg('rating').alias('avg_rating'))\n",
        ".orderBy('user_id')\n",
        ".toPandas())\n",
        "\n",
        "\n",
        "plt.figure(figsize=(8,5))\n",
        "plt.scatter(pd_age_avg_rating['age'], pd_age_avg_rating['avg_rating'])\n",
        "for i, row in pd_age_avg_rating.iterrows():\n",
        "  plt.text(row['age']+0.1, row['avg_rating']+0.01, str(int(row['user_id'])))\n",
        "plt.title('Age vs Average Rating Given')\n",
        "plt.xlabel('Age')\n",
        "plt.ylabel('Average Rating')\n",
        "plt.grid(True)\n",
        "plt.show()\n",
        "\n",
        "\n",
        "print(\"Notebook run completed. If running in Colab, inspect /content/ for saved CSV/JSON.\")"
      ],
      "metadata": {
        "colab": {
          "base_uri": "https://localhost:8080/",
          "height": 1000
        },
        "id": "vqXRoIihzp3m",
        "outputId": "23eb27a0-2cb4-4c65-f740-4337164e091a"
      },
      "execution_count": 12,
      "outputs": [
        {
          "output_type": "stream",
          "name": "stdout",
          "text": [
            "Pandas dataframe for avg rating per genre:\n",
            "    genre  avg_rating\n",
            "0  Action         3.0\n",
            "1  Comedy         4.5\n",
            "2   Drama         5.0\n",
            "3  Sci-Fi         4.5\n"
          ]
        },
        {
          "output_type": "display_data",
          "data": {
            "text/plain": [
              "<Figure size 800x500 with 1 Axes>"
            ],
            "image/png": "[encoded data removed]"
          },
          "metadata": {}
        },
        {
          "output_type": "display_data",
          "data": {
            "text/plain": [
              "<Figure size 800x500 with 1 Axes>"
            ],
            "image/png": "[encoded data removed]"
          },
          "metadata": {}
        },
        {
          "output_type": "display_data",
          "data": {
            "text/plain": [
              "<Figure size 800x500 with 1 Axes>"
            ],
            "image/png": "[encoded data removed]"
          },
          "metadata": {}
        },
        {
          "output_type": "stream",
          "name": "stdout",
          "text": [
            "Notebook run completed. If running in Colab, inspect /content/ for saved CSV/JSON.\n"
          ]
        }
      ]
    }
  ]
}
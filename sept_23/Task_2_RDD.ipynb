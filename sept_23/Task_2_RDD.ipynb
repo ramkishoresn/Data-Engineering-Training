{
  "nbformat": 4,
  "nbformat_minor": 0,
  "metadata": {
    "colab": {
      "provenance": []
    },
    "kernelspec": {
      "name": "python3",
      "display_name": "Python 3"
    },
    "language_info": {
      "name": "python"
    }
  },
  "cells": [
    {
      "cell_type": "code",
      "execution_count": 1,
      "metadata": {
        "colab": {
          "base_uri": "https://localhost:8080/"
        },
        "id": "8tgc-DbxV7dh",
        "outputId": "cfdb6328-d6dd-4160-86ac-1c0e68674d91"
      },
      "outputs": [
        {
          "output_type": "stream",
          "name": "stdout",
          "text": [
            "Numbers divisible by 3: [3, 6, 9, 12, 15]\n",
            "Doubled numbers: [2, 4, 6, 8, 10, 12, 14, 16, 18, 20, 22, 24, 26, 28, 30]\n",
            "Count > 10: 5\n"
          ]
        }
      ],
      "source": [
        "from pyspark.sql import SparkSession\n",
        "\n",
        "spark = SparkSession.builder.appName(\"RDD-Exercises-Set2\").getOrCreate()\n",
        "sc = spark.sparkContext\n",
        "\n",
        "nums = sc.parallelize(range(1, 16))\n",
        "div_by_3 = nums.filter(lambda x: x % 3 == 0).collect()\n",
        "doubled = nums.map(lambda x: x * 2).collect()\n",
        "count_gt_10 = nums.filter(lambda x: x > 10).count()\n",
        "\n",
        "print(\"Numbers divisible by 3:\", div_by_3)\n",
        "print(\"Doubled numbers:\", doubled)\n",
        "print(\"Count > 10:\", count_gt_10)"
      ]
    },
    {
      "cell_type": "code",
      "source": [
        "fruits = sc.parallelize([\"apple\", \"banana\", \"grape\", \"banana\", \"apple\", \"mango\"])\n",
        "distinct_fruits = fruits.distinct().collect()\n",
        "fruit_counts = fruits.map(lambda x: (x, 1)).reduceByKey(lambda a, b: a + b).collect()\n",
        "longest_fruit = fruits.reduce(lambda a, b: a if len(a) > len(b) else b)\n",
        "\n",
        "print(\"Distinct fruits:\", distinct_fruits)\n",
        "print(\"Fruit counts:\", fruit_counts)\n",
        "print(\"Longest fruit:\", longest_fruit)"
      ],
      "metadata": {
        "colab": {
          "base_uri": "https://localhost:8080/"
        },
        "id": "gbjzgubjWNd3",
        "outputId": "60e62bb1-f31b-4cd8-da67-536dc8bf2176"
      },
      "execution_count": 2,
      "outputs": [
        {
          "output_type": "stream",
          "name": "stdout",
          "text": [
            "Distinct fruits: ['apple', 'banana', 'grape', 'mango']\n",
            "Fruit counts: [('apple', 2), ('banana', 2), ('grape', 1), ('mango', 1)]\n",
            "Longest fruit: banana\n"
          ]
        }
      ]
    },
    {
      "cell_type": "code",
      "source": [
        "sentences = sc.parallelize([\"spark makes big data easy\", \"rdd is the core of spark\", \"python with spark\"])\n",
        "words = sentences.flatMap(lambda x: x.split(\" \"))\n",
        "unique_words = words.map(lambda x: x.lower()).distinct()\n",
        "unique_count = unique_words.count()\n",
        "\n",
        "print(\"Unique words:\", unique_words.collect())\n",
        "print(\"Total unique words:\", unique_count)"
      ],
      "metadata": {
        "colab": {
          "base_uri": "https://localhost:8080/"
        },
        "id": "_HI0fi82WSct",
        "outputId": "95313a02-2639-4604-ad03-015b3899ca71"
      },
      "execution_count": 3,
      "outputs": [
        {
          "output_type": "stream",
          "name": "stdout",
          "text": [
            "Unique words: ['big', 'easy', 'rdd', 'core', 'of', 'python', 'with', 'spark', 'makes', 'data', 'is', 'the']\n",
            "Total unique words: 12\n"
          ]
        }
      ]
    },
    {
      "cell_type": "code",
      "source": [
        "marks = sc.parallelize([(\"Rahul\", 85), (\"Priya\", 92), (\"Aman\", 78), (\"Rahul\", 90), (\"Priya\", 88)])\n",
        "total_marks = marks.reduceByKey(lambda a, b: a + b).collect()\n",
        "avg_marks = marks.combineByKey(\n",
        "    lambda val: (val, 1),\n",
        "    lambda acc, val: (acc[0] + val, acc[1] + 1),\n",
        "    lambda acc1, acc2: (acc1[0] + acc2[0], acc1[1] + acc2[1])\n",
        ").mapValues(lambda x: x[0] / x[1]).collect()\n",
        "highest_mark = marks.reduce(lambda a, b: a if a[1] > b[1] else b)\n",
        "\n",
        "print(\"Total marks per student:\", total_marks)\n",
        "print(\"Average marks per student:\", avg_marks)\n",
        "print(\"Highest mark overall:\", highest_mark)"
      ],
      "metadata": {
        "colab": {
          "base_uri": "https://localhost:8080/"
        },
        "id": "F_zz8zM8WVSU",
        "outputId": "68bc8691-6459-416e-974b-6871e8c74e80"
      },
      "execution_count": 4,
      "outputs": [
        {
          "output_type": "stream",
          "name": "stdout",
          "text": [
            "Total marks per student: [('Rahul', 175), ('Priya', 180), ('Aman', 78)]\n",
            "Average marks per student: [('Rahul', 87.5), ('Priya', 90.0), ('Aman', 78.0)]\n",
            "Highest mark overall: ('Priya', 92)\n"
          ]
        }
      ]
    },
    {
      "cell_type": "code",
      "source": [
        "numbers = sc.parallelize([5, 10, 15, 20, 25])\n",
        "sum_val = numbers.reduce(lambda a, b: a + b)\n",
        "product_val = numbers.reduce(lambda a, b: a * b)\n",
        "total_sum, count = numbers.map(lambda x: (x, 1)).reduce(lambda a, b: (a[0] + b[0], a[1] + b[1]))\n",
        "avg_val = total_sum / count\n",
        "\n",
        "print(\"Sum:\", sum_val)\n",
        "print(\"Product:\", product_val)\n",
        "print(\"Average:\", avg_val)"
      ],
      "metadata": {
        "colab": {
          "base_uri": "https://localhost:8080/"
        },
        "id": "buxSM2T1WZa3",
        "outputId": "f237c652-73a0-4a44-e298-fad2b627fe6f"
      },
      "execution_count": 5,
      "outputs": [
        {
          "output_type": "stream",
          "name": "stdout",
          "text": [
            "Sum: 75\n",
            "Product: 375000\n",
            "Average: 15.0\n"
          ]
        }
      ]
    },
    {
      "cell_type": "code",
      "source": [
        "words_rdd = sc.parallelize([\"data\", \"engineering\", \"spark\", \"rdd\", \"pyspark\", \"analytics\"])\n",
        "word_len = words_rdd.map(lambda x: (x, len(x))).collect()\n",
        "longest_word = words_rdd.reduce(lambda a, b: a if len(a) > len(b) else b)\n",
        "total_len, total_count = words_rdd.map(lambda x: (len(x), 1)).reduce(lambda a, b: (a[0] + b[0], a[1] + b[1]))\n",
        "avg_word_len = total_len / total_count\n",
        "\n",
        "print(\"Word lengths:\", word_len)\n",
        "print(\"Longest word:\", longest_word)\n",
        "print(\"Average word length:\", avg_word_len)"
      ],
      "metadata": {
        "colab": {
          "base_uri": "https://localhost:8080/"
        },
        "id": "hjp90dOWWgNM",
        "outputId": "3db31b21-7c5d-4ee4-bf67-b84a46a2fb70"
      },
      "execution_count": 6,
      "outputs": [
        {
          "output_type": "stream",
          "name": "stdout",
          "text": [
            "Word lengths: [('data', 4), ('engineering', 11), ('spark', 5), ('rdd', 3), ('pyspark', 7), ('analytics', 9)]\n",
            "Longest word: engineering\n",
            "Average word length: 6.5\n"
          ]
        }
      ]
    },
    {
      "cell_type": "code",
      "source": [
        "students = sc.parallelize([(1, \"Rahul\"), (2, \"Priya\"), (3, \"Aman\")])\n",
        "courses = sc.parallelize([(1, \"Python\"), (2, \"Spark\"), (4, \"Databases\")])\n",
        "\n",
        "inner_join = students.join(courses).collect()\n",
        "left_join = students.leftOuterJoin(courses).collect()\n",
        "right_join = students.rightOuterJoin(courses).collect()\n",
        "\n",
        "print(\"Inner Join:\", inner_join)\n",
        "print(\"Left Outer Join:\", left_join)\n",
        "print(\"Right Outer Join:\", right_join)"
      ],
      "metadata": {
        "colab": {
          "base_uri": "https://localhost:8080/"
        },
        "id": "GB0CJmhTWjM7",
        "outputId": "05626a2a-936c-4407-9149-307ab67614aa"
      },
      "execution_count": 7,
      "outputs": [
        {
          "output_type": "stream",
          "name": "stdout",
          "text": [
            "Inner Join: [(1, ('Rahul', 'Python')), (2, ('Priya', 'Spark'))]\n",
            "Left Outer Join: [(1, ('Rahul', 'Python')), (2, ('Priya', 'Spark')), (3, ('Aman', None))]\n",
            "Right Outer Join: [(4, (None, 'Databases')), (1, ('Rahul', 'Python')), (2, ('Priya', 'Spark'))]\n"
          ]
        }
      ]
    },
    {
      "cell_type": "code",
      "source": [
        "orders = sc.parallelize([(1, 200), (2, 500), (3, 300), (1, 150), (2, 250)])\n",
        "total_spend = orders.reduceByKey(lambda a, b: a + b).collect()\n",
        "max_spend = total_spend[0]\n",
        "for c in total_spend:\n",
        "    if c[1] > max_spend[1]:\n",
        "        max_spend = c\n",
        "total_revenue = orders.map(lambda x: x[1]).sum()\n",
        "\n",
        "print(\"Total spend per customer:\", total_spend)\n",
        "print(\"Customer with max spend:\", max_spend)\n",
        "print(\"Total revenue:\", total_revenue)"
      ],
      "metadata": {
        "colab": {
          "base_uri": "https://localhost:8080/"
        },
        "id": "CsTK0xTpWnU2",
        "outputId": "631f54a2-423e-4005-eecc-e87cd1c806e9"
      },
      "execution_count": 8,
      "outputs": [
        {
          "output_type": "stream",
          "name": "stdout",
          "text": [
            "Total spend per customer: [(2, 750), (1, 350), (3, 300)]\n",
            "Customer with max spend: (2, 750)\n",
            "Total revenue: 1400\n"
          ]
        }
      ]
    }
  ]
}
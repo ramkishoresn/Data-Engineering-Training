{
 "cells": [
  {
   "cell_type": "code",
   "execution_count": 0,
   "metadata": {
    "application/vnd.databricks.v1+cell": {
     "cellMetadata": {
      "byteLimit": 2048000,
      "rowLimit": 10000
     },
     "inputWidgets": {},
     "nuid": "4c633502-2c7d-4e6e-9e2f-88d3818809f1",
     "showTitle": false,
     "tableResultSettingsMap": {},
     "title": ""
    }
   },
   "outputs": [
    {
     "output_type": "stream",
     "name": "stdout",
     "output_type": "stream",
     "text": [
      "DataFrames loaded successfully.\n"
     ]
    }
   ],
   "source": [
    "from pyspark.sql import SparkSession\n",
    "from pyspark.sql.functions import col, sum, avg, desc, rank, row_number\n",
    "from pyspark.sql.window import Window\n",
    "import matplotlib.pyplot as plt\n",
    "\n",
    "spark = SparkSession.builder.appName(\"RideShareAnalytics\").getOrCreate()\n",
    "\n",
    "drivers_df = spark.read.csv(\"/FileStore/tables/drivers.csv\", header=True, inferSchema=True)\n",
    "rides_df = spark.read.csv(\"/FileStore/tables/rides.csv\", header=True, inferSchema=True)\n",
    "feedback_df = spark.read.csv(\"/FileStore/tables/feedback.csv\", header=True, inferSchema=True)\n",
    "\n",
    "print(\"DataFrames loaded successfully.\")"
   ]
  },
  {
   "cell_type": "code",
   "execution_count": 0,
   "metadata": {
    "application/vnd.databricks.v1+cell": {
     "cellMetadata": {
      "byteLimit": 2048000,
      "rowLimit": 10000
     },
     "inputWidgets": {},
     "nuid": "ef1191a0-2142-4c26-a2fd-2ee8756f9702",
     "showTitle": false,
     "tableResultSettingsMap": {},
     "title": ""
    }
   },
   "outputs": [
    {
     "output_type": "stream",
     "name": "stdout",
     "output_type": "stream",
     "text": [
      "Drivers Schema:\nroot\n |-- driver_id: integer (nullable = true)\n |-- driver_name: string (nullable = true)\n |-- city: string (nullable = true)\n |-- experience_years: integer (nullable = true)\n |-- rating: double (nullable = true)\n\nRides Schema:\nroot\n |-- ride_id: integer (nullable = true)\n |-- driver_id: integer (nullable = true)\n |-- distance_km: integer (nullable = true)\n |-- price: integer (nullable = true)\n |-- ride_date: date (nullable = true)\n\nFeedback Schema:\nroot\n |-- ride_id: integer (nullable = true)\n |-- customer_feedback: string (nullable = true)\n\nDataFrames loaded successfully. Displaying sample data:\n"
     ]
    },
    {
     "output_type": "display_data",
     "data": {
      "text/html": [
       "<style scoped>\n",
       "  .table-result-container {\n",
       "    max-height: 300px;\n",
       "    overflow: auto;\n",
       "  }\n",
       "  table, th, td {\n",
       "    border: 1px solid black;\n",
       "    border-collapse: collapse;\n",
       "  }\n",
       "  th, td {\n",
       "    padding: 5px;\n",
       "  }\n",
       "  th {\n",
       "    text-align: left;\n",
       "  }\n",
       "</style><div class='table-result-container'><table class='table-result'><thead style='background-color: white'><tr><th>driver_id</th><th>driver_name</th><th>city</th><th>experience_years</th><th>rating</th></tr></thead><tbody><tr><td>1</td><td>Arun Kumar</td><td>Bangalore</td><td>4</td><td>4.6</td></tr><tr><td>2</td><td>Pooja Rao</td><td>Chennai</td><td>2</td><td>4.3</td></tr><tr><td>3</td><td>Imran Sheikh</td><td>Delhi</td><td>6</td><td>4.8</td></tr><tr><td>4</td><td>Nisha Patel</td><td>Hyderabad</td><td>1</td><td>4.0</td></tr><tr><td>5</td><td>Rajesh Naik</td><td>Mumbai</td><td>8</td><td>4.9</td></tr><tr><td>6</td><td>Sneha Menon</td><td>Bangalore</td><td>3</td><td>4.4</td></tr></tbody></table></div>"
      ]
     },
     "metadata": {
      "application/vnd.databricks.v1+output": {
       "addedWidgets": {},
       "aggData": [],
       "aggError": "",
       "aggOverflow": false,
       "aggSchema": [],
       "aggSeriesLimitReached": false,
       "aggType": "",
       "arguments": {},
       "columnCustomDisplayInfos": {},
       "data": [
        [
         1,
         "Arun Kumar",
         "Bangalore",
         4,
         4.6
        ],
        [
         2,
         "Pooja Rao",
         "Chennai",
         2,
         4.3
        ],
        [
         3,
         "Imran Sheikh",
         "Delhi",
         6,
         4.8
        ],
        [
         4,
         "Nisha Patel",
         "Hyderabad",
         1,
         4.0
        ],
        [
         5,
         "Rajesh Naik",
         "Mumbai",
         8,
         4.9
        ],
        [
         6,
         "Sneha Menon",
         "Bangalore",
         3,
         4.4
        ]
       ],
       "datasetInfos": [],
       "dbfsResultPath": null,
       "isJsonSchema": true,
       "metadata": {},
       "overflow": false,
       "plotOptions": {
        "customPlotOptions": {},
        "displayType": "table",
        "pivotAggregation": null,
        "pivotColumns": null,
        "xColumns": null,
        "yColumns": null
       },
       "removedWidgets": [],
       "schema": [
        {
         "metadata": "{}",
         "name": "driver_id",
         "type": "\"integer\""
        },
        {
         "metadata": "{}",
         "name": "driver_name",
         "type": "\"string\""
        },
        {
         "metadata": "{}",
         "name": "city",
         "type": "\"string\""
        },
        {
         "metadata": "{}",
         "name": "experience_years",
         "type": "\"integer\""
        },
        {
         "metadata": "{}",
         "name": "rating",
         "type": "\"double\""
        }
       ],
       "type": "table"
      }
     },
     "output_type": "display_data"
    },
    {
     "output_type": "display_data",
     "data": {
      "text/html": [
       "<style scoped>\n",
       "  .table-result-container {\n",
       "    max-height: 300px;\n",
       "    overflow: auto;\n",
       "  }\n",
       "  table, th, td {\n",
       "    border: 1px solid black;\n",
       "    border-collapse: collapse;\n",
       "  }\n",
       "  th, td {\n",
       "    padding: 5px;\n",
       "  }\n",
       "  th {\n",
       "    text-align: left;\n",
       "  }\n",
       "</style><div class='table-result-container'><table class='table-result'><thead style='background-color: white'><tr><th>ride_id</th><th>driver_id</th><th>distance_km</th><th>price</th><th>ride_date</th></tr></thead><tbody><tr><td>1001</td><td>1</td><td>10</td><td>250</td><td>2024-02-01</td></tr><tr><td>1002</td><td>2</td><td>7</td><td>180</td><td>2024-02-03</td></tr><tr><td>1003</td><td>3</td><td>15</td><td>500</td><td>2024-02-05</td></tr><tr><td>1004</td><td>4</td><td>5</td><td>120</td><td>2024-02-08</td></tr><tr><td>1005</td><td>1</td><td>12</td><td>300</td><td>2024-02-10</td></tr><tr><td>1006</td><td>5</td><td>20</td><td>800</td><td>2024-02-15</td></tr><tr><td>1007</td><td>6</td><td>9</td><td>230</td><td>2024-02-20</td></tr><tr><td>1008</td><td>7</td><td>11</td><td>270</td><td>2024-02-22</td></tr></tbody></table></div>"
      ]
     },
     "metadata": {
      "application/vnd.databricks.v1+output": {
       "addedWidgets": {},
       "aggData": [],
       "aggError": "",
       "aggOverflow": false,
       "aggSchema": [],
       "aggSeriesLimitReached": false,
       "aggType": "",
       "arguments": {},
       "columnCustomDisplayInfos": {},
       "data": [
        [
         1001,
         1,
         10,
         250,
         "2024-02-01"
        ],
        [
         1002,
         2,
         7,
         180,
         "2024-02-03"
        ],
        [
         1003,
         3,
         15,
         500,
         "2024-02-05"
        ],
        [
         1004,
         4,
         5,
         120,
         "2024-02-08"
        ],
        [
         1005,
         1,
         12,
         300,
         "2024-02-10"
        ],
        [
         1006,
         5,
         20,
         800,
         "2024-02-15"
        ],
        [
         1007,
         6,
         9,
         230,
         "2024-02-20"
        ],
        [
         1008,
         7,
         11,
         270,
         "2024-02-22"
        ]
       ],
       "datasetInfos": [],
       "dbfsResultPath": null,
       "isJsonSchema": true,
       "metadata": {},
       "overflow": false,
       "plotOptions": {
        "customPlotOptions": {},
        "displayType": "table",
        "pivotAggregation": null,
        "pivotColumns": null,
        "xColumns": null,
        "yColumns": null
       },
       "removedWidgets": [],
       "schema": [
        {
         "metadata": "{}",
         "name": "ride_id",
         "type": "\"integer\""
        },
        {
         "metadata": "{}",
         "name": "driver_id",
         "type": "\"integer\""
        },
        {
         "metadata": "{}",
         "name": "distance_km",
         "type": "\"integer\""
        },
        {
         "metadata": "{}",
         "name": "price",
         "type": "\"integer\""
        },
        {
         "metadata": "{\"__detected_date_formats\":\"yyyy-M-d\"}",
         "name": "ride_date",
         "type": "\"date\""
        }
       ],
       "type": "table"
      }
     },
     "output_type": "display_data"
    },
    {
     "output_type": "display_data",
     "data": {
      "text/html": [
       "<style scoped>\n",
       "  .table-result-container {\n",
       "    max-height: 300px;\n",
       "    overflow: auto;\n",
       "  }\n",
       "  table, th, td {\n",
       "    border: 1px solid black;\n",
       "    border-collapse: collapse;\n",
       "  }\n",
       "  th, td {\n",
       "    padding: 5px;\n",
       "  }\n",
       "  th {\n",
       "    text-align: left;\n",
       "  }\n",
       "</style><div class='table-result-container'><table class='table-result'><thead style='background-color: white'><tr><th>ride_id</th><th>customer_feedback</th></tr></thead><tbody><tr><td>1001</td><td>Excellent</td></tr><tr><td>1002</td><td>Good</td></tr><tr><td>1003</td><td>Excellent</td></tr><tr><td>1004</td><td>Average</td></tr><tr><td>1005</td><td>Good</td></tr><tr><td>1006</td><td>Excellent</td></tr><tr><td>1007</td><td>Average</td></tr><tr><td>1008</td><td>Good</td></tr></tbody></table></div>"
      ]
     },
     "metadata": {
      "application/vnd.databricks.v1+output": {
       "addedWidgets": {},
       "aggData": [],
       "aggError": "",
       "aggOverflow": false,
       "aggSchema": [],
       "aggSeriesLimitReached": false,
       "aggType": "",
       "arguments": {},
       "columnCustomDisplayInfos": {},
       "data": [
        [
         1001,
         "Excellent"
        ],
        [
         1002,
         "Good"
        ],
        [
         1003,
         "Excellent"
        ],
        [
         1004,
         "Average"
        ],
        [
         1005,
         "Good"
        ],
        [
         1006,
         "Excellent"
        ],
        [
         1007,
         "Average"
        ],
        [
         1008,
         "Good"
        ]
       ],
       "datasetInfos": [],
       "dbfsResultPath": null,
       "isJsonSchema": true,
       "metadata": {},
       "overflow": false,
       "plotOptions": {
        "customPlotOptions": {},
        "displayType": "table",
        "pivotAggregation": null,
        "pivotColumns": null,
        "xColumns": null,
        "yColumns": null
       },
       "removedWidgets": [],
       "schema": [
        {
         "metadata": "{}",
         "name": "ride_id",
         "type": "\"integer\""
        },
        {
         "metadata": "{}",
         "name": "customer_feedback",
         "type": "\"string\""
        }
       ],
       "type": "table"
      }
     },
     "output_type": "display_data"
    }
   ],
   "source": [
    "print(\"Drivers Schema:\")\n",
    "drivers_df.printSchema()\n",
    "\n",
    "print(\"Rides Schema:\")\n",
    "rides_df.printSchema()\n",
    "\n",
    "print(\"Feedback Schema:\")\n",
    "feedback_df.printSchema()\n",
    "\n",
    "print(\"DataFrames loaded successfully. Displaying sample data:\")\n",
    "display(drivers_df)\n",
    "display(rides_df)\n",
    "display(feedback_df)"
   ]
  },
  {
   "cell_type": "code",
   "execution_count": 0,
   "metadata": {
    "application/vnd.databricks.v1+cell": {
     "cellMetadata": {
      "byteLimit": 2048000,
      "rowLimit": 10000
     },
     "inputWidgets": {},
     "nuid": "c1118908-c82f-46d8-be47-7c5bc6b8d879",
     "showTitle": false,
     "tableResultSettingsMap": {},
     "title": ""
    }
   },
   "outputs": [
    {
     "output_type": "stream",
     "name": "stdout",
     "output_type": "stream",
     "text": [
      "Rides with missing driver information:\n"
     ]
    },
    {
     "output_type": "display_data",
     "data": {
      "text/html": [
       "<style scoped>\n",
       "  .table-result-container {\n",
       "    max-height: 300px;\n",
       "    overflow: auto;\n",
       "  }\n",
       "  table, th, td {\n",
       "    border: 1px solid black;\n",
       "    border-collapse: collapse;\n",
       "  }\n",
       "  th, td {\n",
       "    padding: 5px;\n",
       "  }\n",
       "  th {\n",
       "    text-align: left;\n",
       "  }\n",
       "</style><div class='table-result-container'><table class='table-result'><thead style='background-color: white'><tr><th>driver_id</th><th>ride_id</th><th>distance_km</th><th>price</th><th>ride_date</th></tr></thead><tbody><tr><td>7</td><td>1008</td><td>11</td><td>270</td><td>2024-02-22</td></tr></tbody></table></div>"
      ]
     },
     "metadata": {
      "application/vnd.databricks.v1+output": {
       "addedWidgets": {},
       "aggData": [],
       "aggError": "",
       "aggOverflow": false,
       "aggSchema": [],
       "aggSeriesLimitReached": false,
       "aggType": "",
       "arguments": {},
       "columnCustomDisplayInfos": {},
       "data": [
        [
         7,
         1008,
         11,
         270,
         "2024-02-22"
        ]
       ],
       "datasetInfos": [],
       "dbfsResultPath": null,
       "isJsonSchema": true,
       "metadata": {},
       "overflow": false,
       "plotOptions": {
        "customPlotOptions": {},
        "displayType": "table",
        "pivotAggregation": null,
        "pivotColumns": null,
        "xColumns": null,
        "yColumns": null
       },
       "removedWidgets": [],
       "schema": [
        {
         "metadata": "{}",
         "name": "driver_id",
         "type": "\"integer\""
        },
        {
         "metadata": "{}",
         "name": "ride_id",
         "type": "\"integer\""
        },
        {
         "metadata": "{}",
         "name": "distance_km",
         "type": "\"integer\""
        },
        {
         "metadata": "{}",
         "name": "price",
         "type": "\"integer\""
        },
        {
         "metadata": "{\"__detected_date_formats\":\"yyyy-M-d\"}",
         "name": "ride_date",
         "type": "\"date\""
        }
       ],
       "type": "table"
      }
     },
     "output_type": "display_data"
    },
    {
     "output_type": "stream",
     "name": "stdout",
     "output_type": "stream",
     "text": [
      "Rides successfully joined with driver information:\n"
     ]
    },
    {
     "output_type": "display_data",
     "data": {
      "text/html": [
       "<style scoped>\n",
       "  .table-result-container {\n",
       "    max-height: 300px;\n",
       "    overflow: auto;\n",
       "  }\n",
       "  table, th, td {\n",
       "    border: 1px solid black;\n",
       "    border-collapse: collapse;\n",
       "  }\n",
       "  th, td {\n",
       "    padding: 5px;\n",
       "  }\n",
       "  th {\n",
       "    text-align: left;\n",
       "  }\n",
       "</style><div class='table-result-container'><table class='table-result'><thead style='background-color: white'><tr><th>driver_id</th><th>ride_id</th><th>distance_km</th><th>price</th><th>ride_date</th><th>driver_name</th><th>city</th><th>experience_years</th><th>rating</th></tr></thead><tbody><tr><td>1</td><td>1001</td><td>10</td><td>250</td><td>2024-02-01</td><td>Arun Kumar</td><td>Bangalore</td><td>4</td><td>4.6</td></tr><tr><td>2</td><td>1002</td><td>7</td><td>180</td><td>2024-02-03</td><td>Pooja Rao</td><td>Chennai</td><td>2</td><td>4.3</td></tr><tr><td>3</td><td>1003</td><td>15</td><td>500</td><td>2024-02-05</td><td>Imran Sheikh</td><td>Delhi</td><td>6</td><td>4.8</td></tr><tr><td>4</td><td>1004</td><td>5</td><td>120</td><td>2024-02-08</td><td>Nisha Patel</td><td>Hyderabad</td><td>1</td><td>4.0</td></tr><tr><td>1</td><td>1005</td><td>12</td><td>300</td><td>2024-02-10</td><td>Arun Kumar</td><td>Bangalore</td><td>4</td><td>4.6</td></tr><tr><td>5</td><td>1006</td><td>20</td><td>800</td><td>2024-02-15</td><td>Rajesh Naik</td><td>Mumbai</td><td>8</td><td>4.9</td></tr><tr><td>6</td><td>1007</td><td>9</td><td>230</td><td>2024-02-20</td><td>Sneha Menon</td><td>Bangalore</td><td>3</td><td>4.4</td></tr></tbody></table></div>"
      ]
     },
     "metadata": {
      "application/vnd.databricks.v1+output": {
       "addedWidgets": {},
       "aggData": [],
       "aggError": "",
       "aggOverflow": false,
       "aggSchema": [],
       "aggSeriesLimitReached": false,
       "aggType": "",
       "arguments": {},
       "columnCustomDisplayInfos": {},
       "data": [
        [
         1,
         1001,
         10,
         250,
         "2024-02-01",
         "Arun Kumar",
         "Bangalore",
         4,
         4.6
        ],
        [
         2,
         1002,
         7,
         180,
         "2024-02-03",
         "Pooja Rao",
         "Chennai",
         2,
         4.3
        ],
        [
         3,
         1003,
         15,
         500,
         "2024-02-05",
         "Imran Sheikh",
         "Delhi",
         6,
         4.8
        ],
        [
         4,
         1004,
         5,
         120,
         "2024-02-08",
         "Nisha Patel",
         "Hyderabad",
         1,
         4.0
        ],
        [
         1,
         1005,
         12,
         300,
         "2024-02-10",
         "Arun Kumar",
         "Bangalore",
         4,
         4.6
        ],
        [
         5,
         1006,
         20,
         800,
         "2024-02-15",
         "Rajesh Naik",
         "Mumbai",
         8,
         4.9
        ],
        [
         6,
         1007,
         9,
         230,
         "2024-02-20",
         "Sneha Menon",
         "Bangalore",
         3,
         4.4
        ]
       ],
       "datasetInfos": [],
       "dbfsResultPath": null,
       "isJsonSchema": true,
       "metadata": {},
       "overflow": false,
       "plotOptions": {
        "customPlotOptions": {},
        "displayType": "table",
        "pivotAggregation": null,
        "pivotColumns": null,
        "xColumns": null,
        "yColumns": null
       },
       "removedWidgets": [],
       "schema": [
        {
         "metadata": "{}",
         "name": "driver_id",
         "type": "\"integer\""
        },
        {
         "metadata": "{}",
         "name": "ride_id",
         "type": "\"integer\""
        },
        {
         "metadata": "{}",
         "name": "distance_km",
         "type": "\"integer\""
        },
        {
         "metadata": "{}",
         "name": "price",
         "type": "\"integer\""
        },
        {
         "metadata": "{\"__detected_date_formats\":\"yyyy-M-d\"}",
         "name": "ride_date",
         "type": "\"date\""
        },
        {
         "metadata": "{}",
         "name": "driver_name",
         "type": "\"string\""
        },
        {
         "metadata": "{}",
         "name": "city",
         "type": "\"string\""
        },
        {
         "metadata": "{}",
         "name": "experience_years",
         "type": "\"integer\""
        },
        {
         "metadata": "{}",
         "name": "rating",
         "type": "\"double\""
        }
       ],
       "type": "table"
      }
     },
     "output_type": "display_data"
    },
    {
     "output_type": "stream",
     "name": "stdout",
     "output_type": "stream",
     "text": [
      "DataFrame with 'earnings_per_km' column:\n"
     ]
    },
    {
     "output_type": "display_data",
     "data": {
      "text/html": [
       "<style scoped>\n",
       "  .table-result-container {\n",
       "    max-height: 300px;\n",
       "    overflow: auto;\n",
       "  }\n",
       "  table, th, td {\n",
       "    border: 1px solid black;\n",
       "    border-collapse: collapse;\n",
       "  }\n",
       "  th, td {\n",
       "    padding: 5px;\n",
       "  }\n",
       "  th {\n",
       "    text-align: left;\n",
       "  }\n",
       "</style><div class='table-result-container'><table class='table-result'><thead style='background-color: white'><tr><th>driver_id</th><th>ride_id</th><th>distance_km</th><th>price</th><th>ride_date</th><th>driver_name</th><th>city</th><th>experience_years</th><th>rating</th><th>earnings_per_km</th></tr></thead><tbody><tr><td>1</td><td>1001</td><td>10</td><td>250</td><td>2024-02-01</td><td>Arun Kumar</td><td>Bangalore</td><td>4</td><td>4.6</td><td>25.0</td></tr><tr><td>2</td><td>1002</td><td>7</td><td>180</td><td>2024-02-03</td><td>Pooja Rao</td><td>Chennai</td><td>2</td><td>4.3</td><td>25.714285714285715</td></tr><tr><td>3</td><td>1003</td><td>15</td><td>500</td><td>2024-02-05</td><td>Imran Sheikh</td><td>Delhi</td><td>6</td><td>4.8</td><td>33.333333333333336</td></tr><tr><td>4</td><td>1004</td><td>5</td><td>120</td><td>2024-02-08</td><td>Nisha Patel</td><td>Hyderabad</td><td>1</td><td>4.0</td><td>24.0</td></tr><tr><td>1</td><td>1005</td><td>12</td><td>300</td><td>2024-02-10</td><td>Arun Kumar</td><td>Bangalore</td><td>4</td><td>4.6</td><td>25.0</td></tr><tr><td>5</td><td>1006</td><td>20</td><td>800</td><td>2024-02-15</td><td>Rajesh Naik</td><td>Mumbai</td><td>8</td><td>4.9</td><td>40.0</td></tr><tr><td>6</td><td>1007</td><td>9</td><td>230</td><td>2024-02-20</td><td>Sneha Menon</td><td>Bangalore</td><td>3</td><td>4.4</td><td>25.555555555555557</td></tr></tbody></table></div>"
      ]
     },
     "metadata": {
      "application/vnd.databricks.v1+output": {
       "addedWidgets": {},
       "aggData": [],
       "aggError": "",
       "aggOverflow": false,
       "aggSchema": [],
       "aggSeriesLimitReached": false,
       "aggType": "",
       "arguments": {},
       "columnCustomDisplayInfos": {},
       "data": [
        [
         1,
         1001,
         10,
         250,
         "2024-02-01",
         "Arun Kumar",
         "Bangalore",
         4,
         4.6,
         25.0
        ],
        [
         2,
         1002,
         7,
         180,
         "2024-02-03",
         "Pooja Rao",
         "Chennai",
         2,
         4.3,
         25.714285714285715
        ],
        [
         3,
         1003,
         15,
         500,
         "2024-02-05",
         "Imran Sheikh",
         "Delhi",
         6,
         4.8,
         33.333333333333336
        ],
        [
         4,
         1004,
         5,
         120,
         "2024-02-08",
         "Nisha Patel",
         "Hyderabad",
         1,
         4.0,
         24.0
        ],
        [
         1,
         1005,
         12,
         300,
         "2024-02-10",
         "Arun Kumar",
         "Bangalore",
         4,
         4.6,
         25.0
        ],
        [
         5,
         1006,
         20,
         800,
         "2024-02-15",
         "Rajesh Naik",
         "Mumbai",
         8,
         4.9,
         40.0
        ],
        [
         6,
         1007,
         9,
         230,
         "2024-02-20",
         "Sneha Menon",
         "Bangalore",
         3,
         4.4,
         25.555555555555557
        ]
       ],
       "datasetInfos": [],
       "dbfsResultPath": null,
       "isJsonSchema": true,
       "metadata": {},
       "overflow": false,
       "plotOptions": {
        "customPlotOptions": {},
        "displayType": "table",
        "pivotAggregation": null,
        "pivotColumns": null,
        "xColumns": null,
        "yColumns": null
       },
       "removedWidgets": [],
       "schema": [
        {
         "metadata": "{}",
         "name": "driver_id",
         "type": "\"integer\""
        },
        {
         "metadata": "{}",
         "name": "ride_id",
         "type": "\"integer\""
        },
        {
         "metadata": "{}",
         "name": "distance_km",
         "type": "\"integer\""
        },
        {
         "metadata": "{}",
         "name": "price",
         "type": "\"integer\""
        },
        {
         "metadata": "{\"__detected_date_formats\":\"yyyy-M-d\"}",
         "name": "ride_date",
         "type": "\"date\""
        },
        {
         "metadata": "{}",
         "name": "driver_name",
         "type": "\"string\""
        },
        {
         "metadata": "{}",
         "name": "city",
         "type": "\"string\""
        },
        {
         "metadata": "{}",
         "name": "experience_years",
         "type": "\"integer\""
        },
        {
         "metadata": "{}",
         "name": "rating",
         "type": "\"double\""
        },
        {
         "metadata": "{}",
         "name": "earnings_per_km",
         "type": "\"double\""
        }
       ],
       "type": "table"
      }
     },
     "output_type": "display_data"
    }
   ],
   "source": [
    "rides_missing_drivers_df = rides_df.join(drivers_df, \"driver_id\", \"left_anti\")\n",
    "print(\"Rides with missing driver information:\")\n",
    "display(rides_missing_drivers_df)\n",
    "\n",
    "rides_with_drivers_df = rides_df.join(drivers_df, \"driver_id\", \"inner\")\n",
    "print(\"Rides successfully joined with driver information:\")\n",
    "display(rides_with_drivers_df)\n",
    "\n",
    "rides_with_earnings_df = rides_with_drivers_df.withColumn(\"earnings_per_km\", col(\"price\") / col(\"distance_km\"))\n",
    "print(\"DataFrame with 'earnings_per_km' column:\")\n",
    "display(rides_with_earnings_df)"
   ]
  },
  {
   "cell_type": "code",
   "execution_count": 0,
   "metadata": {
    "application/vnd.databricks.v1+cell": {
     "cellMetadata": {
      "byteLimit": 2048000,
      "rowLimit": 10000
     },
     "inputWidgets": {},
     "nuid": "02680649-25af-4840-982d-f40b896c074d",
     "showTitle": false,
     "tableResultSettingsMap": {},
     "title": ""
    }
   },
   "outputs": [
    {
     "output_type": "stream",
     "name": "stdout",
     "output_type": "stream",
     "text": [
      "Total revenue per city:\n"
     ]
    },
    {
     "output_type": "display_data",
     "data": {
      "text/html": [
       "<style scoped>\n",
       "  .table-result-container {\n",
       "    max-height: 300px;\n",
       "    overflow: auto;\n",
       "  }\n",
       "  table, th, td {\n",
       "    border: 1px solid black;\n",
       "    border-collapse: collapse;\n",
       "  }\n",
       "  th, td {\n",
       "    padding: 5px;\n",
       "  }\n",
       "  th {\n",
       "    text-align: left;\n",
       "  }\n",
       "</style><div class='table-result-container'><table class='table-result'><thead style='background-color: white'><tr><th>city</th><th>total_revenue</th></tr></thead><tbody><tr><td>Bangalore</td><td>780</td></tr><tr><td>Chennai</td><td>180</td></tr><tr><td>Mumbai</td><td>800</td></tr><tr><td>Delhi</td><td>500</td></tr><tr><td>Hyderabad</td><td>120</td></tr></tbody></table></div>"
      ]
     },
     "metadata": {
      "application/vnd.databricks.v1+output": {
       "addedWidgets": {},
       "aggData": [],
       "aggError": "",
       "aggOverflow": false,
       "aggSchema": [],
       "aggSeriesLimitReached": false,
       "aggType": "",
       "arguments": {},
       "columnCustomDisplayInfos": {},
       "data": [
        [
         "Bangalore",
         780
        ],
        [
         "Chennai",
         180
        ],
        [
         "Mumbai",
         800
        ],
        [
         "Delhi",
         500
        ],
        [
         "Hyderabad",
         120
        ]
       ],
       "datasetInfos": [],
       "dbfsResultPath": null,
       "isJsonSchema": true,
       "metadata": {},
       "overflow": false,
       "plotOptions": {
        "customPlotOptions": {},
        "displayType": "table",
        "pivotAggregation": null,
        "pivotColumns": null,
        "xColumns": null,
        "yColumns": null
       },
       "removedWidgets": [],
       "schema": [
        {
         "metadata": "{}",
         "name": "city",
         "type": "\"string\""
        },
        {
         "metadata": "{}",
         "name": "total_revenue",
         "type": "\"long\""
        }
       ],
       "type": "table"
      }
     },
     "output_type": "display_data"
    },
    {
     "output_type": "stream",
     "name": "stdout",
     "output_type": "stream",
     "text": [
      "Average driver rating per city:\n"
     ]
    },
    {
     "output_type": "display_data",
     "data": {
      "text/html": [
       "<style scoped>\n",
       "  .table-result-container {\n",
       "    max-height: 300px;\n",
       "    overflow: auto;\n",
       "  }\n",
       "  table, th, td {\n",
       "    border: 1px solid black;\n",
       "    border-collapse: collapse;\n",
       "  }\n",
       "  th, td {\n",
       "    padding: 5px;\n",
       "  }\n",
       "  th {\n",
       "    text-align: left;\n",
       "  }\n",
       "</style><div class='table-result-container'><table class='table-result'><thead style='background-color: white'><tr><th>city</th><th>average_rating</th></tr></thead><tbody><tr><td>Bangalore</td><td>4.5</td></tr><tr><td>Chennai</td><td>4.3</td></tr><tr><td>Mumbai</td><td>4.9</td></tr><tr><td>Delhi</td><td>4.8</td></tr><tr><td>Hyderabad</td><td>4.0</td></tr></tbody></table></div>"
      ]
     },
     "metadata": {
      "application/vnd.databricks.v1+output": {
       "addedWidgets": {},
       "aggData": [],
       "aggError": "",
       "aggOverflow": false,
       "aggSchema": [],
       "aggSeriesLimitReached": false,
       "aggType": "",
       "arguments": {},
       "columnCustomDisplayInfos": {},
       "data": [
        [
         "Bangalore",
         4.5
        ],
        [
         "Chennai",
         4.3
        ],
        [
         "Mumbai",
         4.9
        ],
        [
         "Delhi",
         4.8
        ],
        [
         "Hyderabad",
         4.0
        ]
       ],
       "datasetInfos": [],
       "dbfsResultPath": null,
       "isJsonSchema": true,
       "metadata": {},
       "overflow": false,
       "plotOptions": {
        "customPlotOptions": {},
        "displayType": "table",
        "pivotAggregation": null,
        "pivotColumns": null,
        "xColumns": null,
        "yColumns": null
       },
       "removedWidgets": [],
       "schema": [
        {
         "metadata": "{}",
         "name": "city",
         "type": "\"string\""
        },
        {
         "metadata": "{}",
         "name": "average_rating",
         "type": "\"double\""
        }
       ],
       "type": "table"
      }
     },
     "output_type": "display_data"
    },
    {
     "output_type": "stream",
     "name": "stdout",
     "output_type": "stream",
     "text": [
      "Top earning driver in each city:\n"
     ]
    },
    {
     "output_type": "display_data",
     "data": {
      "text/html": [
       "<style scoped>\n",
       "  .table-result-container {\n",
       "    max-height: 300px;\n",
       "    overflow: auto;\n",
       "  }\n",
       "  table, th, td {\n",
       "    border: 1px solid black;\n",
       "    border-collapse: collapse;\n",
       "  }\n",
       "  th, td {\n",
       "    padding: 5px;\n",
       "  }\n",
       "  th {\n",
       "    text-align: left;\n",
       "  }\n",
       "</style><div class='table-result-container'><table class='table-result'><thead style='background-color: white'><tr><th>driver_id</th><th>driver_name</th><th>city</th><th>total_earnings</th></tr></thead><tbody><tr><td>1</td><td>Arun Kumar</td><td>Bangalore</td><td>550</td></tr><tr><td>2</td><td>Pooja Rao</td><td>Chennai</td><td>180</td></tr><tr><td>3</td><td>Imran Sheikh</td><td>Delhi</td><td>500</td></tr><tr><td>4</td><td>Nisha Patel</td><td>Hyderabad</td><td>120</td></tr><tr><td>5</td><td>Rajesh Naik</td><td>Mumbai</td><td>800</td></tr></tbody></table></div>"
      ]
     },
     "metadata": {
      "application/vnd.databricks.v1+output": {
       "addedWidgets": {},
       "aggData": [],
       "aggError": "",
       "aggOverflow": false,
       "aggSchema": [],
       "aggSeriesLimitReached": false,
       "aggType": "",
       "arguments": {},
       "columnCustomDisplayInfos": {},
       "data": [
        [
         1,
         "Arun Kumar",
         "Bangalore",
         550
        ],
        [
         2,
         "Pooja Rao",
         "Chennai",
         180
        ],
        [
         3,
         "Imran Sheikh",
         "Delhi",
         500
        ],
        [
         4,
         "Nisha Patel",
         "Hyderabad",
         120
        ],
        [
         5,
         "Rajesh Naik",
         "Mumbai",
         800
        ]
       ],
       "datasetInfos": [],
       "dbfsResultPath": null,
       "isJsonSchema": true,
       "metadata": {},
       "overflow": false,
       "plotOptions": {
        "customPlotOptions": {},
        "displayType": "table",
        "pivotAggregation": null,
        "pivotColumns": null,
        "xColumns": null,
        "yColumns": null
       },
       "removedWidgets": [],
       "schema": [
        {
         "metadata": "{}",
         "name": "driver_id",
         "type": "\"integer\""
        },
        {
         "metadata": "{}",
         "name": "driver_name",
         "type": "\"string\""
        },
        {
         "metadata": "{}",
         "name": "city",
         "type": "\"string\""
        },
        {
         "metadata": "{}",
         "name": "total_earnings",
         "type": "\"long\""
        }
       ],
       "type": "table"
      }
     },
     "output_type": "display_data"
    },
    {
     "output_type": "stream",
     "name": "stdout",
     "output_type": "stream",
     "text": [
      "Drivers with no recorded rides:\n"
     ]
    },
    {
     "output_type": "display_data",
     "data": {
      "text/html": [
       "<style scoped>\n",
       "  .table-result-container {\n",
       "    max-height: 300px;\n",
       "    overflow: auto;\n",
       "  }\n",
       "  table, th, td {\n",
       "    border: 1px solid black;\n",
       "    border-collapse: collapse;\n",
       "  }\n",
       "  th, td {\n",
       "    padding: 5px;\n",
       "  }\n",
       "  th {\n",
       "    text-align: left;\n",
       "  }\n",
       "</style><div class='table-result-container'><table class='table-result'><thead style='background-color: white'><tr><th>driver_id</th><th>driver_name</th><th>city</th><th>experience_years</th><th>rating</th><th>ride_id</th><th>distance_km</th><th>price</th><th>ride_date</th></tr></thead><tbody></tbody></table></div>"
      ]
     },
     "metadata": {
      "application/vnd.databricks.v1+output": {
       "addedWidgets": {},
       "aggData": [],
       "aggError": "",
       "aggOverflow": false,
       "aggSchema": [],
       "aggSeriesLimitReached": false,
       "aggType": "",
       "arguments": {},
       "columnCustomDisplayInfos": {},
       "data": [],
       "datasetInfos": [],
       "dbfsResultPath": null,
       "isJsonSchema": true,
       "metadata": {},
       "overflow": false,
       "plotOptions": {
        "customPlotOptions": {},
        "displayType": "table",
        "pivotAggregation": null,
        "pivotColumns": null,
        "xColumns": null,
        "yColumns": null
       },
       "removedWidgets": [],
       "schema": [
        {
         "metadata": "{}",
         "name": "driver_id",
         "type": "\"integer\""
        },
        {
         "metadata": "{}",
         "name": "driver_name",
         "type": "\"string\""
        },
        {
         "metadata": "{}",
         "name": "city",
         "type": "\"string\""
        },
        {
         "metadata": "{}",
         "name": "experience_years",
         "type": "\"integer\""
        },
        {
         "metadata": "{}",
         "name": "rating",
         "type": "\"double\""
        },
        {
         "metadata": "{}",
         "name": "ride_id",
         "type": "\"integer\""
        },
        {
         "metadata": "{}",
         "name": "distance_km",
         "type": "\"integer\""
        },
        {
         "metadata": "{}",
         "name": "price",
         "type": "\"integer\""
        },
        {
         "metadata": "{\"__detected_date_formats\":\"yyyy-M-d\"}",
         "name": "ride_date",
         "type": "\"date\""
        }
       ],
       "type": "table"
      }
     },
     "output_type": "display_data"
    }
   ],
   "source": [
    "revenue_by_city_df = rides_with_drivers_df.groupBy(\"city\").agg(sum(\"price\").alias(\"total_revenue\"))\n",
    "print(\"Total revenue per city:\")\n",
    "display(revenue_by_city_df)\n",
    "\n",
    "avg_rating_by_city_df = drivers_df.groupBy(\"city\").agg(avg(\"rating\").alias(\"average_rating\"))\n",
    "print(\"Average driver rating per city:\")\n",
    "display(avg_rating_by_city_df)\n",
    "\n",
    "driver_earnings_df = rides_with_drivers_df.groupBy(\"driver_id\", \"driver_name\", \"city\").agg(sum(\"price\").alias(\"total_earnings\"))\n",
    "\n",
    "windowSpec = Window.partitionBy(\"city\").orderBy(col(\"total_earnings\").desc())\n",
    "\n",
    "top_drivers_df = driver_earnings_df.withColumn(\"rank\", row_number().over(windowSpec)) \\\n",
    "                                   .filter(col(\"rank\") == 1) \\\n",
    "                                   .drop(\"rank\")\n",
    "print(\"Top earning driver in each city:\")\n",
    "display(top_drivers_df)\n",
    "\n",
    "drivers_with_no_rides_df = drivers_df.join(rides_df, \"driver_id\", \"left\").filter(rides_df.ride_id.isNull())\n",
    "print(\"Drivers with no recorded rides:\")\n",
    "display(drivers_with_no_rides_df)"
   ]
  },
  {
   "cell_type": "code",
   "execution_count": 0,
   "metadata": {
    "application/vnd.databricks.v1+cell": {
     "cellMetadata": {
      "byteLimit": 2048000,
      "rowLimit": 10000
     },
     "inputWidgets": {},
     "nuid": "65d83db8-1eaf-48ab-8291-ae0d25b1c72c",
     "showTitle": false,
     "tableResultSettingsMap": {},
     "title": ""
    }
   },
   "outputs": [
    {
     "output_type": "stream",
     "name": "stdout",
     "output_type": "stream",
     "text": [
      "Final combined DataFrame with feedback:\n"
     ]
    },
    {
     "output_type": "display_data",
     "data": {
      "text/html": [
       "<style scoped>\n",
       "  .table-result-container {\n",
       "    max-height: 300px;\n",
       "    overflow: auto;\n",
       "  }\n",
       "  table, th, td {\n",
       "    border: 1px solid black;\n",
       "    border-collapse: collapse;\n",
       "  }\n",
       "  th, td {\n",
       "    padding: 5px;\n",
       "  }\n",
       "  th {\n",
       "    text-align: left;\n",
       "  }\n",
       "</style><div class='table-result-container'><table class='table-result'><thead style='background-color: white'><tr><th>ride_id</th><th>driver_id</th><th>distance_km</th><th>price</th><th>ride_date</th><th>driver_name</th><th>city</th><th>experience_years</th><th>rating</th><th>earnings_per_km</th><th>customer_feedback</th></tr></thead><tbody><tr><td>1001</td><td>1</td><td>10</td><td>250</td><td>2024-02-01</td><td>Arun Kumar</td><td>Bangalore</td><td>4</td><td>4.6</td><td>25.0</td><td>Excellent</td></tr><tr><td>1002</td><td>2</td><td>7</td><td>180</td><td>2024-02-03</td><td>Pooja Rao</td><td>Chennai</td><td>2</td><td>4.3</td><td>25.714285714285715</td><td>Good</td></tr><tr><td>1003</td><td>3</td><td>15</td><td>500</td><td>2024-02-05</td><td>Imran Sheikh</td><td>Delhi</td><td>6</td><td>4.8</td><td>33.333333333333336</td><td>Excellent</td></tr><tr><td>1004</td><td>4</td><td>5</td><td>120</td><td>2024-02-08</td><td>Nisha Patel</td><td>Hyderabad</td><td>1</td><td>4.0</td><td>24.0</td><td>Average</td></tr><tr><td>1005</td><td>1</td><td>12</td><td>300</td><td>2024-02-10</td><td>Arun Kumar</td><td>Bangalore</td><td>4</td><td>4.6</td><td>25.0</td><td>Good</td></tr><tr><td>1006</td><td>5</td><td>20</td><td>800</td><td>2024-02-15</td><td>Rajesh Naik</td><td>Mumbai</td><td>8</td><td>4.9</td><td>40.0</td><td>Excellent</td></tr><tr><td>1007</td><td>6</td><td>9</td><td>230</td><td>2024-02-20</td><td>Sneha Menon</td><td>Bangalore</td><td>3</td><td>4.4</td><td>25.555555555555557</td><td>Average</td></tr></tbody></table></div>"
      ]
     },
     "metadata": {
      "application/vnd.databricks.v1+output": {
       "addedWidgets": {},
       "aggData": [],
       "aggError": "",
       "aggOverflow": false,
       "aggSchema": [],
       "aggSeriesLimitReached": false,
       "aggType": "",
       "arguments": {},
       "columnCustomDisplayInfos": {},
       "data": [
        [
         1001,
         1,
         10,
         250,
         "2024-02-01",
         "Arun Kumar",
         "Bangalore",
         4,
         4.6,
         25.0,
         "Excellent"
        ],
        [
         1002,
         2,
         7,
         180,
         "2024-02-03",
         "Pooja Rao",
         "Chennai",
         2,
         4.3,
         25.714285714285715,
         "Good"
        ],
        [
         1003,
         3,
         15,
         500,
         "2024-02-05",
         "Imran Sheikh",
         "Delhi",
         6,
         4.8,
         33.333333333333336,
         "Excellent"
        ],
        [
         1004,
         4,
         5,
         120,
         "2024-02-08",
         "Nisha Patel",
         "Hyderabad",
         1,
         4.0,
         24.0,
         "Average"
        ],
        [
         1005,
         1,
         12,
         300,
         "2024-02-10",
         "Arun Kumar",
         "Bangalore",
         4,
         4.6,
         25.0,
         "Good"
        ],
        [
         1006,
         5,
         20,
         800,
         "2024-02-15",
         "Rajesh Naik",
         "Mumbai",
         8,
         4.9,
         40.0,
         "Excellent"
        ],
        [
         1007,
         6,
         9,
         230,
         "2024-02-20",
         "Sneha Menon",
         "Bangalore",
         3,
         4.4,
         25.555555555555557,
         "Average"
        ]
       ],
       "datasetInfos": [],
       "dbfsResultPath": null,
       "isJsonSchema": true,
       "metadata": {},
       "overflow": false,
       "plotOptions": {
        "customPlotOptions": {},
        "displayType": "table",
        "pivotAggregation": null,
        "pivotColumns": null,
        "xColumns": null,
        "yColumns": null
       },
       "removedWidgets": [],
       "schema": [
        {
         "metadata": "{}",
         "name": "ride_id",
         "type": "\"integer\""
        },
        {
         "metadata": "{}",
         "name": "driver_id",
         "type": "\"integer\""
        },
        {
         "metadata": "{}",
         "name": "distance_km",
         "type": "\"integer\""
        },
        {
         "metadata": "{}",
         "name": "price",
         "type": "\"integer\""
        },
        {
         "metadata": "{\"__detected_date_formats\":\"yyyy-M-d\"}",
         "name": "ride_date",
         "type": "\"date\""
        },
        {
         "metadata": "{}",
         "name": "driver_name",
         "type": "\"string\""
        },
        {
         "metadata": "{}",
         "name": "city",
         "type": "\"string\""
        },
        {
         "metadata": "{}",
         "name": "experience_years",
         "type": "\"integer\""
        },
        {
         "metadata": "{}",
         "name": "rating",
         "type": "\"double\""
        },
        {
         "metadata": "{}",
         "name": "earnings_per_km",
         "type": "\"double\""
        },
        {
         "metadata": "{}",
         "name": "customer_feedback",
         "type": "\"string\""
        }
       ],
       "type": "table"
      }
     },
     "output_type": "display_data"
    },
    {
     "output_type": "stream",
     "name": "stdout",
     "output_type": "stream",
     "text": [
      "Ride counts by feedback category:\n"
     ]
    },
    {
     "output_type": "display_data",
     "data": {
      "text/html": [
       "<style scoped>\n",
       "  .table-result-container {\n",
       "    max-height: 300px;\n",
       "    overflow: auto;\n",
       "  }\n",
       "  table, th, td {\n",
       "    border: 1px solid black;\n",
       "    border-collapse: collapse;\n",
       "  }\n",
       "  th, td {\n",
       "    padding: 5px;\n",
       "  }\n",
       "  th {\n",
       "    text-align: left;\n",
       "  }\n",
       "</style><div class='table-result-container'><table class='table-result'><thead style='background-color: white'><tr><th>customer_feedback</th><th>count</th></tr></thead><tbody><tr><td>Excellent</td><td>3</td></tr><tr><td>Average</td><td>2</td></tr><tr><td>Good</td><td>2</td></tr></tbody></table></div>"
      ]
     },
     "metadata": {
      "application/vnd.databricks.v1+output": {
       "addedWidgets": {},
       "aggData": [],
       "aggError": "",
       "aggOverflow": false,
       "aggSchema": [],
       "aggSeriesLimitReached": false,
       "aggType": "",
       "arguments": {},
       "columnCustomDisplayInfos": {},
       "data": [
        [
         "Excellent",
         3
        ],
        [
         "Average",
         2
        ],
        [
         "Good",
         2
        ]
       ],
       "datasetInfos": [],
       "dbfsResultPath": null,
       "isJsonSchema": true,
       "metadata": {},
       "overflow": false,
       "plotOptions": {
        "customPlotOptions": {},
        "displayType": "table",
        "pivotAggregation": null,
        "pivotColumns": null,
        "xColumns": null,
        "yColumns": null
       },
       "removedWidgets": [],
       "schema": [
        {
         "metadata": "{}",
         "name": "customer_feedback",
         "type": "\"string\""
        },
        {
         "metadata": "{}",
         "name": "count",
         "type": "\"long\""
        }
       ],
       "type": "table"
      }
     },
     "output_type": "display_data"
    },
    {
     "output_type": "stream",
     "name": "stdout",
     "output_type": "stream",
     "text": [
      "City with the highest average ride price:\n"
     ]
    },
    {
     "output_type": "display_data",
     "data": {
      "text/html": [
       "<style scoped>\n",
       "  .table-result-container {\n",
       "    max-height: 300px;\n",
       "    overflow: auto;\n",
       "  }\n",
       "  table, th, td {\n",
       "    border: 1px solid black;\n",
       "    border-collapse: collapse;\n",
       "  }\n",
       "  th, td {\n",
       "    padding: 5px;\n",
       "  }\n",
       "  th {\n",
       "    text-align: left;\n",
       "  }\n",
       "</style><div class='table-result-container'><table class='table-result'><thead style='background-color: white'><tr><th>city</th><th>average_ride_price</th></tr></thead><tbody><tr><td>Mumbai</td><td>800.0</td></tr></tbody></table></div>"
      ]
     },
     "metadata": {
      "application/vnd.databricks.v1+output": {
       "addedWidgets": {},
       "aggData": [],
       "aggError": "",
       "aggOverflow": false,
       "aggSchema": [],
       "aggSeriesLimitReached": false,
       "aggType": "",
       "arguments": {},
       "columnCustomDisplayInfos": {},
       "data": [
        [
         "Mumbai",
         800.0
        ]
       ],
       "datasetInfos": [],
       "dbfsResultPath": null,
       "isJsonSchema": true,
       "metadata": {},
       "overflow": false,
       "plotOptions": {
        "customPlotOptions": {},
        "displayType": "table",
        "pivotAggregation": null,
        "pivotColumns": null,
        "xColumns": null,
        "yColumns": null
       },
       "removedWidgets": [],
       "schema": [
        {
         "metadata": "{}",
         "name": "city",
         "type": "\"string\""
        },
        {
         "metadata": "{}",
         "name": "average_ride_price",
         "type": "\"double\""
        }
       ],
       "type": "table"
      }
     },
     "output_type": "display_data"
    }
   ],
   "source": [
    "final_df = rides_with_earnings_df.join(feedback_df, \"ride_id\", \"left\")\n",
    "print(\"Final combined DataFrame with feedback:\")\n",
    "display(final_df)\n",
    "\n",
    "feedback_counts_df = final_df.groupBy(\"customer_feedback\").count()\n",
    "print(\"Ride counts by feedback category:\")\n",
    "display(feedback_counts_df)\n",
    "\n",
    "rides_with_drivers_df.createOrReplaceTempView(\"rides_data\")\n",
    "\n",
    "highest_avg_price_city_sql = spark.sql(\"\"\"\n",
    "    SELECT city, AVG(price) as average_ride_price\n",
    "    FROM rides_data\n",
    "    GROUP BY city\n",
    "    ORDER BY average_ride_price DESC\n",
    "    LIMIT 1\n",
    "\"\"\")\n",
    "print(\"City with the highest average ride price:\")\n",
    "display(highest_avg_price_city_sql)"
   ]
  },
  {
   "cell_type": "code",
   "execution_count": 0,
   "metadata": {
    "application/vnd.databricks.v1+cell": {
     "cellMetadata": {
      "byteLimit": 2048000,
      "rowLimit": 10000
     },
     "inputWidgets": {},
     "nuid": "f698b7fd-2e4d-4992-8dc2-4769f90b5a27",
     "showTitle": false,
     "tableResultSettingsMap": {},
     "title": ""
    }
   },
   "outputs": [
    {
     "output_type": "stream",
     "name": "stdout",
     "output_type": "stream",
     "text": [
      "Final DataFrame successfully saved to /FileStore/tables/rides_summary.csv\n"
     ]
    },
    {
     "output_type": "display_data",
     "data": {
      "image/png": "[encoded data removed]",
      "text/plain": [
       "<Figure size 1000x600 with 1 Axes>"
      ]
     },
     "metadata": {},
     "output_type": "display_data"
    }
   ],
   "source": [
    "final_df.write.mode(\"overwrite\").option(\"header\", \"true\").csv(\"/FileStore/tables/rides_summary.csv\")\n",
    "print(\"Final DataFrame successfully saved to /FileStore/tables/rides_summary.csv\")\n",
    "\n",
    "revenue_by_city_pd = revenue_by_city_df.toPandas()\n",
    "\n",
    "plt.figure(figsize=(10, 6))\n",
    "plt.bar(revenue_by_city_pd[\"city\"], revenue_by_city_pd[\"total_revenue\"], color='skyblue')\n",
    "plt.title('Total Ride Earnings per City')\n",
    "plt.xlabel('City')\n",
    "plt.ylabel('Total Earnings')\n",
    "plt.xticks(rotation=45)\n",
    "plt.grid(axis='y', linestyle='--')\n",
    "plt.show()"
   ]
  }
 ],
 "metadata": {
  "application/vnd.databricks.v1+notebook": {
   "computePreferences": null,
   "dashboards": [],
   "environmentMetadata": {
    "base_environment": "",
    "environment_version": "3"
   },
   "inputWidgetPreferences": null,
   "language": "python",
   "notebookMetadata": {
    "pythonIndentUnit": 4
   },
   "notebookName": "Task2_Ride_Share_Analytics",
   "widgets": {}
  },
  "language_info": {
   "name": "python"
  }
 },
 "nbformat": 4,
 "nbformat_minor": 0
}
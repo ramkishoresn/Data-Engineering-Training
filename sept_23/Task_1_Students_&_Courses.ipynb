{
  "nbformat": 4,
  "nbformat_minor": 0,
  "metadata": {
    "colab": {
      "provenance": []
    },
    "kernelspec": {
      "name": "python3",
      "display_name": "Python 3"
    },
    "language_info": {
      "name": "python"
    }
  },
  "cells": [
    {
      "cell_type": "code",
      "execution_count": 1,
      "metadata": {
        "colab": {
          "base_uri": "https://localhost:8080/"
        },
        "id": "IAmPd2yMEPpK",
        "outputId": "390133a1-3d48-4406-eb4c-3360c07c363e"
      },
      "outputs": [
        {
          "output_type": "stream",
          "name": "stdout",
          "text": [
            "Student names and cities:\n",
            "+------------+---------+\n",
            "|        name|     city|\n",
            "+------------+---------+\n",
            "|Rahul Sharma|Bangalore|\n",
            "| Priya Singh|    Delhi|\n",
            "|  Aman Kumar|Hyderabad|\n",
            "| Sneha Reddy|  Chennai|\n",
            "| Arjun Mehta|   Mumbai|\n",
            "|  Divya Nair|     NULL|\n",
            "+------------+---------+\n",
            "\n",
            "Students older than 20:\n",
            "+----------+-----------+---+-------+\n",
            "|student_id|       name|age|   city|\n",
            "+----------+-----------+---+-------+\n",
            "|         2|Priya Singh| 21|  Delhi|\n",
            "|         4|Sneha Reddy| 22|Chennai|\n",
            "|         5|Arjun Mehta| 23| Mumbai|\n",
            "+----------+-----------+---+-------+\n",
            "\n",
            "Courses under Analytics category:\n",
            "+---------+------------+---------+\n",
            "|course_id| course_name| category|\n",
            "+---------+------------+---------+\n",
            "|      102|Data Science|Analytics|\n",
            "+---------+------------+---------+\n",
            "\n"
          ]
        }
      ],
      "source": [
        "from pyspark.sql import SparkSession\n",
        "from pyspark.sql.functions import col, avg, max, min, count\n",
        "\n",
        "spark = SparkSession.builder.appName(\"StudentsCourses\").getOrCreate()\n",
        "\n",
        "students_data = [\n",
        "    (1, \"Rahul Sharma\", 20, \"Bangalore\"),\n",
        "    (2, \"Priya Singh\", 21, \"Delhi\"),\n",
        "    (3, \"Aman Kumar\", 19, \"Hyderabad\"),\n",
        "    (4, \"Sneha Reddy\", 22, \"Chennai\"),\n",
        "    (5, \"Arjun Mehta\", 23, \"Mumbai\"),\n",
        "    (6, \"Divya Nair\", 20, None)\n",
        "]\n",
        "students_cols = [\"student_id\", \"name\", \"age\", \"city\"]\n",
        "students_df = spark.createDataFrame(students_data, students_cols)\n",
        "\n",
        "courses_data = [\n",
        "    (101, \"Python\", \"Programming\"),\n",
        "    (102, \"Data Science\", \"Analytics\"),\n",
        "    (103, \"Databases\", \"Technology\"),\n",
        "    (104, \"Business Studies\", \"Management\")\n",
        "]\n",
        "courses_cols = [\"course_id\", \"course_name\", \"category\"]\n",
        "courses_df = spark.createDataFrame(courses_data, courses_cols)\n",
        "\n",
        "enrollment_data = [\n",
        "    (1, 101, \"A\"),\n",
        "    (2, 101, \"B\"),\n",
        "    (3, 102, \"A\"),\n",
        "    (4, 103, \"C\"),\n",
        "    (5, 102, \"B\"),\n",
        "    (7, 104, \"A\")\n",
        "]\n",
        "enrollment_cols = [\"student_id\", \"course_id\", \"grade\"]\n",
        "enrollment_df = spark.createDataFrame(enrollment_data, enrollment_cols)\n",
        "\n",
        "print(\"Student names and cities:\")\n",
        "students_df.select(\"name\", \"city\").show()\n",
        "\n",
        "print(\"Students older than 20:\")\n",
        "students_df.filter(col(\"age\") > 20).show()\n",
        "\n",
        "print(\"Courses under Analytics category:\")\n",
        "courses_df.filter(col(\"category\") == \"Analytics\").show()\n",
        "\n"
      ]
    },
    {
      "cell_type": "code",
      "source": [
        "print(\"Students enrolled in each course:\")\n",
        "enrollment_df.groupBy(\"course_id\").agg(count(\"student_id\").alias(\"student_count\")).show()\n",
        "\n",
        "print(\"Average age of students per city:\")\n",
        "students_df.groupBy(\"city\").agg(avg(\"age\").alias(\"avg_age\")).show()\n",
        "\n",
        "print(\"Max and Min age of students:\")\n",
        "students_df.agg(max(\"age\").alias(\"max_age\"), min(\"age\").alias(\"min_age\")).show()\n"
      ],
      "metadata": {
        "colab": {
          "base_uri": "https://localhost:8080/"
        },
        "id": "5IIOmgiwFZUg",
        "outputId": "fdb0366e-fc07-4ba6-e6fb-b022dc3c1d86"
      },
      "execution_count": 2,
      "outputs": [
        {
          "output_type": "stream",
          "name": "stdout",
          "text": [
            "Students enrolled in each course:\n",
            "+---------+-------------+\n",
            "|course_id|student_count|\n",
            "+---------+-------------+\n",
            "|      101|            2|\n",
            "|      102|            2|\n",
            "|      103|            1|\n",
            "|      104|            1|\n",
            "+---------+-------------+\n",
            "\n",
            "Average age of students per city:\n",
            "+---------+-------+\n",
            "|     city|avg_age|\n",
            "+---------+-------+\n",
            "|Bangalore|   20.0|\n",
            "|    Delhi|   21.0|\n",
            "|Hyderabad|   19.0|\n",
            "|  Chennai|   22.0|\n",
            "|     NULL|   20.0|\n",
            "|   Mumbai|   23.0|\n",
            "+---------+-------+\n",
            "\n",
            "Max and Min age of students:\n",
            "+-------+-------+\n",
            "|max_age|min_age|\n",
            "+-------+-------+\n",
            "|     23|     19|\n",
            "+-------+-------+\n",
            "\n"
          ]
        }
      ]
    },
    {
      "cell_type": "code",
      "source": [
        "\n",
        "print(\"Students with their enrolled courses:\")\n",
        "students_courses = students_df.join(enrollment_df, \"student_id\", \"inner\") \\\n",
        "                              .join(courses_df, \"course_id\", \"inner\")\n",
        "students_courses.select(\"student_id\", \"name\", \"course_name\", \"grade\").show()\n",
        "\n",
        "print(\"Left join enrollments with courses:\")\n",
        "enrollment_courses = enrollment_df.join(courses_df, \"course_id\", \"left\")\n",
        "enrollment_courses.show()\n",
        "\n",
        "print(\"Students not enrolled in any course:\")\n",
        "students_not_enrolled = students_df.join(enrollment_df, \"student_id\", \"left_anti\")\n",
        "students_not_enrolled.show()\n",
        "\n",
        "print(\"Courses with no students enrolled:\")\n",
        "courses_not_enrolled = courses_df.join(enrollment_df, \"course_id\", \"left_anti\")\n",
        "courses_not_enrolled.show()\n",
        "\n"
      ],
      "metadata": {
        "colab": {
          "base_uri": "https://localhost:8080/"
        },
        "id": "Qf0zVvFSFidg",
        "outputId": "11bf1cee-a234-44c4-da2e-2e9783734773"
      },
      "execution_count": 3,
      "outputs": [
        {
          "output_type": "stream",
          "name": "stdout",
          "text": [
            "Students with their enrolled courses:\n",
            "+----------+------------+------------+-----+\n",
            "|student_id|        name| course_name|grade|\n",
            "+----------+------------+------------+-----+\n",
            "|         2| Priya Singh|      Python|    B|\n",
            "|         1|Rahul Sharma|      Python|    A|\n",
            "|         5| Arjun Mehta|Data Science|    B|\n",
            "|         3|  Aman Kumar|Data Science|    A|\n",
            "|         4| Sneha Reddy|   Databases|    C|\n",
            "+----------+------------+------------+-----+\n",
            "\n",
            "Left join enrollments with courses:\n",
            "+---------+----------+-----+----------------+-----------+\n",
            "|course_id|student_id|grade|     course_name|   category|\n",
            "+---------+----------+-----+----------------+-----------+\n",
            "|      101|         1|    A|          Python|Programming|\n",
            "|      101|         2|    B|          Python|Programming|\n",
            "|      102|         3|    A|    Data Science|  Analytics|\n",
            "|      103|         4|    C|       Databases| Technology|\n",
            "|      104|         7|    A|Business Studies| Management|\n",
            "|      102|         5|    B|    Data Science|  Analytics|\n",
            "+---------+----------+-----+----------------+-----------+\n",
            "\n",
            "Students not enrolled in any course:\n",
            "+----------+----------+---+----+\n",
            "|student_id|      name|age|city|\n",
            "+----------+----------+---+----+\n",
            "|         6|Divya Nair| 20|NULL|\n",
            "+----------+----------+---+----+\n",
            "\n",
            "Courses with no students enrolled:\n",
            "+---------+-----------+--------+\n",
            "|course_id|course_name|category|\n",
            "+---------+-----------+--------+\n",
            "+---------+-----------+--------+\n",
            "\n"
          ]
        }
      ]
    },
    {
      "cell_type": "code",
      "source": [
        "students_df.createOrReplaceTempView(\"students\")\n",
        "courses_df.createOrReplaceTempView(\"courses\")\n",
        "enrollment_df.createOrReplaceTempView(\"enrollments\")\n",
        "\n",
        "print(\"SQL - All students with course names and grades:\")\n",
        "spark.sql(\"\"\"\n",
        "    SELECT s.student_id, s.name, c.course_name, e.grade\n",
        "    FROM students s\n",
        "    JOIN enrollments e ON s.student_id = e.student_id\n",
        "    JOIN courses c ON e.course_id = c.course_id\n",
        "\"\"\").show()\n",
        "\n",
        "print(\"SQL - Number of students who got grade A in each course:\")\n",
        "spark.sql(\"\"\"\n",
        "    SELECT c.course_name, COUNT(*) AS num_A_students\n",
        "    FROM enrollments e\n",
        "    JOIN courses c ON e.course_id = c.course_id\n",
        "    WHERE e.grade = 'A'\n",
        "    GROUP BY c.course_name\n",
        "\"\"\").show()\n",
        "\n",
        "print(\"SQL - Top city with most students enrolled:\")\n",
        "spark.sql(\"\"\"\n",
        "    SELECT s.city, COUNT(*) AS total_students\n",
        "    FROM students s\n",
        "    JOIN enrollments e ON s.student_id = e.student_id\n",
        "    WHERE s.city IS NOT NULL\n",
        "    GROUP BY s.city\n",
        "    ORDER BY total_students DESC\n",
        "    LIMIT 1\n",
        "\"\"\").show()"
      ],
      "metadata": {
        "colab": {
          "base_uri": "https://localhost:8080/"
        },
        "id": "_Flv6yMnFtFN",
        "outputId": "0665930e-56a5-4fc0-cb52-275218b79431"
      },
      "execution_count": 4,
      "outputs": [
        {
          "output_type": "stream",
          "name": "stdout",
          "text": [
            "SQL - All students with course names and grades:\n",
            "+----------+------------+------------+-----+\n",
            "|student_id|        name| course_name|grade|\n",
            "+----------+------------+------------+-----+\n",
            "|         2| Priya Singh|      Python|    B|\n",
            "|         1|Rahul Sharma|      Python|    A|\n",
            "|         5| Arjun Mehta|Data Science|    B|\n",
            "|         3|  Aman Kumar|Data Science|    A|\n",
            "|         4| Sneha Reddy|   Databases|    C|\n",
            "+----------+------------+------------+-----+\n",
            "\n",
            "SQL - Number of students who got grade A in each course:\n",
            "+----------------+--------------+\n",
            "|     course_name|num_A_students|\n",
            "+----------------+--------------+\n",
            "|Business Studies|             1|\n",
            "|          Python|             1|\n",
            "|    Data Science|             1|\n",
            "+----------------+--------------+\n",
            "\n",
            "SQL - Top city with most students enrolled:\n",
            "+---------+--------------+\n",
            "|     city|total_students|\n",
            "+---------+--------------+\n",
            "|Bangalore|             1|\n",
            "+---------+--------------+\n",
            "\n"
          ]
        }
      ]
    }
  ]
}
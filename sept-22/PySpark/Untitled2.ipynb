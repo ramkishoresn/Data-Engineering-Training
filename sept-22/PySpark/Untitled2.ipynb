{
  "nbformat": 4,
  "nbformat_minor": 0,
  "metadata": {
    "colab": {
      "provenance": []
    },
    "kernelspec": {
      "name": "python3",
      "display_name": "Python 3"
    },
    "language_info": {
      "name": "python"
    }
  },
  "cells": [
    {
      "cell_type": "code",
      "source": [
        "import csv\n",
        "import io\n",
        "\n",
        "csv_data = \"\"\"id,name,department,salary\n",
        "1,Rahul Sharma,IT,55000\n",
        "2,Priya Singh,HR,60000\n",
        "3,Aman Kumar,Finance,48000\n",
        "4,Sneha Reddy,Marketing,52000\n",
        "5,Arjun Mehta,IT,75000\n",
        "\"\"\"\n",
        "\n",
        "file_like = io.StringIO(csv_data)\n",
        "\n",
        "reader = csv.DictReader(file_like)\n",
        "print(\"Employee Records:\")\n",
        "for row in reader:\n",
        "  print(f\"{row['id']} - {row['name']} ( {row['department']}) -> ${row['salary']}\")"
      ],
      "metadata": {
        "colab": {
          "base_uri": "https://localhost:8080/"
        },
        "id": "fMCFOl-wDKZ1",
        "outputId": "f62127f9-a91a-4855-b0d5-33697ca7f38a"
      },
      "execution_count": null,
      "outputs": [
        {
          "output_type": "stream",
          "name": "stdout",
          "text": [
            "Employee Records:\n",
            "1 - Rahul Sharma ( IT) -> $55000\n",
            "2 - Priya Singh ( HR) -> $60000\n",
            "3 - Aman Kumar ( Finance) -> $48000\n",
            "4 - Sneha Reddy ( Marketing) -> $52000\n",
            "5 - Arjun Mehta ( IT) -> $75000\n"
          ]
        }
      ]
    }
  ]
}
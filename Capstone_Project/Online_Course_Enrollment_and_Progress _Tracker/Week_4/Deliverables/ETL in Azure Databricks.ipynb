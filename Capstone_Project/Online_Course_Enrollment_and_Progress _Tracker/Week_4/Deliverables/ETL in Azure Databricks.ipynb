{
 "cells": [
  {
   "cell_type": "code",
   "execution_count": 0,
   "metadata": {
    "application/vnd.databricks.v1+cell": {
     "cellMetadata": {
      "byteLimit": 2048000,
      "rowLimit": 10000
     },
     "inputWidgets": {},
     "nuid": "538cf81b-a41a-494a-b54b-ea2dfbf00887",
     "showTitle": false,
     "tableResultSettingsMap": {},
     "title": ""
    }
   },
   "outputs": [
    {
     "output_type": "stream",
     "name": "stdout",
     "output_type": "stream",
     "text": [
      "Cleaned data loaded into Databricks temporary view.\n"
     ]
    }
   ],
   "source": [
    "# MAGIC %md\n",
    "# MAGIC # Week 4: ETL Pipeline for Dashboard Reporting\n",
    "# MAGIC\n",
    "# MAGIC This notebook performs the final ETL to prepare the student progress data for consumption by BI tools, saving the result as a Delta table.\n",
    "\n",
    "# COMMAND\n",
    "from pyspark.sql.functions import col, round, lit\n",
    "\n",
    "# --- 1. MOCK Data Loading (Simulates loading Week 3's cleaned data) ---\n",
    "# In a production environment, this would be:\n",
    "# df_progress = spark.read.format(\"delta\").load(\"/delta/week3_analysis_output\")\n",
    "\n",
    "# MOCK DATAFRAME combining all necessary data from Weeks 1-3\n",
    "data_etl = [\n",
    "    (101, 'Alice Johnson', 501, 'Data Science Fundamentals', '2023-09-01', 4.0, 10, 40.00, 'In Progress'),\n",
    "    (102, 'Bob Smith', 502, 'Cloud Computing Basics', '2023-10-05', 8.0, 8, 100.00, 'Completed'),\n",
    "    (103, 'Carol Lee', 501, 'Data Science Fundamentals', '2023-11-10', 1.0, 10, 10.00, 'In Progress'),\n",
    "    (101, 'Alice Johnson', 503, 'Advanced SQL & Databases', '2023-12-01', 0.0, 12, 0.00, 'Dropped'),\n",
    "    (104, 'David Brown', 504, 'Intro to Tableau', '2023-12-15', 3.0, 15, 20.00, 'In Progress'),\n",
    "]\n",
    "columns_etl = [\n",
    "    \"student_id\", \"student_name\", \"course_id\", \"course_name\", \"enrollment_date\",\n",
    "    \"modules_completed\", \"total_modules\", \"progress_percentage\", \"status\"\n",
    "]\n",
    "\n",
    "df_raw_cleaned = spark.createDataFrame(data_etl, columns_etl)\n",
    "\n",
    "# Create a temporary view for SQL access\n",
    "df_raw_cleaned.createOrReplaceTempView(\"raw_progress_vw\")\n",
    "\n",
    "print(\"Cleaned data loaded into Databricks temporary view.\")\n",
    "\n",
    "# COMMAND"
   ]
  },
  {
   "cell_type": "code",
   "execution_count": 0,
   "metadata": {
    "application/vnd.databricks.v1+cell": {
     "cellMetadata": {
      "byteLimit": 2048000,
      "implicitDf": true,
      "rowLimit": 10000
     },
     "inputWidgets": {},
     "nuid": "7176103f-b7d0-4bbd-b2fe-914a5d0e99b6",
     "showTitle": false,
     "tableResultSettingsMap": {},
     "title": ""
    }
   },
   "outputs": [
    {
     "output_type": "display_data",
     "data": {
      "text/html": [
       "<style scoped>\n",
       "  .table-result-container {\n",
       "    max-height: 300px;\n",
       "    overflow: auto;\n",
       "  }\n",
       "  table, th, td {\n",
       "    border: 1px solid black;\n",
       "    border-collapse: collapse;\n",
       "  }\n",
       "  th, td {\n",
       "    padding: 5px;\n",
       "  }\n",
       "  th {\n",
       "    text-align: left;\n",
       "  }\n",
       "</style><div class='table-result-container'><table class='table-result'><thead style='background-color: white'><tr><th>student_name</th><th>course</th><th>enrollment_date</th><th>progress_percentage</th><th>completion_status</th></tr></thead><tbody><tr><td>Alice Johnson</td><td>Data Science Fundamentals</td><td>2023-09-01</td><td>40.0</td><td>In Progress</td></tr><tr><td>Alice Johnson</td><td>Advanced SQL & Databases</td><td>2023-12-01</td><td>0.0</td><td>Dropped</td></tr><tr><td>Bob Smith</td><td>Cloud Computing Basics</td><td>2023-10-05</td><td>100.0</td><td>Completed</td></tr><tr><td>Carol Lee</td><td>Data Science Fundamentals</td><td>2023-11-10</td><td>10.0</td><td>In Progress</td></tr><tr><td>David Brown</td><td>Intro to Tableau</td><td>2023-12-15</td><td>20.0</td><td>In Progress</td></tr></tbody></table></div>"
      ]
     },
     "metadata": {
      "application/vnd.databricks.v1+output": {
       "addedWidgets": {},
       "aggData": [],
       "aggError": "",
       "aggOverflow": false,
       "aggSchema": [],
       "aggSeriesLimitReached": false,
       "aggType": "",
       "arguments": {},
       "columnCustomDisplayInfos": {},
       "data": [
        [
         "Alice Johnson",
         "Data Science Fundamentals",
         "2023-09-01",
         40.0,
         "In Progress"
        ],
        [
         "Alice Johnson",
         "Advanced SQL & Databases",
         "2023-12-01",
         0.0,
         "Dropped"
        ],
        [
         "Bob Smith",
         "Cloud Computing Basics",
         "2023-10-05",
         100.0,
         "Completed"
        ],
        [
         "Carol Lee",
         "Data Science Fundamentals",
         "2023-11-10",
         10.0,
         "In Progress"
        ],
        [
         "David Brown",
         "Intro to Tableau",
         "2023-12-15",
         20.0,
         "In Progress"
        ]
       ],
       "datasetInfos": [
        {
         "name": "_sqldf",
         "schema": {
          "fields": [
           {
            "metadata": {},
            "name": "student_name",
            "nullable": true,
            "type": "string"
           },
           {
            "metadata": {},
            "name": "course",
            "nullable": true,
            "type": "string"
           },
           {
            "metadata": {},
            "name": "enrollment_date",
            "nullable": true,
            "type": "date"
           },
           {
            "metadata": {},
            "name": "progress_percentage",
            "nullable": true,
            "type": "double"
           },
           {
            "metadata": {},
            "name": "completion_status",
            "nullable": true,
            "type": "string"
           }
          ],
          "type": "struct"
         },
         "tableIdentifier": null,
         "typeStr": "pyspark.sql.connect.dataframe.DataFrame"
        }
       ],
       "dbfsResultPath": null,
       "isJsonSchema": true,
       "metadata": {
        "createTempViewForImplicitDf": true,
        "dataframeName": "_sqldf",
        "executionCount": 10
       },
       "overflow": false,
       "plotOptions": {
        "customPlotOptions": {},
        "displayType": "table",
        "pivotAggregation": null,
        "pivotColumns": null,
        "xColumns": null,
        "yColumns": null
       },
       "removedWidgets": [],
       "schema": [
        {
         "metadata": "{}",
         "name": "student_name",
         "type": "\"string\""
        },
        {
         "metadata": "{}",
         "name": "course",
         "type": "\"string\""
        },
        {
         "metadata": "{}",
         "name": "enrollment_date",
         "type": "\"date\""
        },
        {
         "metadata": "{}",
         "name": "progress_percentage",
         "type": "\"double\""
        },
        {
         "metadata": "{}",
         "name": "completion_status",
         "type": "\"string\""
        }
       ],
       "type": "table"
      }
     },
     "output_type": "display_data"
    }
   ],
   "source": [
    "%sql\n",
    "\n",
    "CREATE OR REPLACE TEMPORARY VIEW final_report_data_vw AS\n",
    "SELECT\n",
    "    student_name,\n",
    "    course_name AS course,\n",
    "    CAST(enrollment_date AS DATE) AS enrollment_date,\n",
    "    ROUND(progress_percentage, 2) AS progress_percentage,\n",
    "    status AS completion_status\n",
    "FROM\n",
    "    raw_progress_vw\n",
    "WHERE\n",
    "    student_name IS NOT NULL\n",
    "ORDER BY\n",
    "    student_name, enrollment_date;\n",
    "\n",
    "SELECT * FROM final_report_data_vw;"
   ]
  },
  {
   "cell_type": "code",
   "execution_count": 0,
   "metadata": {
    "application/vnd.databricks.v1+cell": {
     "cellMetadata": {
      "byteLimit": 2048000,
      "rowLimit": 10000
     },
     "inputWidgets": {},
     "nuid": "7402cd57-0753-481c-8796-1ca840803874",
     "showTitle": false,
     "tableResultSettingsMap": {},
     "title": ""
    }
   },
   "outputs": [
    {
     "output_type": "stream",
     "name": "stdout",
     "output_type": "stream",
     "text": [
      "Writing final report data to Delta Lake at: /mnt/datalake/online_course_tracker/final_progress_report_delta\n\nSuccessfully created FINAL_PROGRESS_REPORT Delta Table.\n\nVerifying final output from Delta Table:\n+-------------+-------------------------+---------------+-------------------+-----------------+\n|student_name |course                   |enrollment_date|progress_percentage|completion_status|\n+-------------+-------------------------+---------------+-------------------+-----------------+\n|Alice Johnson|Data Science Fundamentals|2023-09-01     |40.0               |In Progress      |\n|Alice Johnson|Advanced SQL & Databases |2023-12-01     |0.0                |Dropped          |\n|Bob Smith    |Cloud Computing Basics   |2023-10-05     |100.0              |Completed        |\n|Carol Lee    |Data Science Fundamentals|2023-11-10     |10.0               |In Progress      |\n|David Brown  |Intro to Tableau         |2023-12-15     |20.0               |In Progress      |\n+-------------+-------------------------+---------------+-------------------+-----------------+\n\n"
     ]
    }
   ],
   "source": [
    "# LANGUAGE: Python/PySpark (Databricks Notebook Cell)\n",
    "\n",
    "# Define the storage path for the Delta table (e.g., in ADLS)\n",
    "delta_path = \"/mnt/datalake/online_course_tracker/final_progress_report_delta\"\n",
    "\n",
    "# Capstone Task: Save results in Delta for dashboarding\n",
    "print(f\"Writing final report data to Delta Lake at: {delta_path}\")\n",
    "\n",
    "# Access the temporary view using spark.table() and write it out\n",
    "(spark.table(\"final_report_data_vw\")\n",
    "  .write\n",
    "  .format(\"delta\")\n",
    "  .mode(\"overwrite\")\n",
    "  .option(\"overwriteSchema\", \"true\")\n",
    "  .save(delta_path)\n",
    ")\n",
    "\n",
    "print(\"\\nSuccessfully created FINAL_PROGRESS_REPORT Delta Table.\")\n",
    "\n",
    "# Verification: Show the data from the newly created Delta table\n",
    "print(\"\\nVerifying final output from Delta Table:\")\n",
    "spark.sql(f\"SELECT * FROM delta.`{delta_path}`\").show(truncate=False)"
   ]
  }
 ],
 "metadata": {
  "application/vnd.databricks.v1+notebook": {
   "computePreferences": null,
   "dashboards": [],
   "environmentMetadata": {
    "base_environment": "",
    "environment_version": "4"
   },
   "inputWidgetPreferences": null,
   "language": "python",
   "notebookMetadata": {
    "mostRecentlyExecutedCommandWithImplicitDF": {
     "commandId": 7915413749371274,
     "dataframes": [
      "_sqldf"
     ]
    },
    "pythonIndentUnit": 4
   },
   "notebookName": "ETL in Azure Databricks",
   "widgets": {}
  },
  "language_info": {
   "name": "python"
  }
 },
 "nbformat": 4,
 "nbformat_minor": 0
}
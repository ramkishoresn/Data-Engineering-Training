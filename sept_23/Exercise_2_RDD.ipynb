{
  "nbformat": 4,
  "nbformat_minor": 0,
  "metadata": {
    "colab": {
      "provenance": []
    },
    "kernelspec": {
      "name": "python3",
      "display_name": "Python 3"
    },
    "language_info": {
      "name": "python"
    }
  },
  "cells": [
    {
      "cell_type": "code",
      "source": [
        "!pip install pyspark\n",
        "\n",
        "from pyspark.sql import SparkSession\n",
        "\n",
        "spark = SparkSession.builder.appName(\"RDD-Example\").getOrCreate()\n",
        "\n",
        "sc=spark.sparkContext"
      ],
      "metadata": {
        "colab": {
          "base_uri": "https://localhost:8080/"
        },
        "id": "9usD7TFm-Em9",
        "outputId": "921fc8f3-3a77-4e2d-a151-dc705bcec682"
      },
      "execution_count": 2,
      "outputs": [
        {
          "output_type": "stream",
          "name": "stdout",
          "text": [
            "Requirement already satisfied: pyspark in /usr/local/lib/python3.12/dist-packages (3.5.1)\n",
            "Requirement already satisfied: py4j==0.10.9.7 in /usr/local/lib/python3.12/dist-packages (from pyspark) (0.10.9.7)\n"
          ]
        }
      ]
    },
    {
      "cell_type": "markdown",
      "source": [
        "---\n",
        "\n",
        "# 📝 What is RDD?\n",
        "\n",
        "**RDD** stands for **Resilient Distributed Dataset**.\n",
        "\n",
        "It is the **core data structure of Apache Spark** — an **immutable distributed collection of objects** that can be processed in parallel across a cluster.\n",
        "\n",
        "👉 In simple words:\n",
        "\n",
        "* Think of RDD like a **giant list**, but instead of sitting in one machine, it’s **spread across multiple machines**.\n",
        "\n",
        "* Spark can apply functions to this distributed data in parallel, making it fast and fault-tolerant.\n",
        "\n",
        "---\n",
        "\n",
        "# 📝 Key Properties of RDD\n",
        "\n",
        "* **Resilient** → Fault-tolerant (can recover lost data automatically using lineage).\n",
        "\n",
        "* **Distributed** → Data is split into partitions across cluster nodes.\n",
        "\n",
        "* **Dataset** → Collection of elements (numbers, strings, objects, rows, etc.).\n",
        "\n",
        "* **Immutable** → Once created, cannot be changed — only transformed into new RDDs.\n",
        "\n",
        "---\n",
        ""
      ],
      "metadata": {
        "id": "ep8RN0M4-hRR"
      }
    },
    {
      "cell_type": "code",
      "source": [
        "data =[1,2,3,4,5,6,7,8,9]\n",
        "\n",
        "rdd = sc.parallelize(data)\n",
        "\n",
        "print(\"RDD element:\", rdd.collect())\n",
        "\n"
      ],
      "metadata": {
        "colab": {
          "base_uri": "https://localhost:8080/"
        },
        "id": "bSbRY2FI-KvU",
        "outputId": "397af79e-3a14-47fa-eead-ffed69c0ab8d"
      },
      "execution_count": 3,
      "outputs": [
        {
          "output_type": "stream",
          "name": "stdout",
          "text": [
            "RDD element: [1, 2, 3, 4, 5, 6, 7, 8, 9]\n"
          ]
        }
      ]
    },
    {
      "cell_type": "code",
      "source": [
        "squared_rdd = rdd.map(lambda x: x * x)\n",
        "\n",
        "even_rdd = rdd.filter(lambda x: x % 2 == 0)"
      ],
      "metadata": {
        "id": "WkxIJHUyFCo_"
      },
      "execution_count": 4,
      "outputs": []
    },
    {
      "cell_type": "code",
      "source": [
        "print(\"Squared:\", squared_rdd.collect())\n",
        "print(\"Even:\", even_rdd.collect())\n",
        "\n",
        "print(\"Count:\",rdd.count())\n",
        "print(\"Sum:\", rdd.sum())\n",
        "print(\"Max:\", rdd.max())"
      ],
      "metadata": {
        "colab": {
          "base_uri": "https://localhost:8080/"
        },
        "id": "gjf_d0RlFi94",
        "outputId": "0ea63ba3-c3ee-4b27-c522-622b6bff9e9d"
      },
      "execution_count": 5,
      "outputs": [
        {
          "output_type": "stream",
          "name": "stdout",
          "text": [
            "Squared: [1, 4, 9, 16, 25, 36, 49, 64, 81]\n",
            "Even: [2, 4, 6, 8]\n",
            "Count: 9\n",
            "Sum: 45\n",
            "Max: 9\n"
          ]
        }
      ]
    },
    {
      "cell_type": "code",
      "source": [
        "text =[\"hello world\", \"hello spark\", \"big data with spark\"]\n",
        "\n",
        "\n",
        "text_rdd = sc.parallelize (text)\n",
        "\n",
        "words = text_rdd.flatMap(lambda line: line.split(\" \"))\n",
        "\n",
        "word_pairs = words.map(lambda word: (word, 1))\n",
        "\n",
        "\n",
        "word_count = word_pairs.reduceByKey (lambda a, b: a + b)\n",
        "\n",
        "print(\"Word Count:\", word_count.collect())\n"
      ],
      "metadata": {
        "colab": {
          "base_uri": "https://localhost:8080/"
        },
        "id": "K9tu63_eQmrV",
        "outputId": "4864eee7-9a71-4592-f274-8929ea535a92"
      },
      "execution_count": 6,
      "outputs": [
        {
          "output_type": "stream",
          "name": "stdout",
          "text": [
            "Word Count: [('hello', 2), ('world', 1), ('big', 1), ('with', 1), ('spark', 2), ('data', 1)]\n"
          ]
        }
      ]
    }
  ]
}
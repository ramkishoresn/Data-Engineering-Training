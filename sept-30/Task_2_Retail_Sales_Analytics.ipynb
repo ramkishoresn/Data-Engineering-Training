{
  "nbformat": 4,
  "nbformat_minor": 0,
  "metadata": {
    "colab": {
      "provenance": []
    },
    "kernelspec": {
      "name": "python3",
      "display_name": "Python 3"
    },
    "language_info": {
      "name": "python"
    }
  },
  "cells": [
    {
      "cell_type": "code",
      "execution_count": 1,
      "metadata": {
        "id": "IsQtVKM04GkT"
      },
      "outputs": [],
      "source": [
        "!pip install -q pyspark\n",
        "\n",
        "\n",
        "from pyspark.sql import SparkSession\n",
        "from pyspark.sql import functions as F\n",
        "from pyspark.sql.window import Window\n",
        "\n",
        "\n",
        "spark = SparkSession.builder.appName(\"Retail-Capstone\").getOrCreate()\n",
        "sc = spark.sparkContext"
      ]
    },
    {
      "cell_type": "code",
      "source": [
        "customers_data = [\n",
        "(1, \"Rahul Sharma\", \"Bangalore\", 28),\n",
        "(2, \"Priya Singh\", \"Delhi\", 32),\n",
        "(3, \"Aman Kumar\", \"Hyderabad\", 25),\n",
        "(4, \"Sneha Reddy\", \"Chennai\", 35),\n",
        "(5, \"Arjun Mehta\", \"Mumbai\", 30),\n",
        "(6, \"Divya Nair\", \"Delhi\", 29)\n",
        "]\n",
        "customers_cols = [\"customer_id\", \"name\", \"city\", \"age\"]\n",
        "customers_df = spark.createDataFrame(customers_data, customers_cols)"
      ],
      "metadata": {
        "id": "QhMx7U1C4f_K"
      },
      "execution_count": 2,
      "outputs": []
    },
    {
      "cell_type": "code",
      "source": [
        "products_data = [\n",
        "(101, \"Laptop\", \"Electronics\", 55000),\n",
        "(102, \"Mobile\", \"Electronics\", 25000),\n",
        "(103, \"Headphones\", \"Electronics\", 3000),\n",
        "(104, \"Chair\", \"Furniture\", 5000),\n",
        "(105, \"Book\", \"Stationery\", 700),\n",
        "(106, \"Shoes\", \"Fashion\", 2500)\n",
        "]\n",
        "products_cols = [\"product_id\", \"product_name\", \"category\", \"price\"]\n",
        "products_df = spark.createDataFrame(products_data, products_cols)"
      ],
      "metadata": {
        "id": "Q_N_p1Ug4kTT"
      },
      "execution_count": 3,
      "outputs": []
    },
    {
      "cell_type": "code",
      "source": [
        "\n",
        "\n",
        "orders_data = [\n",
        "(1001, 1, 101, 1, \"2024-01-10\"),\n",
        "(1002, 2, 102, 2, \"2024-01-12\"),\n",
        "(1003, 1, 103, 3, \"2024-02-05\"),\n",
        "(1004, 3, 104, 1, \"2024-02-08\"),\n",
        "(1005, 5, 105, 5, \"2024-03-01\"),\n",
        "(1006, 6, 106, 2, \"2024-03-15\"),\n",
        "(1007, 7, 101, 1, \"2024-03-20\")\n",
        "]\n",
        "orders_cols = [\"order_id\", \"customer_id\", \"product_id\", \"quantity\", \"order_date\"]\n",
        "orders_df = spark.createDataFrame(orders_data, orders_cols)\n",
        "\n",
        "\n",
        "print(\"Data prepared.\\n\")"
      ],
      "metadata": {
        "colab": {
          "base_uri": "https://localhost:8080/"
        },
        "id": "_ngYHh1Y4qEc",
        "outputId": "bfb02106-7212-448e-c619-0d2e1414ae86"
      },
      "execution_count": 4,
      "outputs": [
        {
          "output_type": "stream",
          "name": "stdout",
          "text": [
            "Data prepared.\n",
            "\n"
          ]
        }
      ]
    },
    {
      "cell_type": "code",
      "source": [
        "nums = [10,20,30,40,50]\n",
        "nums_rdd = sc.parallelize(nums)\n",
        "print(\"Sum:\", nums_rdd.sum())\n",
        "print(\"Max:\", nums_rdd.max())\n",
        "print(\"Min:\", nums_rdd.min())\n",
        "print(\"Average:\", nums_rdd.mean())\n",
        "\n",
        "\n",
        "sentences = [\"Spark is fast\", \"Spark is powerful\", \"Big data is huge\"]\n",
        "sentences_rdd = sc.parallelize(sentences)\n",
        "words_rdd = sentences_rdd.flatMap(lambda x: x.split(\" \"))\n",
        "word_count = words_rdd.map(lambda w: (w,1)).reduceByKey(lambda a,b: a+b)\n",
        "print(\"Word count:\")\n",
        "print(word_count.collect())"
      ],
      "metadata": {
        "colab": {
          "base_uri": "https://localhost:8080/"
        },
        "id": "l6kdPPGP4u6u",
        "outputId": "3f247fd4-8d21-4c0e-f8c7-6fcd01f79843"
      },
      "execution_count": 5,
      "outputs": [
        {
          "output_type": "stream",
          "name": "stdout",
          "text": [
            "Sum: 150\n",
            "Max: 50\n",
            "Min: 10\n",
            "Average: 30.0\n",
            "Word count:\n",
            "[('fast', 1), ('powerful', 1), ('Big', 1), ('huge', 1), ('Spark', 2), ('is', 3), ('data', 1)]\n"
          ]
        }
      ]
    },
    {
      "cell_type": "code",
      "source": [
        "print(\"Customer names and cities:\")\n",
        "customers_df.select(\"name\",\"city\").show()\n",
        "\n",
        "\n",
        "print(\"Customers older than 30:\")\n",
        "customers_df.filter(F.col(\"age\")>30).show()\n",
        "\n",
        "\n",
        "print(\"Distinct product categories:\")\n",
        "products_df.select(\"category\").distinct().show()\n",
        "\n",
        "\n",
        "print(\"Top 3 most expensive products:\")\n",
        "products_df.orderBy(F.desc(\"price\")).limit(3).show()"
      ],
      "metadata": {
        "colab": {
          "base_uri": "https://localhost:8080/"
        },
        "id": "-aSZJ3eR42_2",
        "outputId": "7662f5a9-3d57-416e-ada7-8a2d29dd5e10"
      },
      "execution_count": 6,
      "outputs": [
        {
          "output_type": "stream",
          "name": "stdout",
          "text": [
            "Customer names and cities:\n",
            "+------------+---------+\n",
            "|        name|     city|\n",
            "+------------+---------+\n",
            "|Rahul Sharma|Bangalore|\n",
            "| Priya Singh|    Delhi|\n",
            "|  Aman Kumar|Hyderabad|\n",
            "| Sneha Reddy|  Chennai|\n",
            "| Arjun Mehta|   Mumbai|\n",
            "|  Divya Nair|    Delhi|\n",
            "+------------+---------+\n",
            "\n",
            "Customers older than 30:\n",
            "+-----------+-----------+-------+---+\n",
            "|customer_id|       name|   city|age|\n",
            "+-----------+-----------+-------+---+\n",
            "|          2|Priya Singh|  Delhi| 32|\n",
            "|          4|Sneha Reddy|Chennai| 35|\n",
            "+-----------+-----------+-------+---+\n",
            "\n",
            "Distinct product categories:\n",
            "+-----------+\n",
            "|   category|\n",
            "+-----------+\n",
            "|Electronics|\n",
            "| Stationery|\n",
            "|    Fashion|\n",
            "|  Furniture|\n",
            "+-----------+\n",
            "\n",
            "Top 3 most expensive products:\n",
            "+----------+------------+-----------+-----+\n",
            "|product_id|product_name|   category|price|\n",
            "+----------+------------+-----------+-----+\n",
            "|       101|      Laptop|Electronics|55000|\n",
            "|       102|      Mobile|Electronics|25000|\n",
            "|       104|       Chair|  Furniture| 5000|\n",
            "+----------+------------+-----------+-----+\n",
            "\n"
          ]
        }
      ]
    },
    {
      "cell_type": "code",
      "source": [
        "print(\"Average age of customers per city:\")\n",
        "customers_df.groupBy(\"city\").agg(F.round(F.avg(\"age\"),2).alias(\"avg_age\")).show()\n",
        "\n",
        "\n",
        "print(\"Total revenue per product:\")\n",
        "revenue_per_product = orders_df.join(products_df, \"product_id\", \"left\").withColumn(\"revenue\", F.col(\"quantity\")*F.col(\"price\"))\n",
        "revenue_per_product.groupBy(\"product_id\",\"product_name\").agg(F.sum(\"revenue\").alias(\"total_revenue\")).show()\n",
        "\n",
        "\n",
        "print(\"Most popular product by quantity sold:\")\n",
        "orders_df.groupBy(\"product_id\").agg(F.sum(\"quantity\").alias(\"total_qty\")).join(products_df,\"product_id\").orderBy(F.desc(\"total_qty\")).limit(1).show()"
      ],
      "metadata": {
        "colab": {
          "base_uri": "https://localhost:8080/"
        },
        "id": "6C9FIbcp568r",
        "outputId": "d68b34b6-1093-4160-f68c-0e77db381e8a"
      },
      "execution_count": 7,
      "outputs": [
        {
          "output_type": "stream",
          "name": "stdout",
          "text": [
            "Average age of customers per city:\n",
            "+---------+-------+\n",
            "|     city|avg_age|\n",
            "+---------+-------+\n",
            "|Bangalore|   28.0|\n",
            "|    Delhi|   30.5|\n",
            "|Hyderabad|   25.0|\n",
            "|  Chennai|   35.0|\n",
            "|   Mumbai|   30.0|\n",
            "+---------+-------+\n",
            "\n",
            "Total revenue per product:\n",
            "+----------+------------+-------------+\n",
            "|product_id|product_name|total_revenue|\n",
            "+----------+------------+-------------+\n",
            "|       103|  Headphones|         9000|\n",
            "|       101|      Laptop|       110000|\n",
            "|       102|      Mobile|        50000|\n",
            "|       104|       Chair|         5000|\n",
            "|       106|       Shoes|         5000|\n",
            "|       105|        Book|         3500|\n",
            "+----------+------------+-------------+\n",
            "\n",
            "Most popular product by quantity sold:\n",
            "+----------+---------+------------+----------+-----+\n",
            "|product_id|total_qty|product_name|  category|price|\n",
            "+----------+---------+------------+----------+-----+\n",
            "|       105|        5|        Book|Stationery|  700|\n",
            "+----------+---------+------------+----------+-----+\n",
            "\n"
          ]
        }
      ]
    },
    {
      "cell_type": "code",
      "source": [
        "print(\"Customers with purchases:\")\n",
        "customers_df.join(orders_df, \"customer_id\", \"inner\").show()\n",
        "\n",
        "\n",
        "print(\"Order details with product info:\")\n",
        "orders_df.join(products_df, \"product_id\", \"left\").select(\"order_id\",\"product_name\",\"category\",\"quantity\",\"order_date\").show()\n",
        "\n",
        "\n",
        "print(\"Customers who never placed an order:\")\n",
        "customers_df.join(orders_df, \"customer_id\", \"left_anti\").show()\n",
        "\n",
        "\n",
        "print(\"Products never ordered:\")\n",
        "products_df.join(orders_df, \"product_id\", \"left_anti\").show()"
      ],
      "metadata": {
        "colab": {
          "base_uri": "https://localhost:8080/"
        },
        "id": "1mH0qeMY6Aug",
        "outputId": "2ef7a1e4-8386-4e16-db1e-5f5f18b0aec4"
      },
      "execution_count": 8,
      "outputs": [
        {
          "output_type": "stream",
          "name": "stdout",
          "text": [
            "Customers with purchases:\n",
            "+-----------+------------+---------+---+--------+----------+--------+----------+\n",
            "|customer_id|        name|     city|age|order_id|product_id|quantity|order_date|\n",
            "+-----------+------------+---------+---+--------+----------+--------+----------+\n",
            "|          1|Rahul Sharma|Bangalore| 28|    1001|       101|       1|2024-01-10|\n",
            "|          1|Rahul Sharma|Bangalore| 28|    1003|       103|       3|2024-02-05|\n",
            "|          2| Priya Singh|    Delhi| 32|    1002|       102|       2|2024-01-12|\n",
            "|          3|  Aman Kumar|Hyderabad| 25|    1004|       104|       1|2024-02-08|\n",
            "|          5| Arjun Mehta|   Mumbai| 30|    1005|       105|       5|2024-03-01|\n",
            "|          6|  Divya Nair|    Delhi| 29|    1006|       106|       2|2024-03-15|\n",
            "+-----------+------------+---------+---+--------+----------+--------+----------+\n",
            "\n",
            "Order details with product info:\n",
            "+--------+------------+-----------+--------+----------+\n",
            "|order_id|product_name|   category|quantity|order_date|\n",
            "+--------+------------+-----------+--------+----------+\n",
            "|    1003|  Headphones|Electronics|       3|2024-02-05|\n",
            "|    1001|      Laptop|Electronics|       1|2024-01-10|\n",
            "|    1002|      Mobile|Electronics|       2|2024-01-12|\n",
            "|    1004|       Chair|  Furniture|       1|2024-02-08|\n",
            "|    1006|       Shoes|    Fashion|       2|2024-03-15|\n",
            "|    1005|        Book| Stationery|       5|2024-03-01|\n",
            "|    1007|      Laptop|Electronics|       1|2024-03-20|\n",
            "+--------+------------+-----------+--------+----------+\n",
            "\n",
            "Customers who never placed an order:\n",
            "+-----------+-----------+-------+---+\n",
            "|customer_id|       name|   city|age|\n",
            "+-----------+-----------+-------+---+\n",
            "|          4|Sneha Reddy|Chennai| 35|\n",
            "+-----------+-----------+-------+---+\n",
            "\n",
            "Products never ordered:\n",
            "+----------+------------+--------+-----+\n",
            "|product_id|product_name|category|price|\n",
            "+----------+------------+--------+-----+\n",
            "+----------+------------+--------+-----+\n",
            "\n"
          ]
        }
      ]
    },
    {
      "cell_type": "code",
      "source": [
        "customers_df.createOrReplaceTempView(\"customers\")\n",
        "products_df.createOrReplaceTempView(\"products\")\n",
        "orders_df.createOrReplaceTempView(\"orders\")\n",
        "\n",
        "\n",
        "print(\"Top 2 cities by total revenue:\")\n",
        "q1 = spark.sql(\"\"\"\n",
        "SELECT c.city, SUM(o.quantity*p.price) AS revenue\n",
        "FROM orders o\n",
        "JOIN customers c ON o.customer_id = c.customer_id\n",
        "JOIN products p ON o.product_id = p.product_id\n",
        "GROUP BY c.city\n",
        "ORDER BY revenue DESC\n",
        "LIMIT 2\n",
        "\"\"\")\n",
        "q1.show()\n",
        "\n",
        "\n",
        "print(\"Customers who spent more than 50,000:\")\n",
        "q2 = spark.sql(\"\"\"\n",
        "SELECT c.customer_id, c.name, SUM(o.quantity*p.price) AS total_spent\n",
        "FROM orders o\n",
        "JOIN customers c ON o.customer_id = c.customer_id\n",
        "JOIN products p ON o.product_id = p.product_id\n",
        "GROUP BY c.customer_id, c.name\n",
        "HAVING total_spent > 50000\n",
        "\"\"\")\n",
        "q2.show()\n",
        "\n",
        "\n",
        "print(\"Best-selling product category by revenue:\")\n",
        "q3 = spark.sql(\"\"\"\n",
        "SELECT p.category, SUM(o.quantity*p.price) AS revenue\n",
        "FROM orders o\n",
        "JOIN products p ON o.product_id = p.product_id\n",
        "GROUP BY p.category\n",
        "ORDER BY revenue DESC\n",
        "LIMIT 1\n",
        "\"\"\")\n",
        "q3.show()"
      ],
      "metadata": {
        "colab": {
          "base_uri": "https://localhost:8080/"
        },
        "id": "THqmvGgx6Fl1",
        "outputId": "b470e52e-3fd9-4fa0-b036-9e14f75175de"
      },
      "execution_count": 9,
      "outputs": [
        {
          "output_type": "stream",
          "name": "stdout",
          "text": [
            "Top 2 cities by total revenue:\n",
            "+---------+-------+\n",
            "|     city|revenue|\n",
            "+---------+-------+\n",
            "|Bangalore|  64000|\n",
            "|    Delhi|  55000|\n",
            "+---------+-------+\n",
            "\n",
            "Customers who spent more than 50,000:\n",
            "+-----------+------------+-----------+\n",
            "|customer_id|        name|total_spent|\n",
            "+-----------+------------+-----------+\n",
            "|          1|Rahul Sharma|      64000|\n",
            "+-----------+------------+-----------+\n",
            "\n",
            "Best-selling product category by revenue:\n",
            "+-----------+-------+\n",
            "|   category|revenue|\n",
            "+-----------+-------+\n",
            "|Electronics| 169000|\n",
            "+-----------+-------+\n",
            "\n"
          ]
        }
      ]
    },
    {
      "cell_type": "code",
      "source": [
        "orders_csv_path = \"/content/orders_output_csv\"\n",
        "orders_df.write.mode(\"overwrite\").option(\"header\",True).csv(orders_csv_path)\n",
        "print(f\"Orders saved to {orders_csv_path}\")\n",
        "orders_loaded = spark.read.option(\"header\",True).csv(orders_csv_path)\n",
        "orders_loaded.show()\n",
        "\n",
        "\n",
        "products_json_path = \"/content/products_output_json\"\n",
        "products_df.write.mode(\"overwrite\").json(products_json_path)\n",
        "products_loaded = spark.read.json(products_json_path)\n",
        "products_loaded.show()"
      ],
      "metadata": {
        "colab": {
          "base_uri": "https://localhost:8080/"
        },
        "id": "GB6QdeSx6PJK",
        "outputId": "eaad43e1-a698-4abc-8642-ba4d4549d96b"
      },
      "execution_count": 10,
      "outputs": [
        {
          "output_type": "stream",
          "name": "stdout",
          "text": [
            "Orders saved to /content/orders_output_csv\n",
            "+--------+-----------+----------+--------+----------+\n",
            "|order_id|customer_id|product_id|quantity|order_date|\n",
            "+--------+-----------+----------+--------+----------+\n",
            "|    1004|          3|       104|       1|2024-02-08|\n",
            "|    1005|          5|       105|       5|2024-03-01|\n",
            "|    1006|          6|       106|       2|2024-03-15|\n",
            "|    1007|          7|       101|       1|2024-03-20|\n",
            "|    1001|          1|       101|       1|2024-01-10|\n",
            "|    1002|          2|       102|       2|2024-01-12|\n",
            "|    1003|          1|       103|       3|2024-02-05|\n",
            "+--------+-----------+----------+--------+----------+\n",
            "\n",
            "+-----------+-----+----------+------------+\n",
            "|   category|price|product_id|product_name|\n",
            "+-----------+-----+----------+------------+\n",
            "|Electronics|55000|       101|      Laptop|\n",
            "|Electronics|25000|       102|      Mobile|\n",
            "|Electronics| 3000|       103|  Headphones|\n",
            "|  Furniture| 5000|       104|       Chair|\n",
            "| Stationery|  700|       105|        Book|\n",
            "|    Fashion| 2500|       106|       Shoes|\n",
            "+-----------+-----+----------+------------+\n",
            "\n"
          ]
        }
      ]
    },
    {
      "cell_type": "code",
      "source": [
        "import matplotlib.pyplot as plt\n",
        "\n",
        "pd_revenue_category = (orders_df.join(products_df, \"product_id\")\n",
        ".groupBy(\"category\").agg(F.sum(F.col(\"quantity\")*F.col(\"price\")).alias(\"revenue\"))\n",
        ".toPandas())\n",
        "plt.figure(figsize=(8,5))\n",
        "plt.bar(pd_revenue_category['category'], pd_revenue_category['revenue'])\n",
        "plt.title('Revenue by Category')\n",
        "plt.xlabel('Category')\n",
        "plt.ylabel('Revenue')\n",
        "plt.show()\n",
        "\n",
        "pd_orders_month = orders_df.withColumn(\"month\", F.substring(\"order_date\",1,7)).groupBy(\"month\").agg(F.count(\"order_id\").alias(\"num_orders\")).orderBy(\"month\").toPandas()\n",
        "plt.figure(figsize=(8,5))\n",
        "plt.plot(pd_orders_month['month'], pd_orders_month['num_orders'], marker='o')\n",
        "plt.title('Number of Orders per Month')\n",
        "plt.xlabel('Month')\n",
        "plt.ylabel('Orders')\n",
        "plt.show()\n",
        "\n",
        "pd_rev_qty = (orders_df.join(products_df,\"product_id\")\n",
        ".withColumn(\"revenue\",F.col(\"quantity\")*F.col(\"price\"))\n",
        ".select(\"quantity\",\"revenue\").toPandas())\n",
        "plt.figure(figsize=(8,5))\n",
        "plt.scatter(pd_rev_qty['quantity'], pd_rev_qty['revenue'])\n",
        "plt.title('Revenue vs Quantity')\n",
        "plt.xlabel('Quantity')\n",
        "plt.ylabel('Revenue')\n",
        "plt.show()\n",
        "\n",
        "\n",
        "print(\"Notebook completed.\")"
      ],
      "metadata": {
        "colab": {
          "base_uri": "https://localhost:8080/",
          "height": 1000
        },
        "id": "9PR5Q4SD6TXP",
        "outputId": "291bf6fd-a360-4841-c449-90df62f2680d"
      },
      "execution_count": 11,
      "outputs": [
        {
          "output_type": "display_data",
          "data": {
            "text/plain": [
              "<Figure size 800x500 with 1 Axes>"
            ],
            "image/png": "[encoded data removed]"
          },
          "metadata": {}
        },
        {
          "output_type": "display_data",
          "data": {
            "text/plain": [
              "<Figure size 800x500 with 1 Axes>"
            ],
            "image/png": "[encoded data removed]"
          },
          "metadata": {}
        },
        {
          "output_type": "display_data",
          "data": {
            "text/plain": [
              "<Figure size 800x500 with 1 Axes>"
            ],
            "image/png": "[encoded data removed]"
          },
          "metadata": {}
        },
        {
          "output_type": "stream",
          "name": "stdout",
          "text": [
            "Notebook completed.\n"
          ]
        }
      ]
    }
  ]
}
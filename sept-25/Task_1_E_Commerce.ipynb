{
  "nbformat": 4,
  "nbformat_minor": 0,
  "metadata": {
    "colab": {
      "provenance": []
    },
    "kernelspec": {
      "name": "python3",
      "display_name": "Python 3"
    },
    "language_info": {
      "name": "python"
    }
  },
  "cells": [
    {
      "cell_type": "code",
      "execution_count": 1,
      "metadata": {
        "id": "f96IBV9eHup5"
      },
      "outputs": [],
      "source": [
        "from pyspark.sql import SparkSession\n",
        "from pyspark.sql.functions import col, count, avg, sum, desc\n",
        "\n",
        "# Step 1: Create Spark Session\n",
        "spark = SparkSession.builder.appName(\"ECommerce-Capstone\").getOrCreate()\n",
        "\n",
        "# Customers DataFrame\n",
        "customers_data = [\n",
        "    (1, \"Rahul Sharma\", \"Bangalore\", 28),\n",
        "    (2, \"Priya Singh\", \"Delhi\", 32),\n",
        "    (3, \"Aman Kumar\", \"Hyderabad\", 25),\n",
        "    (4, \"Sneha Reddy\", \"Chennai\", 35),\n",
        "    (5, \"Arjun Mehta\", \"Mumbai\", 30),\n",
        "    (6, \"Divya Nair\", \"Delhi\", 29)\n",
        "]\n",
        "customers_cols = [\"customer_id\", \"name\", \"city\", \"age\"]\n",
        "customers_df = spark.createDataFrame(customers_data, customers_cols)\n",
        "\n",
        "# Products DataFrame\n",
        "products_data = [\n",
        "    (101, \"Laptop\", \"Electronics\", 55000),\n",
        "    (102, \"Mobile\", \"Electronics\", 25000),\n",
        "    (103, \"Headphones\", \"Electronics\", 3000),\n",
        "    (104, \"Chair\", \"Furniture\", 5000),\n",
        "    (105, \"Book\", \"Stationery\", 700),\n",
        "    (106, \"Shoes\", \"Fashion\", 2500)\n",
        "]\n",
        "products_cols = [\"product_id\", \"product_name\", \"category\", \"price\"]\n",
        "products_df = spark.createDataFrame(products_data, products_cols)\n",
        "\n",
        "# Orders DataFrame\n",
        "orders_data = [\n",
        "    (1001, 1, 101, 1),\n",
        "    (1002, 2, 102, 2),\n",
        "    (1003, 1, 103, 3),\n",
        "    (1004, 3, 104, 1),\n",
        "    (1005, 5, 105, 5),\n",
        "    (1006, 6, 106, 2),\n",
        "    (1007, 7, 101, 1) # Non-existent customer\n",
        "]\n",
        "orders_cols = [\"order_id\", \"customer_id\", \"product_id\", \"quantity\"]\n",
        "orders_df = spark.createDataFrame(orders_data, orders_cols)"
      ]
    },
    {
      "cell_type": "code",
      "source": [
        "customers_df.select(\"name\", \"city\").show()\n",
        "\n",
        "products_df.select(\"category\").distinct().show()\n",
        "\n",
        "customers_df.filter(col(\"age\") > 30).show()"
      ],
      "metadata": {
        "colab": {
          "base_uri": "https://localhost:8080/"
        },
        "id": "Sc6HgEgOIQER",
        "outputId": "9b79bf86-f9fb-4094-d5b1-ae6d8b32896a"
      },
      "execution_count": 2,
      "outputs": [
        {
          "output_type": "stream",
          "name": "stdout",
          "text": [
            "+------------+---------+\n",
            "|        name|     city|\n",
            "+------------+---------+\n",
            "|Rahul Sharma|Bangalore|\n",
            "| Priya Singh|    Delhi|\n",
            "|  Aman Kumar|Hyderabad|\n",
            "| Sneha Reddy|  Chennai|\n",
            "| Arjun Mehta|   Mumbai|\n",
            "|  Divya Nair|    Delhi|\n",
            "+------------+---------+\n",
            "\n",
            "+-----------+\n",
            "|   category|\n",
            "+-----------+\n",
            "|Electronics|\n",
            "| Stationery|\n",
            "|    Fashion|\n",
            "|  Furniture|\n",
            "+-----------+\n",
            "\n",
            "+-----------+-----------+-------+---+\n",
            "|customer_id|       name|   city|age|\n",
            "+-----------+-----------+-------+---+\n",
            "|          2|Priya Singh|  Delhi| 32|\n",
            "|          4|Sneha Reddy|Chennai| 35|\n",
            "+-----------+-----------+-------+---+\n",
            "\n"
          ]
        }
      ]
    },
    {
      "cell_type": "code",
      "source": [
        "orders_df.groupBy(\"customer_id\").agg(count(\"order_id\").alias(\"total_orders\")).show()\n",
        "\n",
        "customers_df.groupBy(\"city\").agg(avg(\"age\").alias(\"avg_age\")).show()\n",
        "\n",
        "orders_df.join(products_df, \"product_id\") \\\n",
        "    .withColumn(\"revenue\", col(\"quantity\") * col(\"price\")) \\\n",
        "    .groupBy(\"product_name\").agg(sum(\"revenue\").alias(\"total_revenue\")).show()"
      ],
      "metadata": {
        "colab": {
          "base_uri": "https://localhost:8080/"
        },
        "id": "5XjsXYbaIecB",
        "outputId": "b3ff25be-0158-49fd-9db0-2fbe9de52c2d"
      },
      "execution_count": 3,
      "outputs": [
        {
          "output_type": "stream",
          "name": "stdout",
          "text": [
            "+-----------+------------+\n",
            "|customer_id|total_orders|\n",
            "+-----------+------------+\n",
            "|          1|           2|\n",
            "|          2|           1|\n",
            "|          7|           1|\n",
            "|          6|           1|\n",
            "|          5|           1|\n",
            "|          3|           1|\n",
            "+-----------+------------+\n",
            "\n",
            "+---------+-------+\n",
            "|     city|avg_age|\n",
            "+---------+-------+\n",
            "|Bangalore|   28.0|\n",
            "|    Delhi|   30.5|\n",
            "|Hyderabad|   25.0|\n",
            "|  Chennai|   35.0|\n",
            "|   Mumbai|   30.0|\n",
            "+---------+-------+\n",
            "\n",
            "+------------+-------------+\n",
            "|product_name|total_revenue|\n",
            "+------------+-------------+\n",
            "|       Chair|         5000|\n",
            "|        Book|         3500|\n",
            "|      Laptop|       110000|\n",
            "|       Shoes|         5000|\n",
            "|      Mobile|        50000|\n",
            "|  Headphones|         9000|\n",
            "+------------+-------------+\n",
            "\n"
          ]
        }
      ]
    },
    {
      "cell_type": "code",
      "source": [
        "customers_df.join(orders_df, \"customer_id\", \"inner\") \\\n",
        "    .select(\"name\", \"order_id\", \"product_id\").show()\n",
        "\n",
        "orders_df.join(products_df, \"product_id\") \\\n",
        "    .select(\"order_id\", \"product_name\", \"price\", \"quantity\").show()\n",
        "\n",
        "customers_df.join(orders_df, \"customer_id\", \"left_anti\").show()\n",
        "\n",
        "products_df.join(orders_df, \"product_id\", \"left_anti\").show()\n"
      ],
      "metadata": {
        "colab": {
          "base_uri": "https://localhost:8080/"
        },
        "id": "HNLgUNElI6Fc",
        "outputId": "b83ebfce-8217-4a2b-bad2-e7c0ebfc88fb"
      },
      "execution_count": 4,
      "outputs": [
        {
          "output_type": "stream",
          "name": "stdout",
          "text": [
            "+------------+--------+----------+\n",
            "|        name|order_id|product_id|\n",
            "+------------+--------+----------+\n",
            "|Rahul Sharma|    1001|       101|\n",
            "|Rahul Sharma|    1003|       103|\n",
            "| Priya Singh|    1002|       102|\n",
            "|  Aman Kumar|    1004|       104|\n",
            "| Arjun Mehta|    1005|       105|\n",
            "|  Divya Nair|    1006|       106|\n",
            "+------------+--------+----------+\n",
            "\n",
            "+--------+------------+-----+--------+\n",
            "|order_id|product_name|price|quantity|\n",
            "+--------+------------+-----+--------+\n",
            "|    1001|      Laptop|55000|       1|\n",
            "|    1007|      Laptop|55000|       1|\n",
            "|    1002|      Mobile|25000|       2|\n",
            "|    1003|  Headphones| 3000|       3|\n",
            "|    1004|       Chair| 5000|       1|\n",
            "|    1005|        Book|  700|       5|\n",
            "|    1006|       Shoes| 2500|       2|\n",
            "+--------+------------+-----+--------+\n",
            "\n",
            "+-----------+-----------+-------+---+\n",
            "|customer_id|       name|   city|age|\n",
            "+-----------+-----------+-------+---+\n",
            "|          4|Sneha Reddy|Chennai| 35|\n",
            "+-----------+-----------+-------+---+\n",
            "\n",
            "+----------+------------+--------+-----+\n",
            "|product_id|product_name|category|price|\n",
            "+----------+------------+--------+-----+\n",
            "+----------+------------+--------+-----+\n",
            "\n"
          ]
        }
      ]
    },
    {
      "cell_type": "code",
      "source": [
        "orders_df.join(products_df, \"product_id\") \\\n",
        "    .orderBy(desc(\"price\")).select(\"product_name\", \"price\").distinct().show(3)\n",
        "\n",
        "orders_df.join(products_df, \"product_id\") \\\n",
        "    .withColumn(\"revenue\", col(\"quantity\") * col(\"price\")) \\\n",
        "    .groupBy(\"category\").agg(sum(\"revenue\").alias(\"total_revenue\")).show()\n",
        "\n",
        "orders_df.join(products_df, \"product_id\") \\\n",
        "    .join(customers_df, \"customer_id\") \\\n",
        "    .withColumn(\"spend\", col(\"quantity\") * col(\"price\")) \\\n",
        "    .groupBy(\"name\").agg(sum(\"spend\").alias(\"total_spent\")) \\\n",
        "    .orderBy(desc(\"total_spent\")).show()"
      ],
      "metadata": {
        "colab": {
          "base_uri": "https://localhost:8080/"
        },
        "id": "Uo4xU1FOKw4J",
        "outputId": "adfeaa23-0a15-404f-f1f0-d390f6a000cb"
      },
      "execution_count": 5,
      "outputs": [
        {
          "output_type": "stream",
          "name": "stdout",
          "text": [
            "+------------+-----+\n",
            "|product_name|price|\n",
            "+------------+-----+\n",
            "|        Book|  700|\n",
            "|      Mobile|25000|\n",
            "|       Chair| 5000|\n",
            "+------------+-----+\n",
            "only showing top 3 rows\n",
            "\n",
            "+-----------+-------------+\n",
            "|   category|total_revenue|\n",
            "+-----------+-------------+\n",
            "| Stationery|         3500|\n",
            "|    Fashion|         5000|\n",
            "|Electronics|       169000|\n",
            "|  Furniture|         5000|\n",
            "+-----------+-------------+\n",
            "\n",
            "+------------+-----------+\n",
            "|        name|total_spent|\n",
            "+------------+-----------+\n",
            "|Rahul Sharma|      64000|\n",
            "| Priya Singh|      50000|\n",
            "|  Divya Nair|       5000|\n",
            "|  Aman Kumar|       5000|\n",
            "| Arjun Mehta|       3500|\n",
            "+------------+-----------+\n",
            "\n"
          ]
        }
      ]
    },
    {
      "cell_type": "code",
      "source": [
        "customers_df.createOrReplaceTempView(\"customers\")\n",
        "products_df.createOrReplaceTempView(\"products\")\n",
        "orders_df.createOrReplaceTempView(\"orders\")\n",
        "\n",
        "spark.sql(\"\"\"\n",
        "    SELECT c.city, SUM(p.price * o.quantity) AS total_revenue\n",
        "    FROM orders o\n",
        "    JOIN customers c ON o.customer_id = c.customer_id\n",
        "    JOIN products p ON o.product_id = p.product_id\n",
        "    GROUP BY c.city\n",
        "    ORDER BY total_revenue DESC\n",
        "    LIMIT 2\n",
        "\"\"\").show()\n",
        "\n",
        "spark.sql(\"\"\"\n",
        "    SELECT c.name, SUM(p.price * o.quantity) AS total_spent\n",
        "    FROM orders o\n",
        "    JOIN customers c ON o.customer_id = c.customer_id\n",
        "    JOIN products p ON o.product_id = p.product_id\n",
        "    GROUP BY c.name\n",
        "    HAVING SUM(p.price * o.quantity) > 50000\n",
        "\"\"\").show()\n",
        "\n",
        "spark.sql(\"\"\"\n",
        "    SELECT p.category, SUM(p.price * o.quantity) AS total_revenue\n",
        "    FROM orders o\n",
        "    JOIN products p ON o.product_id = p.product_id\n",
        "    GROUP BY p.category\n",
        "    ORDER BY total_revenue DESC\n",
        "    LIMIT 1\n",
        "\"\"\").show()"
      ],
      "metadata": {
        "colab": {
          "base_uri": "https://localhost:8080/"
        },
        "id": "U9p9Cze0K6dS",
        "outputId": "4ee9d63c-0d39-4906-86f8-65704fb23792"
      },
      "execution_count": 6,
      "outputs": [
        {
          "output_type": "stream",
          "name": "stdout",
          "text": [
            "+---------+-------------+\n",
            "|     city|total_revenue|\n",
            "+---------+-------------+\n",
            "|Bangalore|        64000|\n",
            "|    Delhi|        55000|\n",
            "+---------+-------------+\n",
            "\n",
            "+------------+-----------+\n",
            "|        name|total_spent|\n",
            "+------------+-----------+\n",
            "|Rahul Sharma|      64000|\n",
            "+------------+-----------+\n",
            "\n",
            "+-----------+-------------+\n",
            "|   category|total_revenue|\n",
            "+-----------+-------------+\n",
            "|Electronics|       169000|\n",
            "+-----------+-------------+\n",
            "\n"
          ]
        }
      ]
    }
  ]
}
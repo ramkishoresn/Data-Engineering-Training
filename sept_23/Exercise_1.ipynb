{
  "nbformat": 4,
  "nbformat_minor": 0,
  "metadata": {
    "colab": {
      "provenance": []
    },
    "kernelspec": {
      "name": "python3",
      "display_name": "Python 3"
    },
    "language_info": {
      "name": "python"
    }
  },
  "cells": [
    {
      "cell_type": "code",
      "execution_count": 2,
      "metadata": {
        "colab": {
          "base_uri": "https://localhost:8080/"
        },
        "id": "PJpIKhMAsYgm",
        "outputId": "b13d97a1-5435-4e99-84a1-ceb463b20335"
      },
      "outputs": [
        {
          "output_type": "stream",
          "name": "stdout",
          "text": [
            "Requirement already satisfied: pyspark in /usr/local/lib/python3.12/dist-packages (3.5.1)\n",
            "Requirement already satisfied: py4j==0.10.9.7 in /usr/local/lib/python3.12/dist-packages (from pyspark) (0.10.9.7)\n"
          ]
        }
      ],
      "source": [
        "!pip install pyspark\n",
        "\n",
        "from pyspark.sql import SparkSession\n",
        "\n",
        "spark = SparkSession.builder.appName(\"Product-Order-Example\").getOrCreate()"
      ]
    },
    {
      "cell_type": "code",
      "source": [
        "product_data = [\n",
        "    (101, \"Laptop\", \"Electronics\", 55000),\n",
        "    (102, \"Mobile Phone\", \"Electronics\", 25000),\n",
        "    (103, \"Chair\", \"Furniture\", 5000),\n",
        "    (104, \"Book\", \"Stationery\", 300),\n",
        "    (105, \"Headphones\", \"Electronics\", 3000)\n",
        "]\n",
        "\n",
        "product_cols = [\"product_id\", \"name\", \"category\", \"price\"]\n",
        "product_df = spark.createDataFrame(product_data, product_cols)\n",
        "\n",
        "order_data = [\n",
        "    (201, 101, 2, \"Rahul Sharma\"),\n",
        "    (202, 102, 1, \"Priya Singh\"),\n",
        "    (203, 103, 4, \"Aman Kumar\"),\n",
        "    (204, 104, 10, \"Sneha Reddy\"),\n",
        "    (205, 101, 1, \"Arjun Mehta\"),\n",
        "    (206, 105, 3, \"Rahul Sharma\"),\n",
        "    (207, 106, 1, \"Ghost Customer\")\n",
        "]\n",
        "\n",
        "order_cols = [\"order_id\", \"product_id\", \"quantity\", \"customer\"]\n",
        "order_df = spark.createDataFrame(order_data, order_cols)\n",
        "\n",
        "product_df.show()\n",
        "order_df.show()\n"
      ],
      "metadata": {
        "colab": {
          "base_uri": "https://localhost:8080/"
        },
        "id": "E0AJ3mfps8Mo",
        "outputId": "2e1b9e19-f130-45e8-8514-e8e25ae6d715"
      },
      "execution_count": 3,
      "outputs": [
        {
          "output_type": "stream",
          "name": "stdout",
          "text": [
            "+----------+------------+-----------+-----+\n",
            "|product_id|        name|   category|price|\n",
            "+----------+------------+-----------+-----+\n",
            "|       101|      Laptop|Electronics|55000|\n",
            "|       102|Mobile Phone|Electronics|25000|\n",
            "|       103|       Chair|  Furniture| 5000|\n",
            "|       104|        Book| Stationery|  300|\n",
            "|       105|  Headphones|Electronics| 3000|\n",
            "+----------+------------+-----------+-----+\n",
            "\n",
            "+--------+----------+--------+--------------+\n",
            "|order_id|product_id|quantity|      customer|\n",
            "+--------+----------+--------+--------------+\n",
            "|     201|       101|       2|  Rahul Sharma|\n",
            "|     202|       102|       1|   Priya Singh|\n",
            "|     203|       103|       4|    Aman Kumar|\n",
            "|     204|       104|      10|   Sneha Reddy|\n",
            "|     205|       101|       1|   Arjun Mehta|\n",
            "|     206|       105|       3|  Rahul Sharma|\n",
            "|     207|       106|       1|Ghost Customer|\n",
            "+--------+----------+--------+--------------+\n",
            "\n"
          ]
        }
      ]
    },
    {
      "cell_type": "code",
      "source": [
        "product_df.select(\"name\",\"price\").show()\n",
        "\n",
        "product_df.filter(product_df[\"price\"] > 10000).show()\n",
        "\n",
        "product_df.orderBy(product_df[\"price\"].desc()).show()"
      ],
      "metadata": {
        "colab": {
          "base_uri": "https://localhost:8080/"
        },
        "id": "eey7rr-duFR3",
        "outputId": "2e5cdd32-a825-4362-b68b-4cf87f009be9"
      },
      "execution_count": 5,
      "outputs": [
        {
          "output_type": "stream",
          "name": "stdout",
          "text": [
            "+------------+-----+\n",
            "|        name|price|\n",
            "+------------+-----+\n",
            "|      Laptop|55000|\n",
            "|Mobile Phone|25000|\n",
            "|       Chair| 5000|\n",
            "|        Book|  300|\n",
            "|  Headphones| 3000|\n",
            "+------------+-----+\n",
            "\n",
            "+----------+------------+-----------+-----+\n",
            "|product_id|        name|   category|price|\n",
            "+----------+------------+-----------+-----+\n",
            "|       101|      Laptop|Electronics|55000|\n",
            "|       102|Mobile Phone|Electronics|25000|\n",
            "+----------+------------+-----------+-----+\n",
            "\n",
            "+----------+------------+-----------+-----+\n",
            "|product_id|        name|   category|price|\n",
            "+----------+------------+-----------+-----+\n",
            "|       101|      Laptop|Electronics|55000|\n",
            "|       102|Mobile Phone|Electronics|25000|\n",
            "|       103|       Chair|  Furniture| 5000|\n",
            "|       105|  Headphones|Electronics| 3000|\n",
            "|       104|        Book| Stationery|  300|\n",
            "+----------+------------+-----------+-----+\n",
            "\n"
          ]
        }
      ]
    },
    {
      "cell_type": "code",
      "source": [
        "order_df.groupBy(\"product_id\").sum(\"quantity\").show()\n",
        "\n",
        "order_df.groupBy(\"customer\").count().show()\n",
        "\n",
        "product_df.groupBy(\"category\").avg(\"price\").show()"
      ],
      "metadata": {
        "colab": {
          "base_uri": "https://localhost:8080/"
        },
        "id": "ECh-qMOwufjM",
        "outputId": "e0511b29-c677-43eb-be3c-21d152480e27"
      },
      "execution_count": 6,
      "outputs": [
        {
          "output_type": "stream",
          "name": "stdout",
          "text": [
            "+----------+-------------+\n",
            "|product_id|sum(quantity)|\n",
            "+----------+-------------+\n",
            "|       103|            4|\n",
            "|       101|            3|\n",
            "|       102|            1|\n",
            "|       104|           10|\n",
            "|       106|            1|\n",
            "|       105|            3|\n",
            "+----------+-------------+\n",
            "\n",
            "+--------------+-----+\n",
            "|      customer|count|\n",
            "+--------------+-----+\n",
            "|    Aman Kumar|    1|\n",
            "|  Rahul Sharma|    2|\n",
            "|   Priya Singh|    1|\n",
            "|   Arjun Mehta|    1|\n",
            "|Ghost Customer|    1|\n",
            "|   Sneha Reddy|    1|\n",
            "+--------------+-----+\n",
            "\n",
            "+-----------+------------------+\n",
            "|   category|        avg(price)|\n",
            "+-----------+------------------+\n",
            "|Electronics|27666.666666666668|\n",
            "| Stationery|             300.0|\n",
            "|  Furniture|            5000.0|\n",
            "+-----------+------------------+\n",
            "\n"
          ]
        }
      ]
    },
    {
      "cell_type": "code",
      "source": [
        "order_df.join(product_df, order_df.product_id == product_df.product_id,\"inner\").show()\n",
        "\n",
        "order_df.join(product_df, order_df.product_id == product_df.product_id,\"left\").show()\n",
        "\n",
        "order_df.join(product_df, order_df.product_id == product_df.product_id,\"right\").show()"
      ],
      "metadata": {
        "colab": {
          "base_uri": "https://localhost:8080/"
        },
        "id": "bPShVqWz2P-v",
        "outputId": "e1376420-efd5-4f02-c1b5-c17a69ef8854"
      },
      "execution_count": 7,
      "outputs": [
        {
          "output_type": "stream",
          "name": "stdout",
          "text": [
            "+--------+----------+--------+------------+----------+------------+-----------+-----+\n",
            "|order_id|product_id|quantity|    customer|product_id|        name|   category|price|\n",
            "+--------+----------+--------+------------+----------+------------+-----------+-----+\n",
            "|     201|       101|       2|Rahul Sharma|       101|      Laptop|Electronics|55000|\n",
            "|     205|       101|       1| Arjun Mehta|       101|      Laptop|Electronics|55000|\n",
            "|     202|       102|       1| Priya Singh|       102|Mobile Phone|Electronics|25000|\n",
            "|     203|       103|       4|  Aman Kumar|       103|       Chair|  Furniture| 5000|\n",
            "|     204|       104|      10| Sneha Reddy|       104|        Book| Stationery|  300|\n",
            "|     206|       105|       3|Rahul Sharma|       105|  Headphones|Electronics| 3000|\n",
            "+--------+----------+--------+------------+----------+------------+-----------+-----+\n",
            "\n",
            "+--------+----------+--------+--------------+----------+------------+-----------+-----+\n",
            "|order_id|product_id|quantity|      customer|product_id|        name|   category|price|\n",
            "+--------+----------+--------+--------------+----------+------------+-----------+-----+\n",
            "|     203|       103|       4|    Aman Kumar|       103|       Chair|  Furniture| 5000|\n",
            "|     201|       101|       2|  Rahul Sharma|       101|      Laptop|Electronics|55000|\n",
            "|     202|       102|       1|   Priya Singh|       102|Mobile Phone|Electronics|25000|\n",
            "|     204|       104|      10|   Sneha Reddy|       104|        Book| Stationery|  300|\n",
            "|     207|       106|       1|Ghost Customer|      NULL|        NULL|       NULL| NULL|\n",
            "|     206|       105|       3|  Rahul Sharma|       105|  Headphones|Electronics| 3000|\n",
            "|     205|       101|       1|   Arjun Mehta|       101|      Laptop|Electronics|55000|\n",
            "+--------+----------+--------+--------------+----------+------------+-----------+-----+\n",
            "\n",
            "+--------+----------+--------+------------+----------+------------+-----------+-----+\n",
            "|order_id|product_id|quantity|    customer|product_id|        name|   category|price|\n",
            "+--------+----------+--------+------------+----------+------------+-----------+-----+\n",
            "|     205|       101|       1| Arjun Mehta|       101|      Laptop|Electronics|55000|\n",
            "|     201|       101|       2|Rahul Sharma|       101|      Laptop|Electronics|55000|\n",
            "|     202|       102|       1| Priya Singh|       102|Mobile Phone|Electronics|25000|\n",
            "|     203|       103|       4|  Aman Kumar|       103|       Chair|  Furniture| 5000|\n",
            "|     204|       104|      10| Sneha Reddy|       104|        Book| Stationery|  300|\n",
            "|     206|       105|       3|Rahul Sharma|       105|  Headphones|Electronics| 3000|\n",
            "+--------+----------+--------+------------+----------+------------+-----------+-----+\n",
            "\n"
          ]
        }
      ]
    },
    {
      "cell_type": "code",
      "source": [
        "product_df.createOrReplaceTempView(\"products\")\n",
        "\n",
        "order_df.createOrReplaceTempView(\"orders\")\n",
        "\n",
        "spark.sql(\"\"\"\n",
        "SELECT o.product_id, p.name, SUM(o.quantity* p.price) AS total_revenue\n",
        "FROM orders o\n",
        "JOIN products p ON o.product_id = p.product_id\n",
        "GROUP BY o.product_id, p.name\n",
        "\"\"\").show()\n",
        "\n",
        "spark.sql(\"\"\"\n",
        "SELECT customer, SUM(quantity) AS total_qty\n",
        "FROM orders\n",
        "GROUP BY customer\n",
        "ORDER BY total_qty DESC\n",
        "LIMIT 2\n",
        "\"\"\").show()"
      ],
      "metadata": {
        "colab": {
          "base_uri": "https://localhost:8080/"
        },
        "id": "xNHoF2SD7b2O",
        "outputId": "8126e80f-a52f-4c03-f140-56154f13151b"
      },
      "execution_count": 8,
      "outputs": [
        {
          "output_type": "stream",
          "name": "stdout",
          "text": [
            "+----------+------------+-------------+\n",
            "|product_id|        name|total_revenue|\n",
            "+----------+------------+-------------+\n",
            "|       101|      Laptop|       165000|\n",
            "|       102|Mobile Phone|        25000|\n",
            "|       103|       Chair|        20000|\n",
            "|       104|        Book|         3000|\n",
            "|       105|  Headphones|         9000|\n",
            "+----------+------------+-------------+\n",
            "\n",
            "+------------+---------+\n",
            "|    customer|total_qty|\n",
            "+------------+---------+\n",
            "| Sneha Reddy|       10|\n",
            "|Rahul Sharma|        5|\n",
            "+------------+---------+\n",
            "\n"
          ]
        }
      ]
    }
  ]
}
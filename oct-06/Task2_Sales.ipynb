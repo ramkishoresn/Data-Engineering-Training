{
 "cells": [
  {
   "cell_type": "code",
   "execution_count": 0,
   "metadata": {
    "application/vnd.databricks.v1+cell": {
     "cellMetadata": {
      "byteLimit": 2048000,
      "rowLimit": 10000
     },
     "inputWidgets": {},
     "nuid": "147c8c03-37bf-4241-a4ea-205e27b18d22",
     "showTitle": false,
     "tableResultSettingsMap": {},
     "title": ""
    }
   },
   "outputs": [
    {
     "output_type": "display_data",
     "data": {
      "text/html": [
       "<style scoped>\n",
       "  .table-result-container {\n",
       "    max-height: 300px;\n",
       "    overflow: auto;\n",
       "  }\n",
       "  table, th, td {\n",
       "    border: 1px solid black;\n",
       "    border-collapse: collapse;\n",
       "  }\n",
       "  th, td {\n",
       "    padding: 5px;\n",
       "  }\n",
       "  th {\n",
       "    text-align: left;\n",
       "  }\n",
       "</style><div class='table-result-container'><table class='table-result'><thead style='background-color: white'><tr><th>order_id</th><th>product</th><th>category</th><th>quantity</th><th>price</th><th>region</th><th>sale_date</th></tr></thead><tbody><tr><td>1001</td><td>Laptop</td><td>Electronics</td><td>2</td><td>55000</td><td>North</td><td>2024-01-10</td></tr><tr><td>1002</td><td>Mobile</td><td>Electronics</td><td>3</td><td>25000</td><td>South</td><td>2024-01-12</td></tr><tr><td>1003</td><td>Headphones</td><td>Electronics</td><td>5</td><td>3000</td><td>East</td><td>2024-01-15</td></tr><tr><td>1004</td><td>Chair</td><td>Furniture</td><td>4</td><td>5000</td><td>West</td><td>2024-02-05</td></tr><tr><td>1005</td><td>Book</td><td>Stationery</td><td>10</td><td>700</td><td>North</td><td>2024-02-08</td></tr><tr><td>1006</td><td>Shoes</td><td>Fashion</td><td>3</td><td>2500</td><td>South</td><td>2024-02-20</td></tr><tr><td>1007</td><td>Table</td><td>Furniture</td><td>2</td><td>7000</td><td>West</td><td>2024-03-01</td></tr><tr><td>1008</td><td>Pen</td><td>Stationery</td><td>20</td><td>50</td><td>East</td><td>2024-03-10</td></tr><tr><td>1009</td><td>Laptop</td><td>Electronics</td><td>1</td><td>55000</td><td>North</td><td>2024-03-15</td></tr><tr><td>1010</td><td>Mobile</td><td>Electronics</td><td>2</td><td>25000</td><td>South</td><td>2024-03-18</td></tr></tbody></table></div>"
      ]
     },
     "metadata": {
      "application/vnd.databricks.v1+output": {
       "addedWidgets": {},
       "aggData": [],
       "aggError": "",
       "aggOverflow": false,
       "aggSchema": [],
       "aggSeriesLimitReached": false,
       "aggType": "",
       "arguments": {},
       "columnCustomDisplayInfos": {},
       "data": [
        [
         1001,
         "Laptop",
         "Electronics",
         2,
         55000,
         "North",
         "2024-01-10"
        ],
        [
         1002,
         "Mobile",
         "Electronics",
         3,
         25000,
         "South",
         "2024-01-12"
        ],
        [
         1003,
         "Headphones",
         "Electronics",
         5,
         3000,
         "East",
         "2024-01-15"
        ],
        [
         1004,
         "Chair",
         "Furniture",
         4,
         5000,
         "West",
         "2024-02-05"
        ],
        [
         1005,
         "Book",
         "Stationery",
         10,
         700,
         "North",
         "2024-02-08"
        ],
        [
         1006,
         "Shoes",
         "Fashion",
         3,
         2500,
         "South",
         "2024-02-20"
        ],
        [
         1007,
         "Table",
         "Furniture",
         2,
         7000,
         "West",
         "2024-03-01"
        ],
        [
         1008,
         "Pen",
         "Stationery",
         20,
         50,
         "East",
         "2024-03-10"
        ],
        [
         1009,
         "Laptop",
         "Electronics",
         1,
         55000,
         "North",
         "2024-03-15"
        ],
        [
         1010,
         "Mobile",
         "Electronics",
         2,
         25000,
         "South",
         "2024-03-18"
        ]
       ],
       "datasetInfos": [],
       "dbfsResultPath": null,
       "isJsonSchema": true,
       "metadata": {},
       "overflow": false,
       "plotOptions": {
        "customPlotOptions": {},
        "displayType": "table",
        "pivotAggregation": null,
        "pivotColumns": null,
        "xColumns": null,
        "yColumns": null
       },
       "removedWidgets": [],
       "schema": [
        {
         "metadata": "{}",
         "name": "order_id",
         "type": "\"integer\""
        },
        {
         "metadata": "{}",
         "name": "product",
         "type": "\"string\""
        },
        {
         "metadata": "{}",
         "name": "category",
         "type": "\"string\""
        },
        {
         "metadata": "{}",
         "name": "quantity",
         "type": "\"integer\""
        },
        {
         "metadata": "{}",
         "name": "price",
         "type": "\"integer\""
        },
        {
         "metadata": "{}",
         "name": "region",
         "type": "\"string\""
        },
        {
         "metadata": "{\"__detected_date_formats\":\"yyyy-M-d\"}",
         "name": "sale_date",
         "type": "\"date\""
        }
       ],
       "type": "table"
      }
     },
     "output_type": "display_data"
    }
   ],
   "source": [
    "df = spark.read.csv(\"/FileStore/tables/sales.csv\", header=True, inferSchema=True)\n",
    "display(df)"
   ]
  },
  {
   "cell_type": "code",
   "execution_count": 0,
   "metadata": {
    "application/vnd.databricks.v1+cell": {
     "cellMetadata": {
      "byteLimit": 2048000,
      "rowLimit": 10000
     },
     "inputWidgets": {},
     "nuid": "697be824-2a1f-43d5-94eb-24ae67edaeea",
     "showTitle": false,
     "tableResultSettingsMap": {},
     "title": ""
    }
   },
   "outputs": [
    {
     "output_type": "stream",
     "name": "stdout",
     "output_type": "stream",
     "text": [
      "+--------+----------+-----------+--------+-----+------+----------+\n|order_id|   product|   category|quantity|price|region| sale_date|\n+--------+----------+-----------+--------+-----+------+----------+\n|    1001|    Laptop|Electronics|       2|55000| North|2024-01-10|\n|    1002|    Mobile|Electronics|       3|25000| South|2024-01-12|\n|    1003|Headphones|Electronics|       5| 3000|  East|2024-01-15|\n|    1004|     Chair|  Furniture|       4| 5000|  West|2024-02-05|\n|    1005|      Book| Stationery|      10|  700| North|2024-02-08|\n|    1006|     Shoes|    Fashion|       3| 2500| South|2024-02-20|\n|    1007|     Table|  Furniture|       2| 7000|  West|2024-03-01|\n|    1008|       Pen| Stationery|      20|   50|  East|2024-03-10|\n|    1009|    Laptop|Electronics|       1|55000| North|2024-03-15|\n|    1010|    Mobile|Electronics|       2|25000| South|2024-03-18|\n+--------+----------+-----------+--------+-----+------+----------+\n\nTotal Records: 10\n"
     ]
    }
   ],
   "source": [
    "df.show()                 \n",
    "print(\"Total Records:\", df.count())\n",
    "\n"
   ]
  },
  {
   "cell_type": "code",
   "execution_count": 0,
   "metadata": {
    "application/vnd.databricks.v1+cell": {
     "cellMetadata": {
      "byteLimit": 2048000,
      "rowLimit": 10000
     },
     "inputWidgets": {},
     "nuid": "4485d408-0b9c-453b-9e55-bd136b6328b2",
     "showTitle": false,
     "tableResultSettingsMap": {},
     "title": ""
    }
   },
   "outputs": [
    {
     "output_type": "stream",
     "name": "stdout",
     "output_type": "stream",
     "text": [
      "+----------+------+-----+\n|   product|region|price|\n+----------+------+-----+\n|    Laptop| North|55000|\n|    Mobile| South|25000|\n|Headphones|  East| 3000|\n|     Chair|  West| 5000|\n|      Book| North|  700|\n|     Shoes| South| 2500|\n|     Table|  West| 7000|\n|       Pen|  East|   50|\n|    Laptop| North|55000|\n|    Mobile| South|25000|\n+----------+------+-----+\n\n"
     ]
    }
   ],
   "source": [
    "df.select(\"product\", \"region\", \"price\").show()\n"
   ]
  },
  {
   "cell_type": "code",
   "execution_count": 0,
   "metadata": {
    "application/vnd.databricks.v1+cell": {
     "cellMetadata": {
      "byteLimit": 2048000,
      "rowLimit": 10000
     },
     "inputWidgets": {},
     "nuid": "63b09f51-a641-44ef-a2d6-ec7dd06e6824",
     "showTitle": false,
     "tableResultSettingsMap": {},
     "title": ""
    }
   },
   "outputs": [
    {
     "output_type": "stream",
     "name": "stdout",
     "output_type": "stream",
     "text": [
      "+--------+-------+-----------+--------+-----+------+----------+\n|order_id|product|   category|quantity|price|region| sale_date|\n+--------+-------+-----------+--------+-----+------+----------+\n|    1001| Laptop|Electronics|       2|55000| North|2024-01-10|\n|    1005|   Book| Stationery|      10|  700| North|2024-02-08|\n|    1009| Laptop|Electronics|       1|55000| North|2024-03-15|\n+--------+-------+-----------+--------+-----+------+----------+\n\n"
     ]
    }
   ],
   "source": [
    "df.filter(df.region == \"North\").show()\n"
   ]
  },
  {
   "cell_type": "code",
   "execution_count": 0,
   "metadata": {
    "application/vnd.databricks.v1+cell": {
     "cellMetadata": {
      "byteLimit": 2048000,
      "rowLimit": 10000
     },
     "inputWidgets": {},
     "nuid": "bf7aa88e-2240-4272-a120-ebd656402f32",
     "showTitle": false,
     "tableResultSettingsMap": {},
     "title": ""
    }
   },
   "outputs": [
    {
     "output_type": "stream",
     "name": "stdout",
     "output_type": "stream",
     "text": [
      "+-----------+\n|   category|\n+-----------+\n| Stationery|\n|    Fashion|\n|Electronics|\n|  Furniture|\n+-----------+\n\n"
     ]
    }
   ],
   "source": [
    "df.select(\"category\").distinct().show()\n"
   ]
  },
  {
   "cell_type": "code",
   "execution_count": 0,
   "metadata": {
    "application/vnd.databricks.v1+cell": {
     "cellMetadata": {
      "byteLimit": 2048000,
      "rowLimit": 10000
     },
     "inputWidgets": {},
     "nuid": "a4ab376b-0ded-451c-8a63-6381f8bbb5b6",
     "showTitle": false,
     "tableResultSettingsMap": {},
     "title": ""
    }
   },
   "outputs": [
    {
     "output_type": "stream",
     "name": "stdout",
     "output_type": "stream",
     "text": [
      "Number of unique regions: 4\n"
     ]
    }
   ],
   "source": [
    "unique_regions = df.select(\"region\").distinct().count()\n",
    "print(\"Number of unique regions:\", unique_regions)\n"
   ]
  }
 ],
 "metadata": {
  "application/vnd.databricks.v1+notebook": {
   "computePreferences": null,
   "dashboards": [],
   "environmentMetadata": {
    "base_environment": "",
    "environment_version": "3"
   },
   "inputWidgetPreferences": null,
   "language": "python",
   "notebookMetadata": {
    "pythonIndentUnit": 4
   },
   "notebookName": "Untitled Notebook 2025-10-06 16:57:51",
   "widgets": {}
  },
  "language_info": {
   "name": "python"
  }
 },
 "nbformat": 4,
 "nbformat_minor": 0
}
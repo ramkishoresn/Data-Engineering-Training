{
 "cells": [
  {
   "cell_type": "code",
   "execution_count": 0,
   "metadata": {
    "application/vnd.databricks.v1+cell": {
     "cellMetadata": {
      "byteLimit": 2048000,
      "rowLimit": 10000
     },
     "inputWidgets": {},
     "nuid": "7c85b0f4-c6e1-488d-abcf-29d99cc344c7",
     "showTitle": false,
     "tableResultSettingsMap": {},
     "title": ""
    }
   },
   "outputs": [
    {
     "output_type": "stream",
     "name": "stdout",
     "output_type": "stream",
     "text": [
      "--- Data Loaded Successfully ---\nroot\n |-- supplier_id: string (nullable = true)\n |-- Delayed_Order_Count: integer (nullable = true)\n |-- Total_Delayed_Value: double (nullable = true)\n\n+-----------+-------------------+-------------------+\n|supplier_id|Delayed_Order_Count|Total_Delayed_Value|\n+-----------+-------------------+-------------------+\n|       S001|                  1|             2500.0|\n+-----------+-------------------+-------------------+\n\n"
     ]
    }
   ],
   "source": [
    "# COMMAND ----------\n",
    "# Language: Python (PySpark)\n",
    "\n",
    "# **REPLACE \"THE_EXACT_FOLDER_NAME_HERE\"** with the name you found in Step 1!\n",
    "\n",
    "dbfs_path = \"/FileStore/tables/supplier_metrics_output.txt/\" \n",
    "# For example: dbfs_path = \"/FileStore/tables/metrics_run_2025/\"\n",
    "\n",
    "# Read the data from DBFS into a DataFrame\n",
    "orders_summary_df = spark.read.format(\"csv\") \\\n",
    "  .option(\"header\", \"true\") \\\n",
    "  .option(\"inferSchema\", \"true\") \\\n",
    "  .load(dbfs_path) \n",
    "\n",
    "print(\"--- Data Loaded Successfully ---\")\n",
    "orders_summary_df.printSchema()\n",
    "orders_summary_df.show(5)"
   ]
  },
  {
   "cell_type": "code",
   "execution_count": 0,
   "metadata": {
    "application/vnd.databricks.v1+cell": {
     "cellMetadata": {
      "byteLimit": 2048000,
      "rowLimit": 10000
     },
     "inputWidgets": {},
     "nuid": "5cf27c09-d20b-4e58-b1cb-f5343350a71d",
     "showTitle": false,
     "tableResultSettingsMap": {},
     "title": ""
    }
   },
   "outputs": [
    {
     "output_type": "stream",
     "name": "stdout",
     "output_type": "stream",
     "text": [
      "--- 2. Transformation: Cleaning and Filtering ---\n\nCritical Suppliers (Filtered Output):\n+-----------+-------------------+-------------------+\n|supplier_id|Delayed_Order_Count|Total_Delayed_Value|\n+-----------+-------------------+-------------------+\n+-----------+-------------------+-------------------+\n\n"
     ]
    }
   ],
   "source": [
    "# COMMAND ----------\n",
    "# Language: Python (PySpark)\n",
    "\n",
    "from pyspark.sql.functions import col\n",
    "\n",
    "print(\"--- 2. Transformation: Cleaning and Filtering ---\")\n",
    "\n",
    "# Filter the data: Keep only suppliers with a minimum threshold of delayed orders (e.g., 2 or more).\n",
    "# This helps identify critical suppliers for optimization.\n",
    "cleaned_df = orders_summary_df.filter(\n",
    "    col(\"Delayed_Order_Count\") >= 2\n",
    ")\n",
    "\n",
    "print(\"\\nCritical Suppliers (Filtered Output):\")\n",
    "cleaned_df.show()"
   ]
  },
  {
   "cell_type": "code",
   "execution_count": 0,
   "metadata": {
    "application/vnd.databricks.v1+cell": {
     "cellMetadata": {
      "byteLimit": 2048000,
      "rowLimit": 10000
     },
     "inputWidgets": {},
     "nuid": "a9076c5c-adca-4a70-b774-2a83974dbfc0",
     "showTitle": false,
     "tableResultSettingsMap": {},
     "title": ""
    }
   },
   "outputs": [
    {
     "output_type": "stream",
     "name": "stdout",
     "output_type": "stream",
     "text": [
      "--- 3. Load: Cleaned Output Saved to Delta ---\nPath: /mnt/data_lake/critical_supplier_metrics_delta\n"
     ]
    }
   ],
   "source": [
    "# COMMAND ----------\n",
    "# Language: Python (PySpark)\n",
    "\n",
    "# Define a persistent path for the Delta Table in your data lake\n",
    "delta_output_path = \"/mnt/data_lake/critical_supplier_metrics_delta\"\n",
    "\n",
    "# Save the final, filtered DataFrame as a Delta table\n",
    "cleaned_df.write \\\n",
    "  .format(\"delta\") \\\n",
    "  .mode(\"overwrite\") \\\n",
    "  .save(delta_output_path)\n",
    "\n",
    "print(f\"--- 3. Load: Cleaned Output Saved to Delta ---\")\n",
    "print(f\"Path: {delta_output_path}\")\n",
    "\n",
    "# DELIVERABLE: Cleaned output stored in Delta format"
   ]
  },
  {
   "cell_type": "code",
   "execution_count": 0,
   "metadata": {
    "application/vnd.databricks.v1+cell": {
     "cellMetadata": {
      "byteLimit": 2048000,
      "implicitDf": true,
      "rowLimit": 10000
     },
     "inputWidgets": {},
     "nuid": "cec3e69e-41b8-48dc-8799-732bcec2f810",
     "showTitle": false,
     "tableResultSettingsMap": {},
     "title": ""
    }
   },
   "outputs": [
    {
     "output_type": "stream",
     "name": "stdout",
     "output_type": "stream",
     "text": [
      "--- Analysis Query Results ---\n+-----------+-------------------+-------------------+\n|supplier_id|Delayed_Order_Count|Total_Delayed_Value|\n+-----------+-------------------+-------------------+\n+-----------+-------------------+-------------------+\n\n"
     ]
    }
   ],
   "source": [
    "# COMMAND ----------\n",
    "# Language: Python (PySpark)\n",
    "\n",
    "# Define the Delta path\n",
    "delta_output_path = '/mnt/data_lake/critical_supplier_metrics_delta'\n",
    "\n",
    "# Read the Delta table back into a DataFrame\n",
    "delta_df = spark.read.format(\"delta\").load(delta_output_path)\n",
    "\n",
    "# Create the temporary view from the DataFrame\n",
    "delta_df.createOrReplaceTempView(\"critical_metrics_vw\")\n",
    "\n",
    "print(\"--- Analysis Query Results ---\")\n",
    "# Now, run the SQL query against the temporary view\n",
    "spark.sql(\"\"\"\n",
    "SELECT \n",
    "    supplier_id,\n",
    "    Delayed_Order_Count,\n",
    "    Total_Delayed_Value\n",
    "FROM critical_metrics_vw\n",
    "ORDER BY Total_Delayed_Value DESC\n",
    "\"\"\").show()"
   ]
  }
 ],
 "metadata": {
  "application/vnd.databricks.v1+notebook": {
   "computePreferences": null,
   "dashboards": [],
   "environmentMetadata": {
    "base_environment": "",
    "environment_version": "4"
   },
   "inputWidgetPreferences": null,
   "language": "python",
   "notebookMetadata": {
    "mostRecentlyExecutedCommandWithImplicitDF": {
     "commandId": -1,
     "dataframes": [
      "_sqldf"
     ]
    },
    "pythonIndentUnit": 4
   },
   "notebookName": "Simple ETL in Azure Databricks",
   "widgets": {}
  },
  "language_info": {
   "name": "python"
  }
 },
 "nbformat": 4,
 "nbformat_minor": 0
}
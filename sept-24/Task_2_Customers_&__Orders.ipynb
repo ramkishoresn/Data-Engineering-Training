{
  "nbformat": 4,
  "nbformat_minor": 0,
  "metadata": {
    "colab": {
      "provenance": []
    },
    "kernelspec": {
      "name": "python3",
      "display_name": "Python 3"
    },
    "language_info": {
      "name": "python"
    }
  },
  "cells": [
    {
      "cell_type": "code",
      "execution_count": 1,
      "metadata": {
        "colab": {
          "base_uri": "https://localhost:8080/"
        },
        "id": "XzIrXvrNiB5s",
        "outputId": "546f6a47-4647-420b-cf28-48b31e48b7e9"
      },
      "outputs": [
        {
          "output_type": "stream",
          "name": "stdout",
          "text": [
            "+------------+---------+\n",
            "|        name|     city|\n",
            "+------------+---------+\n",
            "|Rahul Sharma|Bangalore|\n",
            "| Priya Singh|    Delhi|\n",
            "|  Aman Kumar|Hyderabad|\n",
            "| Sneha Reddy|  Chennai|\n",
            "| Arjun Mehta|   Mumbai|\n",
            "|  Divya Nair|    Delhi|\n",
            "+------------+---------+\n",
            "\n",
            "+-----------+-----------+-------+---+\n",
            "|customer_id|       name|   city|age|\n",
            "+-----------+-----------+-------+---+\n",
            "|          2|Priya Singh|  Delhi| 32|\n",
            "|          4|Sneha Reddy|Chennai| 35|\n",
            "+-----------+-----------+-------+---+\n",
            "\n",
            "+---------+\n",
            "|     city|\n",
            "+---------+\n",
            "|Bangalore|\n",
            "|    Delhi|\n",
            "|Hyderabad|\n",
            "|  Chennai|\n",
            "|   Mumbai|\n",
            "+---------+\n",
            "\n"
          ]
        }
      ],
      "source": [
        "from pyspark.sql import SparkSession\n",
        "from pyspark.sql.functions import col, avg, max, min, count, sum, desc\n",
        "\n",
        "spark = SparkSession.builder.appName(\"DataFrame-Exercises\").getOrCreate()\n",
        "\n",
        "customers_data = [\n",
        "    (1, \"Rahul Sharma\", \"Bangalore\", 28),\n",
        "    (2, \"Priya Singh\", \"Delhi\", 32),\n",
        "    (3, \"Aman Kumar\", \"Hyderabad\", 25),\n",
        "    (4, \"Sneha Reddy\", \"Chennai\", 35),\n",
        "    (5, \"Arjun Mehta\", \"Mumbai\", 30),\n",
        "    (6, \"Divya Nair\", \"Delhi\", 29)\n",
        "]\n",
        "customers_cols = [\"customer_id\", \"name\", \"city\", \"age\"]\n",
        "customers_df = spark.createDataFrame(customers_data, customers_cols)\n",
        "\n",
        "orders_data = [\n",
        "    (101, 1, \"Laptop\", 55000),\n",
        "    (102, 2, \"Mobile\", 25000),\n",
        "    (103, 1, \"Headphones\", 3000),\n",
        "    (104, 3, \"Chair\", 5000),\n",
        "    (105, 5, \"Book\", 700),\n",
        "    (106, 2, \"Tablet\", 20000),\n",
        "    (107, 6, \"Shoes\", 2500),\n",
        "    (108, 7, \"Camera\", 30000)\n",
        "]\n",
        "orders_cols = [\"order_id\", \"customer_id\", \"product\", \"amount\"]\n",
        "orders_df = spark.createDataFrame(orders_data, orders_cols)\n",
        "\n",
        "customers_df.select(\"name\", \"city\").show()\n",
        "customers_df.filter(col(\"age\") > 30).show()\n",
        "customers_df.filter(col(\"city\") == \"Delhi\").count()\n",
        "customers_df.select(\"city\").distinct().show()"
      ]
    },
    {
      "cell_type": "code",
      "source": [
        "customers_df.agg(avg(\"age\").alias(\"avg_age\")).show()\n",
        "orders_df.agg(max(\"amount\").alias(\"max_amount\"), min(\"amount\").alias(\"min_amount\")).show()\n",
        "orders_df.groupBy(\"customer_id\").agg(count(\"*\").alias(\"order_count\")).show()\n",
        "orders_df.groupBy(\"customer_id\").agg(sum(\"amount\").alias(\"total_spending\")).show()"
      ],
      "metadata": {
        "colab": {
          "base_uri": "https://localhost:8080/"
        },
        "id": "qkvZaCdliWYw",
        "outputId": "1e088d39-2dd5-4eff-a931-12062761ca07"
      },
      "execution_count": 2,
      "outputs": [
        {
          "output_type": "stream",
          "name": "stdout",
          "text": [
            "+------------------+\n",
            "|           avg_age|\n",
            "+------------------+\n",
            "|29.833333333333332|\n",
            "+------------------+\n",
            "\n",
            "+----------+----------+\n",
            "|max_amount|min_amount|\n",
            "+----------+----------+\n",
            "|     55000|       700|\n",
            "+----------+----------+\n",
            "\n",
            "+-----------+-----------+\n",
            "|customer_id|order_count|\n",
            "+-----------+-----------+\n",
            "|          1|          2|\n",
            "|          3|          1|\n",
            "|          2|          2|\n",
            "|          7|          1|\n",
            "|          6|          1|\n",
            "|          5|          1|\n",
            "+-----------+-----------+\n",
            "\n",
            "+-----------+--------------+\n",
            "|customer_id|total_spending|\n",
            "+-----------+--------------+\n",
            "|          1|         58000|\n",
            "|          3|          5000|\n",
            "|          2|         45000|\n",
            "|          7|         30000|\n",
            "|          6|          2500|\n",
            "|          5|           700|\n",
            "+-----------+--------------+\n",
            "\n"
          ]
        }
      ]
    },
    {
      "cell_type": "code",
      "source": [
        "customers_df.join(orders_df, \"customer_id\", \"inner\").show()\n",
        "customers_df.join(orders_df, \"customer_id\", \"left\").show()\n",
        "customers_df.join(orders_df, \"customer_id\", \"left_anti\").show()\n",
        "orders_df.join(customers_df, \"customer_id\", \"left_anti\").show()"
      ],
      "metadata": {
        "colab": {
          "base_uri": "https://localhost:8080/"
        },
        "id": "kUuF3Aybia1Z",
        "outputId": "e3d85949-b772-47e4-d26b-85e48e3bd8b3"
      },
      "execution_count": 3,
      "outputs": [
        {
          "output_type": "stream",
          "name": "stdout",
          "text": [
            "+-----------+------------+---------+---+--------+----------+------+\n",
            "|customer_id|        name|     city|age|order_id|   product|amount|\n",
            "+-----------+------------+---------+---+--------+----------+------+\n",
            "|          1|Rahul Sharma|Bangalore| 28|     101|    Laptop| 55000|\n",
            "|          1|Rahul Sharma|Bangalore| 28|     103|Headphones|  3000|\n",
            "|          2| Priya Singh|    Delhi| 32|     102|    Mobile| 25000|\n",
            "|          2| Priya Singh|    Delhi| 32|     106|    Tablet| 20000|\n",
            "|          3|  Aman Kumar|Hyderabad| 25|     104|     Chair|  5000|\n",
            "|          5| Arjun Mehta|   Mumbai| 30|     105|      Book|   700|\n",
            "|          6|  Divya Nair|    Delhi| 29|     107|     Shoes|  2500|\n",
            "+-----------+------------+---------+---+--------+----------+------+\n",
            "\n",
            "+-----------+------------+---------+---+--------+----------+------+\n",
            "|customer_id|        name|     city|age|order_id|   product|amount|\n",
            "+-----------+------------+---------+---+--------+----------+------+\n",
            "|          1|Rahul Sharma|Bangalore| 28|     103|Headphones|  3000|\n",
            "|          1|Rahul Sharma|Bangalore| 28|     101|    Laptop| 55000|\n",
            "|          3|  Aman Kumar|Hyderabad| 25|     104|     Chair|  5000|\n",
            "|          2| Priya Singh|    Delhi| 32|     106|    Tablet| 20000|\n",
            "|          2| Priya Singh|    Delhi| 32|     102|    Mobile| 25000|\n",
            "|          6|  Divya Nair|    Delhi| 29|     107|     Shoes|  2500|\n",
            "|          5| Arjun Mehta|   Mumbai| 30|     105|      Book|   700|\n",
            "|          4| Sneha Reddy|  Chennai| 35|    NULL|      NULL|  NULL|\n",
            "+-----------+------------+---------+---+--------+----------+------+\n",
            "\n",
            "+-----------+-----------+-------+---+\n",
            "|customer_id|       name|   city|age|\n",
            "+-----------+-----------+-------+---+\n",
            "|          4|Sneha Reddy|Chennai| 35|\n",
            "+-----------+-----------+-------+---+\n",
            "\n",
            "+-----------+--------+-------+------+\n",
            "|customer_id|order_id|product|amount|\n",
            "+-----------+--------+-------+------+\n",
            "|          7|     108| Camera| 30000|\n",
            "+-----------+--------+-------+------+\n",
            "\n"
          ]
        }
      ]
    },
    {
      "cell_type": "code",
      "source": [
        "customers_df.orderBy(col(\"age\").desc()).show()\n",
        "orders_df.orderBy(col(\"amount\").desc()).limit(3).show()\n",
        "customers_df.groupBy(\"city\").agg(avg(\"age\").alias(\"avg_age\")).show()\n",
        "orders_df.groupBy(\"product\").agg(sum(\"amount\").alias(\"total_sales\")).show()\n"
      ],
      "metadata": {
        "colab": {
          "base_uri": "https://localhost:8080/"
        },
        "id": "RJJWbC1YifYr",
        "outputId": "a0cccd03-cd92-425d-f3d9-a3eaa07d2c7f"
      },
      "execution_count": 4,
      "outputs": [
        {
          "output_type": "stream",
          "name": "stdout",
          "text": [
            "+-----------+------------+---------+---+\n",
            "|customer_id|        name|     city|age|\n",
            "+-----------+------------+---------+---+\n",
            "|          4| Sneha Reddy|  Chennai| 35|\n",
            "|          2| Priya Singh|    Delhi| 32|\n",
            "|          5| Arjun Mehta|   Mumbai| 30|\n",
            "|          6|  Divya Nair|    Delhi| 29|\n",
            "|          1|Rahul Sharma|Bangalore| 28|\n",
            "|          3|  Aman Kumar|Hyderabad| 25|\n",
            "+-----------+------------+---------+---+\n",
            "\n",
            "+--------+-----------+-------+------+\n",
            "|order_id|customer_id|product|amount|\n",
            "+--------+-----------+-------+------+\n",
            "|     101|          1| Laptop| 55000|\n",
            "|     108|          7| Camera| 30000|\n",
            "|     102|          2| Mobile| 25000|\n",
            "+--------+-----------+-------+------+\n",
            "\n",
            "+---------+-------+\n",
            "|     city|avg_age|\n",
            "+---------+-------+\n",
            "|Bangalore|   28.0|\n",
            "|    Delhi|   30.5|\n",
            "|Hyderabad|   25.0|\n",
            "|  Chennai|   35.0|\n",
            "|   Mumbai|   30.0|\n",
            "+---------+-------+\n",
            "\n",
            "+----------+-----------+\n",
            "|   product|total_sales|\n",
            "+----------+-----------+\n",
            "|     Chair|       5000|\n",
            "|    Laptop|      55000|\n",
            "|    Mobile|      25000|\n",
            "|Headphones|       3000|\n",
            "|      Book|        700|\n",
            "|    Camera|      30000|\n",
            "|     Shoes|       2500|\n",
            "|    Tablet|      20000|\n",
            "+----------+-----------+\n",
            "\n"
          ]
        }
      ]
    },
    {
      "cell_type": "code",
      "source": [
        "customers_df.createOrReplaceTempView(\"customers\")\n",
        "orders_df.createOrReplaceTempView(\"orders\")\n",
        "\n",
        "spark.sql(\"\"\"\n",
        "    SELECT c.city, SUM(o.amount) AS total_revenue\n",
        "    FROM customers c\n",
        "    JOIN orders o ON c.customer_id = o.customer_id\n",
        "    GROUP BY c.city\n",
        "\"\"\").show()\n",
        "\n",
        "spark.sql(\"\"\"\n",
        "    SELECT c.name, SUM(o.amount) AS total_spend\n",
        "    FROM customers c\n",
        "    JOIN orders o ON c.customer_id = o.customer_id\n",
        "    GROUP BY c.name\n",
        "    ORDER BY total_spend DESC\n",
        "    LIMIT 2\n",
        "\"\"\").show()\n",
        "\n",
        "spark.sql(\"\"\"\n",
        "    SELECT DISTINCT c.name\n",
        "    FROM customers c\n",
        "    JOIN orders o ON c.customer_id = o.customer_id\n",
        "    GROUP BY c.customer_id, c.name\n",
        "    HAVING SUM(o.amount) > 20000\n",
        "\"\"\").show()"
      ],
      "metadata": {
        "colab": {
          "base_uri": "https://localhost:8080/"
        },
        "id": "romQ85yEiii3",
        "outputId": "267c1286-7ad7-431d-905a-adbdddc69e53"
      },
      "execution_count": 5,
      "outputs": [
        {
          "output_type": "stream",
          "name": "stdout",
          "text": [
            "+---------+-------------+\n",
            "|     city|total_revenue|\n",
            "+---------+-------------+\n",
            "|Bangalore|        58000|\n",
            "|   Mumbai|          700|\n",
            "|    Delhi|        47500|\n",
            "|Hyderabad|         5000|\n",
            "+---------+-------------+\n",
            "\n",
            "+------------+-----------+\n",
            "|        name|total_spend|\n",
            "+------------+-----------+\n",
            "|Rahul Sharma|      58000|\n",
            "| Priya Singh|      45000|\n",
            "+------------+-----------+\n",
            "\n",
            "+------------+\n",
            "|        name|\n",
            "+------------+\n",
            "|Rahul Sharma|\n",
            "| Priya Singh|\n",
            "+------------+\n",
            "\n"
          ]
        }
      ]
    }
  ]
}
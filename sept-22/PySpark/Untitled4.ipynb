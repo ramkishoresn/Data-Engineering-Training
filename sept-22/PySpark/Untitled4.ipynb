{
  "nbformat": 4,
  "nbformat_minor": 0,
  "metadata": {
    "colab": {
      "provenance": []
    },
    "kernelspec": {
      "name": "python3",
      "display_name": "Python 3"
    },
    "language_info": {
      "name": "python"
    }
  },
  "cells": [
    {
      "cell_type": "code",
      "execution_count": null,
      "metadata": {
        "id": "snE4Pd5kVmVu"
      },
      "outputs": [],
      "source": [
        "import json\n",
        "\n",
        "json_data = '''\n",
        "\n",
        "[\n",
        "\n",
        "  { \"id\": 1, \"name\": \"Rahul Sharma\", \"age\": 21, \"city\": \"Bangalore\" },\n",
        "\n",
        "  { \"id\": 2, \"name\": \"Priya Singh\", \"age\": 22, \"city\": \"Delhi\" }\n",
        "\n",
        "]\n",
        "\n",
        "'''\n",
        "\n",
        " students = json.loads(json_data)\n",
        "\n",
        "students.append(new_student)\n",
        "\n",
        "for s in students:\n",
        "  if s[\"id\"] ==1:\n",
        "    s[\"city\"] ==\"Pune\"\n",
        "\n",
        "updated_json = json.dumps(students, indent=2)\n",
        "\n",
        "print(\"Updated JSON Data:\\n\",updated_js)"
      ]
    }
  ]
}